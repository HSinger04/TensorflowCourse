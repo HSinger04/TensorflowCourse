{
  "nbformat": 4,
  "nbformat_minor": 0,
  "metadata": {
    "colab": {
      "name": "ANNwTFHW5.ipynb",
      "provenance": [],
      "collapsed_sections": []
    },
    "kernelspec": {
      "name": "python3",
      "language": "python",
      "display_name": "Python 3"
    },
    "accelerator": "GPU"
  },
  "cells": [
    {
      "cell_type": "markdown",
      "metadata": {
        "collapsed": false,
        "pycharm": {
          "name": "#%% md\n"
        },
        "id": "Tk3lP_umiEcA"
      },
      "source": [
        "[![Open In Colab](https://colab.research.google.com/assets/colab-badge.svg)](https://colab.research.google.com/github/sascha-senko/TensorflowCourse/blob/HSinger04/ANNwTFHW5/ANNwTFHW5.ipynb)"
      ]
    },
    {
      "cell_type": "markdown",
      "metadata": {
        "id": "QVUtFQ8JYGv_"
      },
      "source": [
        "## Disclaimer\n",
        "\n",
        "The architecture used in this notebook consists largely of code from https://arxiv.org/pdf/1608.06037.pdf. Differences among other things are the usage of ELU instead of ReLu like in the original paper, as well as not applying weight regularization since that was not necessary to achieve a good enough accuracy.\n",
        "Possibly, there are also other parts we haven't implemented that the original authors did in their paper.\n",
        "\n",
        "If any of the tutors consider not giving us an outstanding due to us not having come up with our own architecture: \n",
        "\n",
        "While I (Hermann) see the argumentation for making students experiment on their own to learn to come up with architectures on their own, I suspect that in practice, most practitioners don't come up with their architecture from scratch but use architectures already shown to be promising from others (with maybe slight modifications). And being able to find those promising architectures is an important skill, which I have slightly improved due to this homework, I believe. As I also obviously haven't used any resources others couldn't have used (all I needed for finding the architecture is googling), I hope that you guys still give us an outstanding :)"
      ]
    },
    {
      "cell_type": "markdown",
      "metadata": {
        "id": "If6lyQRtwScq"
      },
      "source": [
        "## Imports"
      ]
    },
    {
      "cell_type": "code",
      "metadata": {
        "id": "SS5Zdc67wVjk"
      },
      "source": [
        "import matplotlib.pyplot as plt\n",
        "import numpy as np\n",
        "%tensorflow_version 2.x\n",
        "import tensorflow as tf\n",
        "import tensorflow_datasets as tfds\n",
        "from tensorflow.keras.models import Model\n",
        "from tensorflow.keras.layers import Conv2D, MaxPooling2D, Dropout, \\\n",
        "    BatchNormalization, ELU, ReLU, Flatten, Dense, ZeroPadding2D\n",
        "from tensorflow.keras.regularizers import L2\n",
        "from tensorflow.image import random_brightness, random_hue, random_saturation\n",
        "from functools import partial  "
      ],
      "execution_count": 1,
      "outputs": []
    },
    {
      "cell_type": "markdown",
      "metadata": {
        "id": "nLn90j58G2Qo"
      },
      "source": [
        "## Define Model"
      ]
    },
    {
      "cell_type": "code",
      "metadata": {
        "id": "mTiFmm9_G3Wn"
      },
      "source": [
        "class ConvNet(Model):\n",
        "\n",
        "    def __init__(self):\n",
        "        super(ConvNet, self).__init__()\n",
        "        # store architecture as a list to avoid naming them\n",
        "        architecture = []\n",
        "\n",
        "        def conv_sub_arch(filters, kernel_size=[3,3]):\n",
        "            \"\"\" Convenience function for returning getting used sub architectures \"\"\"\n",
        "            architecture.extend([ZeroPadding2D(), \\\n",
        "                                 Conv2D(filters=filters, kernel_size=kernel_size, kernel_regularizer=L2()), \\\n",
        "                                 BatchNormalization(), ELU()])\n",
        "\n",
        "        def pool_sub_arch():\n",
        "            \"\"\" Another convenience function for getting often used sub architectures \"\"\"\n",
        "            architecture.extend([MaxPooling2D(), Dropout(0.1)])\n",
        "        \n",
        "        conv_sub_arch(64)\n",
        "        for i in range(3):\n",
        "            conv_sub_arch(128)\n",
        "        pool_sub_arch()   \n",
        "        for i in range(3):\n",
        "            conv_sub_arch(128)\n",
        "        pool_sub_arch()   \n",
        "        conv_sub_arch(256)\n",
        "        conv_sub_arch(256)\n",
        "        pool_sub_arch()\n",
        "        conv_sub_arch(256)\n",
        "        conv_sub_arch(256)\n",
        "        pool_sub_arch()\n",
        "        # TODO: architecture might be a bit wrong\n",
        "        conv_sub_arch(128)\n",
        "        conv_sub_arch(128, kernel_size=[1,1])\n",
        "        conv_sub_arch(128, kernel_size=[1,1])\n",
        "        pool_sub_arch()\n",
        "        conv_sub_arch(128)\n",
        "        pool_sub_arch()\n",
        "        architecture.append(Flatten())\n",
        "        architecture.append(Dense(10, activation=tf.keras.activations.softmax))\n",
        "        # TODO: try out without Dropout at the end\n",
        "        #architecture.append(Dropout(0.1))\n",
        "\n",
        "        self.architecture = architecture\n",
        "\n",
        "    # TODO: \n",
        "    @tf.function\n",
        "    def call(self, x, training):\n",
        "        for layer in self.architecture:\n",
        "            if isinstance(layer, Dropout) or isinstance(layer, BatchNormalization):\n",
        "                #tf.print(\"training!\")\n",
        "                x = layer(x, training)\n",
        "            else:\n",
        "                #tf.print(\"testing!\")\n",
        "                x = layer(x)                   \n",
        "        return x        "
      ],
      "execution_count": 2,
      "outputs": []
    },
    {
      "cell_type": "markdown",
      "metadata": {
        "id": "XNfHI-9Swfrk"
      },
      "source": [
        "## Load dataset"
      ]
    },
    {
      "cell_type": "code",
      "metadata": {
        "id": "cowuKHOqwfAg"
      },
      "source": [
        "train_data, test_data = tfds.load(\n",
        "    'cifar10', split=['train', 'test'], as_supervised=True)"
      ],
      "execution_count": 3,
      "outputs": []
    },
    {
      "cell_type": "markdown",
      "metadata": {
        "id": "iKx2urxbwma1"
      },
      "source": [
        "## Inspect data set"
      ]
    },
    {
      "cell_type": "code",
      "metadata": {
        "colab": {
          "base_uri": "https://localhost:8080/",
          "height": 75
        },
        "id": "1vVMp_SLwopk",
        "outputId": "a37b8190-2f56-416e-ff0a-1f9ef41ab15a"
      },
      "source": [
        "fig, ax = plt.subplots(1,10)\n",
        "shapes = []\n",
        "\n",
        "num_to_name = [\"airplane\", \"automobile\", \"bird\", \"cat\", \"deer\", \"dog\", \"frog\", \"horse\",\n",
        "\"ship\", \"truck\"]\n",
        "\n",
        "for i, (img, lbl) in enumerate(train_data):\n",
        "    if i == 10:\n",
        "        break\n",
        "    ax[i].imshow(img, cmap='gray')\n",
        "    ax[i].set_title(num_to_name[lbl.numpy()])\n",
        "    ax[i].axis(\"off\")\n",
        "    shapes.append(img.shape)"
      ],
      "execution_count": 4,
      "outputs": [
        {
          "output_type": "display_data",
          "data": {
            "image/png": "[encoded data removed]",
            "text/plain": [
              "<Figure size 432x288 with 10 Axes>"
            ]
          },
          "metadata": {
            "tags": [],
            "needs_background": "light"
          }
        }
      ]
    },
    {
      "cell_type": "markdown",
      "metadata": {
        "id": "KMaxBk-2ws_6"
      },
      "source": [
        "## Define some constants"
      ]
    },
    {
      "cell_type": "code",
      "metadata": {
        "id": "5BeTRDjGwtpy"
      },
      "source": [
        "# arbitrarily set. Feel free to change these\n",
        "PREFETCH_SIZE = tf.data.experimental.AUTOTUNE\n",
        "BATCH_SIZE = 128"
      ],
      "execution_count": 5,
      "outputs": []
    },
    {
      "cell_type": "markdown",
      "metadata": {
        "id": "WhOipCR-wxPZ"
      },
      "source": [
        "## Prepare data"
      ]
    },
    {
      "cell_type": "code",
      "metadata": {
        "id": "dMWeKpJqwx_Q"
      },
      "source": [
        "def process_inp_and_label(input, label, training):\n",
        "    \"\"\" rescale inputs and onehotify labels \"\"\"\n",
        "    new_input = input / 255\n",
        "    # TODO:\n",
        "    \"\"\"\n",
        "    if training:\n",
        "        new_input = random_brightness(new_input, 0.2)\n",
        "        new_input = random_hue(new_input, 0.2) \n",
        "        #new_input = random_saturation(new_input)     \n",
        "    \"\"\"       \n",
        "    return new_input, tf.one_hot(label, 10)\n",
        "\n",
        "def data_pipeline(data, training):\n",
        "    \"\"\" helper function for data pipeline - does all the things we need \"\"\"\n",
        "    map_func = partial(process_inp_and_label, training=training)\n",
        "    data = data.map(map_func)\n",
        "    # arbitrarily set buffer_size - feel free to use sth. else\n",
        "    data = data.shuffle(buffer_size=BATCH_SIZE)\n",
        "    data = data.batch(BATCH_SIZE)\n",
        "    data = data.prefetch(PREFETCH_SIZE)\n",
        "    return data\n",
        "\n",
        "train_data = data_pipeline(train_data, True)\n",
        "test_data = data_pipeline(test_data, False)"
      ],
      "execution_count": 6,
      "outputs": []
    },
    {
      "cell_type": "markdown",
      "metadata": {
        "id": "8lq65UcYw07K"
      },
      "source": [
        "## Define helper functions"
      ]
    },
    {
      "cell_type": "code",
      "metadata": {
        "id": "epINO_Nvw1fC"
      },
      "source": [
        "def train_step(model, input, target, loss_function, optimizer):\n",
        "    accuracy = None\n",
        "\n",
        "    # loss_object and optimizer_object are instances of respective tensorflow classes\n",
        "    with tf.GradientTape() as tape:    \n",
        "        prediction = model(input, tf.constant(True, dtype='bool'))\n",
        "        accuracy = np.argmax(target, axis=1) == np.argmax(prediction, axis=1)\n",
        "        loss = loss_function(target, prediction)\n",
        "        gradients = tape.gradient(loss, model.trainable_variables)\n",
        "        optimizer.apply_gradients(zip(gradients, model.trainable_variables))\n",
        "\n",
        "    accuracy = np.mean(accuracy)\n",
        "\n",
        "    return loss, accuracy\n",
        "\n",
        "def test(model, test_data, loss_function):\n",
        "    # test over complete test data\n",
        "\n",
        "    test_accuracy_aggregator = []\n",
        "    test_loss_aggregator = []\n",
        "\n",
        "    for (input, target) in test_data:\n",
        "        prediction = model.predict(input)\n",
        "        sample_test_loss = loss_function(target, prediction)\n",
        "        sample_test_accuracy = np.argmax(target, axis=1) == np.argmax(prediction, axis=1)\n",
        "        # TODO: maybe change back\n",
        "        #sample_test_accuracy = np.mean(sample_test_accuracy)\n",
        "        test_loss_aggregator.append(sample_test_loss.numpy())\n",
        "        test_accuracy_aggregator.extend(sample_test_accuracy)\n",
        "\n",
        "    test_loss = np.mean(test_loss_aggregator)\n",
        "    test_accuracy = np.mean(test_accuracy_aggregator)\n",
        "\n",
        "    return test_loss, test_accuracy\n",
        "\n",
        "def plot_stats(train_stat, test_stat, stat_name):\n",
        "    plt.figure()\n",
        "    line1, = plt.plot(train_stat)\n",
        "    line2, = plt.plot(test_stat)\n",
        "    plt.xlabel(\"Training steps\")\n",
        "    plt.ylabel(stat_name)\n",
        "    plt.legend((line1, line2), (\"training\", \"test\"))\n",
        "    plt.show()"
      ],
      "execution_count": 7,
      "outputs": []
    },
    {
      "cell_type": "markdown",
      "metadata": {
        "id": "8y89-0UgxHZ1"
      },
      "source": [
        "## Prepare for training"
      ]
    },
    {
      "cell_type": "code",
      "metadata": {
        "id": "8UODyYDJheRD"
      },
      "source": [
        "tf.keras.backend.clear_session()"
      ],
      "execution_count": 8,
      "outputs": []
    },
    {
      "cell_type": "code",
      "metadata": {
        "id": "oLva1oEcxH6M"
      },
      "source": [
        "num_epochs = 10\n",
        "learning_rate = 0.001\n",
        "# set to 0 if you want to use mean instead of running average\n",
        "running_average_factor = 0\n",
        "loss = tf.keras.losses.CategoricalCrossentropy()\n",
        "optimizer = tf.keras.optimizers.Adam(learning_rate)\n",
        "\n",
        "model = ConvNet()\n",
        "\n",
        "# define calc_stat here to access running_average_factor\n",
        "def calc_stat(stat_so_far, new_stat, stat_num):\n",
        "    \"\"\"Calculates appropriate statistic\n",
        "\n",
        "    :param stat_so_far: the statistic that we have observed so far\n",
        "    :param new_stat: the newest observed statistic\n",
        "    :param stat_num: new_stat is the stat_num-th observed statistic\n",
        "    :return: if 0, return mean, else running average\n",
        "    \"\"\"\n",
        "\n",
        "    if running_average_factor:\n",
        "        return running_average_factor * stat_so_far + (1 - running_average_factor) * new_stat\n",
        "    # calculate mean of observed statistics so far\n",
        "    return ((stat_num - 1) * stat_so_far + new_stat) / stat_num\n",
        "\n",
        "# Initialize lists for later visualization.\n",
        "train_losses = []\n",
        "train_accuracies = []\n",
        "test_losses = []\n",
        "test_accuracies = []"
      ],
      "execution_count": 9,
      "outputs": []
    },
    {
      "cell_type": "markdown",
      "metadata": {
        "id": "STc3UVtvxMkw",
        "pycharm": {
          "name": "#%% md\n"
        }
      },
      "source": [
        "##Train"
      ]
    },
    {
      "cell_type": "code",
      "metadata": {
        "pycharm": {
          "name": "#%%\n"
        },
        "colab": {
          "base_uri": "https://localhost:8080/"
        },
        "id": "KeELcVazqdsf",
        "outputId": "25956fea-959e-48ce-e19a-6538e834a468"
      },
      "source": [
        "for epoch in range(num_epochs):\n",
        "    print('Epoch: ' + str(epoch+1))\n",
        "\n",
        "    # shuffle train data. No need to shuffle test data\n",
        "    train_data = train_data.shuffle(buffer_size=BATCH_SIZE)\n",
        "\n",
        "    train_loss_stat = 0\n",
        "    train_accuracy_stat = 0\n",
        "    for i, (input, target) in enumerate(train_data):\n",
        "        train_loss, train_accuracy = train_step(model, input, target, loss, optimizer)\n",
        "        train_loss_stat = calc_stat(train_loss_stat, train_loss, i+1)\n",
        "        train_accuracy_stat = calc_stat(train_accuracy_stat, train_accuracy, i+1)\n",
        "    train_losses.append(train_loss_stat)\n",
        "    train_accuracies.append(train_accuracy_stat)\n",
        "\n",
        "    # testing\n",
        "    test_loss, test_accuracy = test(model, test_data, loss)\n",
        "    test_losses.append(test_loss)\n",
        "    test_accuracies.append(test_accuracy)"
      ],
      "execution_count": 10,
      "outputs": [
        {
          "output_type": "stream",
          "text": [
            "Epoch: 1\n",
            "Epoch: 2\n",
            "Epoch: 3\n",
            "Epoch: 4\n",
            "Epoch: 5\n",
            "Epoch: 6\n",
            "Epoch: 7\n",
            "Epoch: 8\n",
            "Epoch: 9\n",
            "Epoch: 10\n"
          ],
          "name": "stdout"
        }
      ]
    },
    {
      "cell_type": "markdown",
      "metadata": {
        "id": "z4n2v1CLxOgJ"
      },
      "source": [
        "##Plot"
      ]
    },
    {
      "cell_type": "code",
      "metadata": {
        "id": "pLGR-RGRxP_0",
        "colab": {
          "base_uri": "https://localhost:8080/",
          "height": 541
        },
        "outputId": "e28512e1-67d4-432e-b659-65df6f17d537"
      },
      "source": [
        "# model consistently performs better on test set than training set due to dropout\n",
        "plot_stats(train_losses, test_losses, \"Loss\")\n",
        "plot_stats(train_accuracies, test_accuracies, \"Accuracy\")"
      ],
      "execution_count": 11,
      "outputs": [
        {
          "output_type": "display_data",
          "data": {
            "image/png": "[encoded data removed]",
            "text/plain": [
              "<Figure size 432x288 with 1 Axes>"
            ]
          },
          "metadata": {
            "tags": [],
            "needs_background": "light"
          }
        },
        {
          "output_type": "display_data",
          "data": {
            "image/png": "[encoded data removed]",
            "text/plain": [
              "<Figure size 432x288 with 1 Axes>"
            ]
          },
          "metadata": {
            "tags": [],
            "needs_background": "light"
          }
        }
      ]
    },
    {
      "cell_type": "markdown",
      "metadata": {
        "id": "9cT8hmJVxS3h"
      },
      "source": [
        "## Assert test accuracy over 85%"
      ]
    },
    {
      "cell_type": "code",
      "metadata": {
        "id": "WkGtQExqxTXN",
        "colab": {
          "base_uri": "https://localhost:8080/",
          "height": 185
        },
        "outputId": "c076518a-e28c-44a6-f8ca-e1ee3afc2508"
      },
      "source": [
        "assert test_accuracies[-1] >= 0.85\n",
        "print(test_accuracies)"
      ],
      "execution_count": 12,
      "outputs": [
        {
          "output_type": "error",
          "ename": "AssertionError",
          "evalue": "ignored",
          "traceback": [
            "\u001b[0;31m---------------------------------------------------------------------------\u001b[0m",
            "\u001b[0;31mAssertionError\u001b[0m                            Traceback (most recent call last)",
            "\u001b[0;32m<ipython-input-12-f4c7aeb806bc>\u001b[0m in \u001b[0;36m<module>\u001b[0;34m()\u001b[0m\n\u001b[0;32m----> 1\u001b[0;31m \u001b[0;32massert\u001b[0m \u001b[0mtest_accuracies\u001b[0m\u001b[0;34m[\u001b[0m\u001b[0;34m-\u001b[0m\u001b[0;36m1\u001b[0m\u001b[0;34m]\u001b[0m \u001b[0;34m>=\u001b[0m \u001b[0;36m0.85\u001b[0m\u001b[0;34m\u001b[0m\u001b[0;34m\u001b[0m\u001b[0m\n\u001b[0m\u001b[1;32m      2\u001b[0m \u001b[0mprint\u001b[0m\u001b[0;34m(\u001b[0m\u001b[0mtest_accuracies\u001b[0m\u001b[0;34m)\u001b[0m\u001b[0;34m\u001b[0m\u001b[0;34m\u001b[0m\u001b[0m\n",
            "\u001b[0;31mAssertionError\u001b[0m: "
          ]
        }
      ]
    },
    {
      "cell_type": "code",
      "metadata": {
        "id": "Hi8v4dMR9TrF"
      },
      "source": [
        "num_to_name = [\"airplane\", \"automobile\", \"bird\", \"cat\", \"deer\", \"dog\", \"frog\", \"horse\",\n",
        "\"ship\", \"truck\"]\n",
        "\n",
        "fig, ax = plt.subplots(1,5)\n",
        "\n",
        "for (img_batch, lbl_batch) in test_data:\n",
        "    for i in range(100):\n",
        "        if i % 5 == 0:\n",
        "            fig, ax = plt.subplots(1,5)\n",
        "        img = img_batch[i]\n",
        "        lbl = lbl_batch[i]\n",
        "        pred = model.predict(tf.expand_dims(img, axis=0))\n",
        "        pred = np.argmax(pred, axis=1)\n",
        "        ax[i].imshow(img, cmap='gray')\n",
        "        ax[i].set_title(num_to_name[pred[0]])\n",
        "        ax[i].axis(\"off\")\n",
        "    break"
      ],
      "execution_count": null,
      "outputs": []
    },
    {
      "cell_type": "code",
      "metadata": {
        "id": "V3qSQwUeu6HG"
      },
      "source": [
        ""
      ],
      "execution_count": null,
      "outputs": []
    }
  ]
}