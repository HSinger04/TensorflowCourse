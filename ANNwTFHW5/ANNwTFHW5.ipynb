{
 "nbformat": 4,
 "nbformat_minor": 0,
 "metadata": {
  "colab": {
   "name": "ANNwTFHW5.ipynb",
   "provenance": [],
   "collapsed_sections": []
  },
  "kernelspec": {
   "name": "python3",
   "language": "python",
   "display_name": "Python 3"
  },
  "accelerator": "GPU"
 },
 "cells": [
  {
   "cell_type": "markdown",
   "metadata": {
    "collapsed": false,
    "pycharm": {
     "name": "#%% md\n"
    },
    "id": "Tk3lP_umiEcA"
   },
   "source": [
    "[![Open In Colab](https://colab.research.google.com/assets/colab-badge.svg)](https://colab.research.google.com/github/sascha-senko/TensorflowCourse/blob/HSinger04/ANNwTFHW5/ANNwTFHW5.ipynb)"
   ]
  },
  {
   "cell_type": "markdown",
   "metadata": {
    "id": "If6lyQRtwScq"
   },
   "source": [
    "## Imports"
   ]
  },
  {
   "cell_type": "code",
   "metadata": {
    "id": "SS5Zdc67wVjk"
   },
   "source": [
    "import matplotlib.pyplot as plt\n",
    "import numpy as np\n",
    "# TODO: uncomment for colab\n",
    "#%tensorflow_version 2.x\n",
    "import tensorflow as tf\n",
    "import tensorflow_datasets as tfds\n",
    "from tensorflow.keras.models import Sequential\n",
    "from tensorflow.keras.layers import Conv2D, MaxPooling2D, Dropout, \\\n",
    "    BatchNormalization, ReLU, ELU, Flatten, Dense"
   ],
   "execution_count": 34,
   "outputs": []
  },
  {
   "cell_type": "markdown",
   "metadata": {
    "id": "nLn90j58G2Qo"
   },
   "source": [
    "## Define Model"
   ]
  },
  {
   "cell_type": "code",
   "metadata": {
    "id": "mTiFmm9_G3Wn"
   },
   "source": [
    "model = Sequential()\n",
    "\n",
    "# TODO: interpret padding correctly and use it here\n",
    "def add_conv_to_model(filters, kernel_size=[3,3]):\n",
    "    \"\"\" Convenience function for adding often used sub architectures \"\"\"\n",
    "    #raise NotImplementedError(\"# TODO: interpret padding correctly and use it here\")\n",
    "    model.add(Conv2D(filters=filters, kernel_size=kernel_size))\n",
    "    # TODO: BN not exactly like in paper - compare later\n",
    "    model.add(BatchNormalization(momentum=0.05))\n",
    "    # TODO: Maybe difference compared to paper\n",
    "    # TODO I can also try implementing a different ReLU\n",
    "    model.add(ELU())\n",
    "\n",
    "def add_pool_to_model():\n",
    "    \"\"\" Another convenience function for adding often used sub architectures \"\"\"\n",
    "    # TODO: didn't implement everything from paper\n",
    "    model.add(MaxPooling2D(strides=(2,2)))\n",
    "    model.add(Dropout(0.1))\n",
    "\n",
    "add_conv_to_model(64)\n",
    "add_conv_to_model(128)\n",
    "add_conv_to_model(128)\n",
    "add_conv_to_model(128)\n",
    "add_pool_to_model()\n",
    "add_conv_to_model(128)\n",
    "add_conv_to_model(128)\n",
    "add_conv_to_model(128)\n",
    "add_pool_to_model()\n",
    "add_conv_to_model(128)\n",
    "add_conv_to_model(128, kernel_size=[1,1])\n",
    "add_conv_to_model(128, kernel_size=[1,1])\n",
    "add_pool_to_model()\n",
    "add_conv_to_model(128)\n",
    "add_pool_to_model()\n",
    "\n",
    "# newest version, but pretty big\n",
    "\"\"\"\n",
    "add_conv_to_model(64)\n",
    "add_conv_to_model(128)\n",
    "add_conv_to_model(128)\n",
    "add_conv_to_model(128)\n",
    "add_pool_to_model()\n",
    "add_conv_to_model(128)\n",
    "add_conv_to_model(128)\n",
    "add_conv_to_model(256)\n",
    "add_pool_to_model()\n",
    "add_conv_to_model(256)\n",
    "add_conv_to_model(256)\n",
    "add_pool_to_model()\n",
    "add_conv_to_model(512)\n",
    "add_pool_to_model()\n",
    "add_conv_to_model(2048, kernel_size=[1, 1])\n",
    "add_conv_to_model(256, kernel_size=[1, 1])\n",
    "add_pool_to_model()\n",
    "add_conv_to_model(256)\n",
    "\"\"\"\n",
    "\n",
    "# TODO: in the original implementation, maxpool2d appears here\n",
    "model.add(Flatten())\n",
    "model.add(Dense(10, activation=tf.keras.activations.softmax))\n",
    "model.add(Dropout(0.1))\n",
    "\n",
    "# TODO: assert that model has been correctly built"
   ],
   "execution_count": 36,
   "outputs": []
  },
  {
   "cell_type": "markdown",
   "metadata": {
    "id": "XNfHI-9Swfrk"
   },
   "source": [
    "## Load dataset"
   ]
  },
  {
   "cell_type": "code",
   "metadata": {
    "id": "cowuKHOqwfAg"
   },
   "source": [
    "train_data, test_data = tfds.load(\n",
    "    'cifar10', split=['train', 'test'], as_supervised=True)"
   ],
   "execution_count": 37,
   "outputs": []
  },
  {
   "cell_type": "markdown",
   "metadata": {
    "id": "iKx2urxbwma1"
   },
   "source": [
    "## Inspect data set"
   ]
  },
  {
   "cell_type": "code",
   "metadata": {
    "colab": {
     "base_uri": "https://localhost:8080/",
     "height": 75
    },
    "id": "1vVMp_SLwopk",
    "outputId": "7869b0e0-1c9e-459e-c450-c21e2303fdd1"
   },
   "source": [
    "fig, ax = plt.subplots(1,10)\n",
    "shapes = []\n",
    "\n",
    "num_to_name = [\"airplane\", \"automobile\", \"bird\", \"cat\", \"deer\", \"dog\", \"frog\", \"horse\",\n",
    "\"ship\", \"truck\"]\n",
    "\n",
    "# TODO: print names instead of numerical labels\n",
    "for i, (img, lbl) in enumerate(train_data):\n",
    "    if i == 10:\n",
    "        break\n",
    "    ax[i].imshow(img, cmap='gray')\n",
    "    ax[i].set_title(num_to_name[lbl.numpy()])\n",
    "    ax[i].axis(\"off\")\n",
    "    shapes.append(img.shape)"
   ],
   "execution_count": 38,
   "outputs": [
    {
     "data": {
      "text/plain": "<Figure size 432x288 with 10 Axes>",
      "image/png": "[encoded data removed]"
     },
     "metadata": {
      "needs_background": "light"
     },
     "output_type": "display_data"
    }
   ]
  },
  {
   "cell_type": "markdown",
   "metadata": {
    "id": "KMaxBk-2ws_6"
   },
   "source": [
    "## Define some constants"
   ]
  },
  {
   "cell_type": "code",
   "metadata": {
    "id": "5BeTRDjGwtpy"
   },
   "source": [
    "# arbitrarily set. Feel free to change these\n",
    "PREFETCH_SIZE = tf.data.experimental.AUTOTUNE\n",
    "BATCH_SIZE = 128"
   ],
   "execution_count": 39,
   "outputs": []
  },
  {
   "cell_type": "markdown",
   "metadata": {
    "id": "WhOipCR-wxPZ"
   },
   "source": [
    "## Prepare data"
   ]
  },
  {
   "cell_type": "code",
   "metadata": {
    "id": "dMWeKpJqwx_Q"
   },
   "source": [
    "def process_inp_and_label(input, label):\n",
    "    \"\"\" rescale inputs and onehotify labels \"\"\"\n",
    "    new_input = input / 255\n",
    "    return new_input, tf.one_hot(label, 10)\n",
    "\n",
    "def data_pipeline(data):\n",
    "    \"\"\" helper function for data pipeline - does all the things we need \"\"\"\n",
    "    data = data.map(process_inp_and_label)\n",
    "    # arbitrarily set buffer_size - feel free to use sth. else\n",
    "    data = data.shuffle(buffer_size=BATCH_SIZE)\n",
    "    data = data.batch(BATCH_SIZE)\n",
    "    data = data.prefetch(PREFETCH_SIZE)\n",
    "    return data\n",
    "\n",
    "train_data = data_pipeline(train_data)\n",
    "test_data = data_pipeline(test_data)"
   ],
   "execution_count": 40,
   "outputs": []
  },
  {
   "cell_type": "markdown",
   "metadata": {
    "id": "8lq65UcYw07K"
   },
   "source": [
    "## Define helper functions"
   ]
  },
  {
   "cell_type": "code",
   "metadata": {
    "id": "epINO_Nvw1fC"
   },
   "source": [
    "def train_step(model, input, target, loss_function, optimizer):\n",
    "    accuracy = None\n",
    "\n",
    "    # loss_object and optimizer_object are instances of respective tensorflow classes\n",
    "    with tf.GradientTape() as tape:\n",
    "        prediction = model(input)\n",
    "        accuracy = np.argmax(target, axis=1) == np.argmax(prediction, axis=1)\n",
    "        loss = loss_function(target, prediction)\n",
    "        gradients = tape.gradient(loss, model.trainable_variables)\n",
    "        optimizer.apply_gradients(zip(gradients, model.trainable_variables))\n",
    "\n",
    "    accuracy = np.mean(accuracy)\n",
    "\n",
    "    return loss, accuracy\n",
    "\n",
    "def test(model, test_data, loss_function):\n",
    "    # test over complete test data\n",
    "\n",
    "    test_accuracy_aggregator = []\n",
    "    test_loss_aggregator = []\n",
    "\n",
    "    for (input, target) in test_data:\n",
    "        prediction = model(input)\n",
    "        sample_test_loss = loss_function(target, prediction)\n",
    "        sample_test_accuracy = np.argmax(target, axis=1) == np.argmax(prediction, axis=1)\n",
    "        sample_test_accuracy = np.mean(sample_test_accuracy)\n",
    "        test_loss_aggregator.append(sample_test_loss.numpy())\n",
    "        test_accuracy_aggregator.append(sample_test_accuracy)\n",
    "\n",
    "    test_loss = np.mean(test_loss_aggregator)\n",
    "    test_accuracy = np.mean(test_accuracy_aggregator)\n",
    "\n",
    "    return test_loss, test_accuracy\n",
    "\n",
    "def plot_stats(train_stat, test_stat, stat_name):\n",
    "    plt.figure()\n",
    "    line1, = plt.plot(train_stat)\n",
    "    line2, = plt.plot(test_stat)\n",
    "    plt.xlabel(\"Training steps\")\n",
    "    plt.ylabel(stat_name)\n",
    "    plt.legend((line1, line2), (\"training\", \"test\"))\n",
    "    plt.show()"
   ],
   "execution_count": 41,
   "outputs": []
  },
  {
   "cell_type": "code",
   "metadata": {
    "id": "UlnvIySIw5gn"
   },
   "source": [
    "tf.keras.backend.clear_session()"
   ],
   "execution_count": 42,
   "outputs": []
  },
  {
   "cell_type": "markdown",
   "metadata": {
    "id": "8y89-0UgxHZ1"
   },
   "source": [
    "## Prepare for training"
   ]
  },
  {
   "cell_type": "code",
   "metadata": {
    "id": "oLva1oEcxH6M"
   },
   "source": [
    "num_epochs = 10\n",
    "learning_rate = 0.001\n",
    "# set to 0 if you want to use mean instead of running average\n",
    "running_average_factor = 0\n",
    "loss = tf.keras.losses.CategoricalCrossentropy()\n",
    "optimizer = tf.keras.optimizers.Adam(learning_rate)\n",
    "\n",
    "# define calc_stat here to access running_average_factor\n",
    "def calc_stat(stat_so_far, new_stat, stat_num):\n",
    "    \"\"\"Calculates appropriate statistic\n",
    "\n",
    "    :param stat_so_far: the statistic that we have observed so far\n",
    "    :param new_stat: the newest observed statistic\n",
    "    :param stat_num: new_stat is the stat_num-th observed statistic\n",
    "    :return: if 0, return mean, else running average\n",
    "    \"\"\"\n",
    "\n",
    "    if running_average_factor:\n",
    "        return running_average_factor * stat_so_far + (1 - running_average_factor) * new_stat\n",
    "    # calculate mean of observed statistics so far\n",
    "    return ((stat_num - 1) * stat_so_far + new_stat) / stat_num\n",
    "\n",
    "# Initialize lists for later visualization.\n",
    "train_losses = []\n",
    "train_accuracies = []\n",
    "test_losses = []\n",
    "test_accuracies = []"
   ],
   "execution_count": 43,
   "outputs": []
  },
  {
   "cell_type": "markdown",
   "metadata": {
    "id": "STc3UVtvxMkw",
    "pycharm": {
     "name": "#%% md\n"
    }
   },
   "source": [
    "##Train"
   ]
  },
  {
   "cell_type": "code",
   "execution_count": 46,
   "outputs": [
    {
     "name": "stdout",
     "output_type": "stream",
     "text": [
      "Epoch: 1\n"
     ]
    },
    {
     "ename": "InvalidArgumentError",
     "evalue": "Computed output size would be negative: -2 [input_size: 0, effective_filter_size: 3, stride: 1] [Op:Conv2D]",
     "output_type": "error",
     "traceback": [
      "\u001B[0;31m---------------------------------------------------------------------------\u001B[0m",
      "\u001B[0;31mInvalidArgumentError\u001B[0m                      Traceback (most recent call last)",
      "\u001B[0;32m<ipython-input-46-3ee0234b114b>\u001B[0m in \u001B[0;36m<module>\u001B[0;34m\u001B[0m\n\u001B[1;32m      9\u001B[0m     \u001B[0mtrain_accuracy_stat\u001B[0m \u001B[0;34m=\u001B[0m \u001B[0;36m0\u001B[0m\u001B[0;34m\u001B[0m\u001B[0;34m\u001B[0m\u001B[0m\n\u001B[1;32m     10\u001B[0m     \u001B[0;32mfor\u001B[0m \u001B[0mi\u001B[0m\u001B[0;34m,\u001B[0m \u001B[0;34m(\u001B[0m\u001B[0minput\u001B[0m\u001B[0;34m,\u001B[0m \u001B[0mtarget\u001B[0m\u001B[0;34m)\u001B[0m \u001B[0;32min\u001B[0m \u001B[0menumerate\u001B[0m\u001B[0;34m(\u001B[0m\u001B[0mtrain_data\u001B[0m\u001B[0;34m)\u001B[0m\u001B[0;34m:\u001B[0m\u001B[0;34m\u001B[0m\u001B[0;34m\u001B[0m\u001B[0m\n\u001B[0;32m---> 11\u001B[0;31m         \u001B[0mtrain_loss\u001B[0m\u001B[0;34m,\u001B[0m \u001B[0mtrain_accuracy\u001B[0m \u001B[0;34m=\u001B[0m \u001B[0mtrain_step\u001B[0m\u001B[0;34m(\u001B[0m\u001B[0mmodel\u001B[0m\u001B[0;34m,\u001B[0m \u001B[0minput\u001B[0m\u001B[0;34m,\u001B[0m \u001B[0mtarget\u001B[0m\u001B[0;34m,\u001B[0m \u001B[0mloss\u001B[0m\u001B[0;34m,\u001B[0m \u001B[0moptimizer\u001B[0m\u001B[0;34m)\u001B[0m\u001B[0;34m\u001B[0m\u001B[0;34m\u001B[0m\u001B[0m\n\u001B[0m\u001B[1;32m     12\u001B[0m         \u001B[0mtrain_loss_stat\u001B[0m \u001B[0;34m=\u001B[0m \u001B[0mcalc_stat\u001B[0m\u001B[0;34m(\u001B[0m\u001B[0mtrain_loss_stat\u001B[0m\u001B[0;34m,\u001B[0m \u001B[0mtrain_loss\u001B[0m\u001B[0;34m,\u001B[0m \u001B[0mi\u001B[0m\u001B[0;34m+\u001B[0m\u001B[0;36m1\u001B[0m\u001B[0;34m)\u001B[0m\u001B[0;34m\u001B[0m\u001B[0;34m\u001B[0m\u001B[0m\n\u001B[1;32m     13\u001B[0m         \u001B[0mtrain_accuracy_stat\u001B[0m \u001B[0;34m=\u001B[0m \u001B[0mcalc_stat\u001B[0m\u001B[0;34m(\u001B[0m\u001B[0mtrain_accuracy_stat\u001B[0m\u001B[0;34m,\u001B[0m \u001B[0mtrain_accuracy\u001B[0m\u001B[0;34m,\u001B[0m \u001B[0mi\u001B[0m\u001B[0;34m+\u001B[0m\u001B[0;36m1\u001B[0m\u001B[0;34m)\u001B[0m\u001B[0;34m\u001B[0m\u001B[0;34m\u001B[0m\u001B[0m\n",
      "\u001B[0;32m<ipython-input-41-80cc3e73e361>\u001B[0m in \u001B[0;36mtrain_step\u001B[0;34m(model, input, target, loss_function, optimizer)\u001B[0m\n\u001B[1;32m      4\u001B[0m     \u001B[0;31m# loss_object and optimizer_object are instances of respective tensorflow classes\u001B[0m\u001B[0;34m\u001B[0m\u001B[0;34m\u001B[0m\u001B[0;34m\u001B[0m\u001B[0m\n\u001B[1;32m      5\u001B[0m     \u001B[0;32mwith\u001B[0m \u001B[0mtf\u001B[0m\u001B[0;34m.\u001B[0m\u001B[0mGradientTape\u001B[0m\u001B[0;34m(\u001B[0m\u001B[0;34m)\u001B[0m \u001B[0;32mas\u001B[0m \u001B[0mtape\u001B[0m\u001B[0;34m:\u001B[0m\u001B[0;34m\u001B[0m\u001B[0;34m\u001B[0m\u001B[0m\n\u001B[0;32m----> 6\u001B[0;31m         \u001B[0mprediction\u001B[0m \u001B[0;34m=\u001B[0m \u001B[0mmodel\u001B[0m\u001B[0;34m(\u001B[0m\u001B[0minput\u001B[0m\u001B[0;34m)\u001B[0m\u001B[0;34m\u001B[0m\u001B[0;34m\u001B[0m\u001B[0m\n\u001B[0m\u001B[1;32m      7\u001B[0m         \u001B[0maccuracy\u001B[0m \u001B[0;34m=\u001B[0m \u001B[0mnp\u001B[0m\u001B[0;34m.\u001B[0m\u001B[0margmax\u001B[0m\u001B[0;34m(\u001B[0m\u001B[0mtarget\u001B[0m\u001B[0;34m,\u001B[0m \u001B[0maxis\u001B[0m\u001B[0;34m=\u001B[0m\u001B[0;36m1\u001B[0m\u001B[0;34m)\u001B[0m \u001B[0;34m==\u001B[0m \u001B[0mnp\u001B[0m\u001B[0;34m.\u001B[0m\u001B[0margmax\u001B[0m\u001B[0;34m(\u001B[0m\u001B[0mprediction\u001B[0m\u001B[0;34m,\u001B[0m \u001B[0maxis\u001B[0m\u001B[0;34m=\u001B[0m\u001B[0;36m1\u001B[0m\u001B[0;34m)\u001B[0m\u001B[0;34m\u001B[0m\u001B[0;34m\u001B[0m\u001B[0m\n\u001B[1;32m      8\u001B[0m         \u001B[0mloss\u001B[0m \u001B[0;34m=\u001B[0m \u001B[0mloss_function\u001B[0m\u001B[0;34m(\u001B[0m\u001B[0mtarget\u001B[0m\u001B[0;34m,\u001B[0m \u001B[0mprediction\u001B[0m\u001B[0;34m)\u001B[0m\u001B[0;34m\u001B[0m\u001B[0;34m\u001B[0m\u001B[0m\n",
      "\u001B[0;32m~/PycharmProjects/IANNwTF/lib/python3.6/site-packages/tensorflow/python/keras/engine/base_layer.py\u001B[0m in \u001B[0;36m__call__\u001B[0;34m(self, *args, **kwargs)\u001B[0m\n\u001B[1;32m    983\u001B[0m \u001B[0;34m\u001B[0m\u001B[0m\n\u001B[1;32m    984\u001B[0m         \u001B[0;32mwith\u001B[0m \u001B[0mops\u001B[0m\u001B[0;34m.\u001B[0m\u001B[0menable_auto_cast_variables\u001B[0m\u001B[0;34m(\u001B[0m\u001B[0mself\u001B[0m\u001B[0;34m.\u001B[0m\u001B[0m_compute_dtype_object\u001B[0m\u001B[0;34m)\u001B[0m\u001B[0;34m:\u001B[0m\u001B[0;34m\u001B[0m\u001B[0;34m\u001B[0m\u001B[0m\n\u001B[0;32m--> 985\u001B[0;31m           \u001B[0moutputs\u001B[0m \u001B[0;34m=\u001B[0m \u001B[0mcall_fn\u001B[0m\u001B[0;34m(\u001B[0m\u001B[0minputs\u001B[0m\u001B[0;34m,\u001B[0m \u001B[0;34m*\u001B[0m\u001B[0margs\u001B[0m\u001B[0;34m,\u001B[0m \u001B[0;34m**\u001B[0m\u001B[0mkwargs\u001B[0m\u001B[0;34m)\u001B[0m\u001B[0;34m\u001B[0m\u001B[0;34m\u001B[0m\u001B[0m\n\u001B[0m\u001B[1;32m    986\u001B[0m \u001B[0;34m\u001B[0m\u001B[0m\n\u001B[1;32m    987\u001B[0m         \u001B[0;32mif\u001B[0m \u001B[0mself\u001B[0m\u001B[0;34m.\u001B[0m\u001B[0m_activity_regularizer\u001B[0m\u001B[0;34m:\u001B[0m\u001B[0;34m\u001B[0m\u001B[0;34m\u001B[0m\u001B[0m\n",
      "\u001B[0;32m~/PycharmProjects/IANNwTF/lib/python3.6/site-packages/tensorflow/python/keras/engine/sequential.py\u001B[0m in \u001B[0;36mcall\u001B[0;34m(self, inputs, training, mask)\u001B[0m\n\u001B[1;32m    384\u001B[0m         \u001B[0mkwargs\u001B[0m\u001B[0;34m[\u001B[0m\u001B[0;34m'training'\u001B[0m\u001B[0;34m]\u001B[0m \u001B[0;34m=\u001B[0m \u001B[0mtraining\u001B[0m\u001B[0;34m\u001B[0m\u001B[0;34m\u001B[0m\u001B[0m\n\u001B[1;32m    385\u001B[0m \u001B[0;34m\u001B[0m\u001B[0m\n\u001B[0;32m--> 386\u001B[0;31m       \u001B[0moutputs\u001B[0m \u001B[0;34m=\u001B[0m \u001B[0mlayer\u001B[0m\u001B[0;34m(\u001B[0m\u001B[0minputs\u001B[0m\u001B[0;34m,\u001B[0m \u001B[0;34m**\u001B[0m\u001B[0mkwargs\u001B[0m\u001B[0;34m)\u001B[0m\u001B[0;34m\u001B[0m\u001B[0;34m\u001B[0m\u001B[0m\n\u001B[0m\u001B[1;32m    387\u001B[0m \u001B[0;34m\u001B[0m\u001B[0m\n\u001B[1;32m    388\u001B[0m       \u001B[0;32mif\u001B[0m \u001B[0mlen\u001B[0m\u001B[0;34m(\u001B[0m\u001B[0mnest\u001B[0m\u001B[0;34m.\u001B[0m\u001B[0mflatten\u001B[0m\u001B[0;34m(\u001B[0m\u001B[0moutputs\u001B[0m\u001B[0;34m)\u001B[0m\u001B[0;34m)\u001B[0m \u001B[0;34m!=\u001B[0m \u001B[0;36m1\u001B[0m\u001B[0;34m:\u001B[0m\u001B[0;34m\u001B[0m\u001B[0;34m\u001B[0m\u001B[0m\n",
      "\u001B[0;32m~/PycharmProjects/IANNwTF/lib/python3.6/site-packages/tensorflow/python/keras/engine/base_layer.py\u001B[0m in \u001B[0;36m__call__\u001B[0;34m(self, *args, **kwargs)\u001B[0m\n\u001B[1;32m    983\u001B[0m \u001B[0;34m\u001B[0m\u001B[0m\n\u001B[1;32m    984\u001B[0m         \u001B[0;32mwith\u001B[0m \u001B[0mops\u001B[0m\u001B[0;34m.\u001B[0m\u001B[0menable_auto_cast_variables\u001B[0m\u001B[0;34m(\u001B[0m\u001B[0mself\u001B[0m\u001B[0;34m.\u001B[0m\u001B[0m_compute_dtype_object\u001B[0m\u001B[0;34m)\u001B[0m\u001B[0;34m:\u001B[0m\u001B[0;34m\u001B[0m\u001B[0;34m\u001B[0m\u001B[0m\n\u001B[0;32m--> 985\u001B[0;31m           \u001B[0moutputs\u001B[0m \u001B[0;34m=\u001B[0m \u001B[0mcall_fn\u001B[0m\u001B[0;34m(\u001B[0m\u001B[0minputs\u001B[0m\u001B[0;34m,\u001B[0m \u001B[0;34m*\u001B[0m\u001B[0margs\u001B[0m\u001B[0;34m,\u001B[0m \u001B[0;34m**\u001B[0m\u001B[0mkwargs\u001B[0m\u001B[0;34m)\u001B[0m\u001B[0;34m\u001B[0m\u001B[0;34m\u001B[0m\u001B[0m\n\u001B[0m\u001B[1;32m    986\u001B[0m \u001B[0;34m\u001B[0m\u001B[0m\n\u001B[1;32m    987\u001B[0m         \u001B[0;32mif\u001B[0m \u001B[0mself\u001B[0m\u001B[0;34m.\u001B[0m\u001B[0m_activity_regularizer\u001B[0m\u001B[0;34m:\u001B[0m\u001B[0;34m\u001B[0m\u001B[0;34m\u001B[0m\u001B[0m\n",
      "\u001B[0;32m~/PycharmProjects/IANNwTF/lib/python3.6/site-packages/tensorflow/python/keras/layers/convolutional.py\u001B[0m in \u001B[0;36mcall\u001B[0;34m(self, inputs)\u001B[0m\n\u001B[1;32m    245\u001B[0m       \u001B[0minputs\u001B[0m \u001B[0;34m=\u001B[0m \u001B[0marray_ops\u001B[0m\u001B[0;34m.\u001B[0m\u001B[0mpad\u001B[0m\u001B[0;34m(\u001B[0m\u001B[0minputs\u001B[0m\u001B[0;34m,\u001B[0m \u001B[0mself\u001B[0m\u001B[0;34m.\u001B[0m\u001B[0m_compute_causal_padding\u001B[0m\u001B[0;34m(\u001B[0m\u001B[0minputs\u001B[0m\u001B[0;34m)\u001B[0m\u001B[0;34m)\u001B[0m\u001B[0;34m\u001B[0m\u001B[0;34m\u001B[0m\u001B[0m\n\u001B[1;32m    246\u001B[0m \u001B[0;34m\u001B[0m\u001B[0m\n\u001B[0;32m--> 247\u001B[0;31m     \u001B[0moutputs\u001B[0m \u001B[0;34m=\u001B[0m \u001B[0mself\u001B[0m\u001B[0;34m.\u001B[0m\u001B[0m_convolution_op\u001B[0m\u001B[0;34m(\u001B[0m\u001B[0minputs\u001B[0m\u001B[0;34m,\u001B[0m \u001B[0mself\u001B[0m\u001B[0;34m.\u001B[0m\u001B[0mkernel\u001B[0m\u001B[0;34m)\u001B[0m\u001B[0;34m\u001B[0m\u001B[0;34m\u001B[0m\u001B[0m\n\u001B[0m\u001B[1;32m    248\u001B[0m \u001B[0;34m\u001B[0m\u001B[0m\n\u001B[1;32m    249\u001B[0m     \u001B[0;32mif\u001B[0m \u001B[0mself\u001B[0m\u001B[0;34m.\u001B[0m\u001B[0muse_bias\u001B[0m\u001B[0;34m:\u001B[0m\u001B[0;34m\u001B[0m\u001B[0;34m\u001B[0m\u001B[0m\n",
      "\u001B[0;32m~/PycharmProjects/IANNwTF/lib/python3.6/site-packages/tensorflow/python/util/dispatch.py\u001B[0m in \u001B[0;36mwrapper\u001B[0;34m(*args, **kwargs)\u001B[0m\n\u001B[1;32m    199\u001B[0m     \u001B[0;34m\"\"\"Call target, and fall back on dispatchers if there is a TypeError.\"\"\"\u001B[0m\u001B[0;34m\u001B[0m\u001B[0;34m\u001B[0m\u001B[0m\n\u001B[1;32m    200\u001B[0m     \u001B[0;32mtry\u001B[0m\u001B[0;34m:\u001B[0m\u001B[0;34m\u001B[0m\u001B[0;34m\u001B[0m\u001B[0m\n\u001B[0;32m--> 201\u001B[0;31m       \u001B[0;32mreturn\u001B[0m \u001B[0mtarget\u001B[0m\u001B[0;34m(\u001B[0m\u001B[0;34m*\u001B[0m\u001B[0margs\u001B[0m\u001B[0;34m,\u001B[0m \u001B[0;34m**\u001B[0m\u001B[0mkwargs\u001B[0m\u001B[0;34m)\u001B[0m\u001B[0;34m\u001B[0m\u001B[0;34m\u001B[0m\u001B[0m\n\u001B[0m\u001B[1;32m    202\u001B[0m     \u001B[0;32mexcept\u001B[0m \u001B[0;34m(\u001B[0m\u001B[0mTypeError\u001B[0m\u001B[0;34m,\u001B[0m \u001B[0mValueError\u001B[0m\u001B[0;34m)\u001B[0m\u001B[0;34m:\u001B[0m\u001B[0;34m\u001B[0m\u001B[0;34m\u001B[0m\u001B[0m\n\u001B[1;32m    203\u001B[0m       \u001B[0;31m# Note: convert_to_eager_tensor currently raises a ValueError, not a\u001B[0m\u001B[0;34m\u001B[0m\u001B[0;34m\u001B[0m\u001B[0;34m\u001B[0m\u001B[0m\n",
      "\u001B[0;32m~/PycharmProjects/IANNwTF/lib/python3.6/site-packages/tensorflow/python/ops/nn_ops.py\u001B[0m in \u001B[0;36mconvolution_v2\u001B[0;34m(input, filters, strides, padding, data_format, dilations, name)\u001B[0m\n\u001B[1;32m   1015\u001B[0m       \u001B[0mdata_format\u001B[0m\u001B[0;34m=\u001B[0m\u001B[0mdata_format\u001B[0m\u001B[0;34m,\u001B[0m\u001B[0;34m\u001B[0m\u001B[0;34m\u001B[0m\u001B[0m\n\u001B[1;32m   1016\u001B[0m       \u001B[0mdilations\u001B[0m\u001B[0;34m=\u001B[0m\u001B[0mdilations\u001B[0m\u001B[0;34m,\u001B[0m\u001B[0;34m\u001B[0m\u001B[0;34m\u001B[0m\u001B[0m\n\u001B[0;32m-> 1017\u001B[0;31m       name=name)\n\u001B[0m\u001B[1;32m   1018\u001B[0m \u001B[0;34m\u001B[0m\u001B[0m\n\u001B[1;32m   1019\u001B[0m \u001B[0;34m\u001B[0m\u001B[0m\n",
      "\u001B[0;32m~/PycharmProjects/IANNwTF/lib/python3.6/site-packages/tensorflow/python/ops/nn_ops.py\u001B[0m in \u001B[0;36mconvolution_internal\u001B[0;34m(input, filters, strides, padding, data_format, dilations, name, call_from_convolution, num_spatial_dims)\u001B[0m\n\u001B[1;32m   1145\u001B[0m           \u001B[0mdata_format\u001B[0m\u001B[0;34m=\u001B[0m\u001B[0mdata_format\u001B[0m\u001B[0;34m,\u001B[0m\u001B[0;34m\u001B[0m\u001B[0;34m\u001B[0m\u001B[0m\n\u001B[1;32m   1146\u001B[0m           \u001B[0mdilations\u001B[0m\u001B[0;34m=\u001B[0m\u001B[0mdilations\u001B[0m\u001B[0;34m,\u001B[0m\u001B[0;34m\u001B[0m\u001B[0;34m\u001B[0m\u001B[0m\n\u001B[0;32m-> 1147\u001B[0;31m           name=name)\n\u001B[0m\u001B[1;32m   1148\u001B[0m     \u001B[0;32melse\u001B[0m\u001B[0;34m:\u001B[0m\u001B[0;34m\u001B[0m\u001B[0;34m\u001B[0m\u001B[0m\n\u001B[1;32m   1149\u001B[0m       \u001B[0;32mif\u001B[0m \u001B[0mchannel_index\u001B[0m \u001B[0;34m==\u001B[0m \u001B[0;36m1\u001B[0m\u001B[0;34m:\u001B[0m\u001B[0;34m\u001B[0m\u001B[0;34m\u001B[0m\u001B[0m\n",
      "\u001B[0;32m~/PycharmProjects/IANNwTF/lib/python3.6/site-packages/tensorflow/python/ops/nn_ops.py\u001B[0m in \u001B[0;36m_conv2d_expanded_batch\u001B[0;34m(input, filters, strides, padding, data_format, dilations, name)\u001B[0m\n\u001B[1;32m   2589\u001B[0m         \u001B[0mdata_format\u001B[0m\u001B[0;34m=\u001B[0m\u001B[0mdata_format\u001B[0m\u001B[0;34m,\u001B[0m\u001B[0;34m\u001B[0m\u001B[0;34m\u001B[0m\u001B[0m\n\u001B[1;32m   2590\u001B[0m         \u001B[0mdilations\u001B[0m\u001B[0;34m=\u001B[0m\u001B[0mdilations\u001B[0m\u001B[0;34m,\u001B[0m\u001B[0;34m\u001B[0m\u001B[0;34m\u001B[0m\u001B[0m\n\u001B[0;32m-> 2591\u001B[0;31m         name=name)\n\u001B[0m\u001B[1;32m   2592\u001B[0m   return squeeze_batch_dims(\n\u001B[1;32m   2593\u001B[0m       \u001B[0minput\u001B[0m\u001B[0;34m,\u001B[0m\u001B[0;34m\u001B[0m\u001B[0;34m\u001B[0m\u001B[0m\n",
      "\u001B[0;32m~/PycharmProjects/IANNwTF/lib/python3.6/site-packages/tensorflow/python/ops/gen_nn_ops.py\u001B[0m in \u001B[0;36mconv2d\u001B[0;34m(input, filter, strides, padding, use_cudnn_on_gpu, explicit_paddings, data_format, dilations, name)\u001B[0m\n\u001B[1;32m    936\u001B[0m       \u001B[0;32mreturn\u001B[0m \u001B[0m_result\u001B[0m\u001B[0;34m\u001B[0m\u001B[0;34m\u001B[0m\u001B[0m\n\u001B[1;32m    937\u001B[0m     \u001B[0;32mexcept\u001B[0m \u001B[0m_core\u001B[0m\u001B[0;34m.\u001B[0m\u001B[0m_NotOkStatusException\u001B[0m \u001B[0;32mas\u001B[0m \u001B[0me\u001B[0m\u001B[0;34m:\u001B[0m\u001B[0;34m\u001B[0m\u001B[0;34m\u001B[0m\u001B[0m\n\u001B[0;32m--> 938\u001B[0;31m       \u001B[0m_ops\u001B[0m\u001B[0;34m.\u001B[0m\u001B[0mraise_from_not_ok_status\u001B[0m\u001B[0;34m(\u001B[0m\u001B[0me\u001B[0m\u001B[0;34m,\u001B[0m \u001B[0mname\u001B[0m\u001B[0;34m)\u001B[0m\u001B[0;34m\u001B[0m\u001B[0;34m\u001B[0m\u001B[0m\n\u001B[0m\u001B[1;32m    939\u001B[0m     \u001B[0;32mexcept\u001B[0m \u001B[0m_core\u001B[0m\u001B[0;34m.\u001B[0m\u001B[0m_FallbackException\u001B[0m\u001B[0;34m:\u001B[0m\u001B[0;34m\u001B[0m\u001B[0;34m\u001B[0m\u001B[0m\n\u001B[1;32m    940\u001B[0m       \u001B[0;32mpass\u001B[0m\u001B[0;34m\u001B[0m\u001B[0;34m\u001B[0m\u001B[0m\n",
      "\u001B[0;32m~/PycharmProjects/IANNwTF/lib/python3.6/site-packages/tensorflow/python/framework/ops.py\u001B[0m in \u001B[0;36mraise_from_not_ok_status\u001B[0;34m(e, name)\u001B[0m\n\u001B[1;32m   6841\u001B[0m   \u001B[0mmessage\u001B[0m \u001B[0;34m=\u001B[0m \u001B[0me\u001B[0m\u001B[0;34m.\u001B[0m\u001B[0mmessage\u001B[0m \u001B[0;34m+\u001B[0m \u001B[0;34m(\u001B[0m\u001B[0;34m\" name: \"\u001B[0m \u001B[0;34m+\u001B[0m \u001B[0mname\u001B[0m \u001B[0;32mif\u001B[0m \u001B[0mname\u001B[0m \u001B[0;32mis\u001B[0m \u001B[0;32mnot\u001B[0m \u001B[0;32mNone\u001B[0m \u001B[0;32melse\u001B[0m \u001B[0;34m\"\"\u001B[0m\u001B[0;34m)\u001B[0m\u001B[0;34m\u001B[0m\u001B[0;34m\u001B[0m\u001B[0m\n\u001B[1;32m   6842\u001B[0m   \u001B[0;31m# pylint: disable=protected-access\u001B[0m\u001B[0;34m\u001B[0m\u001B[0;34m\u001B[0m\u001B[0;34m\u001B[0m\u001B[0m\n\u001B[0;32m-> 6843\u001B[0;31m   \u001B[0msix\u001B[0m\u001B[0;34m.\u001B[0m\u001B[0mraise_from\u001B[0m\u001B[0;34m(\u001B[0m\u001B[0mcore\u001B[0m\u001B[0;34m.\u001B[0m\u001B[0m_status_to_exception\u001B[0m\u001B[0;34m(\u001B[0m\u001B[0me\u001B[0m\u001B[0;34m.\u001B[0m\u001B[0mcode\u001B[0m\u001B[0;34m,\u001B[0m \u001B[0mmessage\u001B[0m\u001B[0;34m)\u001B[0m\u001B[0;34m,\u001B[0m \u001B[0;32mNone\u001B[0m\u001B[0;34m)\u001B[0m\u001B[0;34m\u001B[0m\u001B[0;34m\u001B[0m\u001B[0m\n\u001B[0m\u001B[1;32m   6844\u001B[0m   \u001B[0;31m# pylint: enable=protected-access\u001B[0m\u001B[0;34m\u001B[0m\u001B[0;34m\u001B[0m\u001B[0;34m\u001B[0m\u001B[0m\n\u001B[1;32m   6845\u001B[0m \u001B[0;34m\u001B[0m\u001B[0m\n",
      "\u001B[0;32m~/PycharmProjects/IANNwTF/lib/python3.6/site-packages/six.py\u001B[0m in \u001B[0;36mraise_from\u001B[0;34m(value, from_value)\u001B[0m\n",
      "\u001B[0;31mInvalidArgumentError\u001B[0m: Computed output size would be negative: -2 [input_size: 0, effective_filter_size: 3, stride: 1] [Op:Conv2D]"
     ]
    }
   ],
   "source": [
    "for epoch in range(num_epochs):\n",
    "    print('Epoch: ' + str(epoch+1))\n",
    "\n",
    "    # shuffle train data. No need to shuffle test data\n",
    "    train_data = train_data.shuffle(buffer_size=BATCH_SIZE)\n",
    "\n",
    "    train_loss_stat = 0\n",
    "    train_accuracy_stat = 0\n",
    "    for i, (input, target) in enumerate(train_data):\n",
    "        train_loss, train_accuracy = train_step(model, input, target, loss, optimizer)\n",
    "        train_loss_stat = calc_stat(train_loss_stat, train_loss, i+1)\n",
    "        train_accuracy_stat = calc_stat(train_accuracy_stat, train_accuracy, i+1)\n",
    "    train_losses.append(train_loss_stat)\n",
    "    train_accuracies.append(train_accuracy_stat)\n",
    "\n",
    "    # testing\n",
    "    test_loss, test_accuracy = test(model, test_data, loss)\n",
    "    test_losses.append(test_loss)\n",
    "    test_accuracies.append(test_accuracy)\n",
    "    print(test_accuracy)"
   ],
   "metadata": {
    "collapsed": false,
    "pycharm": {
     "name": "#%%\n"
    }
   }
  },
  {
   "cell_type": "code",
   "metadata": {
    "colab": {
     "base_uri": "https://localhost:8080/",
     "height": 330
    },
    "id": "Lglt8alFxNCR",
    "outputId": "391b671e-5708-4dfd-d0b5-ddff6f6f10c3"
   },
   "source": [
    "##Plot"
   ],
   "execution_count": null,
   "outputs": []
  },
  {
   "cell_type": "markdown",
   "metadata": {
    "id": "z4n2v1CLxOgJ"
   },
   "source": [
    "##Plot"
   ]
  },
  {
   "cell_type": "code",
   "metadata": {
    "id": "pLGR-RGRxP_0"
   },
   "source": [
    "plot_stats(train_losses, test_losses, \"Loss\")\n",
    "plot_stats(train_accuracies, test_accuracies, \"Accuracy\")"
   ],
   "execution_count": null,
   "outputs": []
  },
  {
   "cell_type": "markdown",
   "metadata": {
    "id": "9cT8hmJVxS3h"
   },
   "source": [
    "## Assert over 95%"
   ]
  },
  {
   "cell_type": "code",
   "metadata": {
    "id": "WkGtQExqxTXN"
   },
   "source": [
    "assert test_accuracies[-1] >= 0.95\n",
    "print(test_accuracies)"
   ],
   "execution_count": null,
   "outputs": []
  }
 ]
}