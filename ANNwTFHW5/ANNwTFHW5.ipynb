{
  "nbformat": 4,
  "nbformat_minor": 0,
  "metadata": {
    "colab": {
      "name": "ANNwTFHW5.ipynb",
      "provenance": [],
      "collapsed_sections": []
    },
    "kernelspec": {
      "name": "python3",
      "language": "python",
      "display_name": "Python 3"
    },
    "accelerator": "GPU"
  },
  "cells": [
    {
      "cell_type": "markdown",
      "metadata": {
        "collapsed": false,
        "pycharm": {
          "name": "#%% md\n"
        },
        "id": "Tk3lP_umiEcA"
      },
      "source": [
        "[![Open In Colab](https://colab.research.google.com/assets/colab-badge.svg)](https://colab.research.google.com/github/sascha-senko/TensorflowCourse/blob/HSinger04/ANNwTFHW5/ANNwTFHW5.ipynb)"
      ]
    },
    {
      "cell_type": "markdown",
      "metadata": {
        "id": "If6lyQRtwScq"
      },
      "source": [
        "## Imports"
      ]
    },
    {
      "cell_type": "code",
      "metadata": {
        "id": "SS5Zdc67wVjk"
      },
      "source": [
        "import matplotlib.pyplot as plt\n",
        "import numpy as np\n",
        "%tensorflow_version 2.x\n",
        "import tensorflow as tf\n",
        "import tensorflow_datasets as tfds\n",
        "from tensorflow.keras.models import Sequential\n",
        "from tensorflow.keras.layers import Conv2D, MaxPooling2D, Dropout, \\\n",
        "    BatchNormalization, ReLU, ELU, Flatten, Dense, ZeroPadding2D"
      ],
      "execution_count": 23,
      "outputs": []
    },
    {
      "cell_type": "markdown",
      "metadata": {
        "id": "nLn90j58G2Qo"
      },
      "source": [
        "## Define Model"
      ]
    },
    {
      "cell_type": "code",
      "metadata": {
        "id": "mTiFmm9_G3Wn"
      },
      "source": [
        "model = Sequential()\n",
        "\n",
        "# TODO: interpret padding correctly and use it here\n",
        "def add_conv_to_model(filters, kernel_size=[3,3]):\n",
        "    \"\"\" Convenience function for adding often used sub architectures \"\"\"\n",
        "    #raise NotImplementedError(\"# TODO: interpret padding correctly and use it here\")\n",
        "    model.add(ZeroPadding2D())\n",
        "    model.add(Conv2D(filters=filters, kernel_size=kernel_size))\n",
        "    # TODO: BN not exactly like in paper - compare later\n",
        "    model.add(BatchNormalization())\n",
        "    # TODO: Maybe difference compared to paper\n",
        "    # TODO I can also try implementing a different ReLU\n",
        "    model.add(ELU())\n",
        "\n",
        "def add_pool_to_model():\n",
        "    \"\"\" Another convenience function for adding often used sub architectures \"\"\"\n",
        "    # TODO: didn't implement everything from paper\n",
        "    model.add(MaxPooling2D())\n",
        "    model.add(Dropout(0.1))\n",
        "\n",
        "# TODO: I can try doing this more elegantly\n",
        "add_conv_to_model(64)\n",
        "\"\"\"\n",
        "model.add(Conv2D(filters=64, kernel_size=[3,3], input_shape=[32, 32, 3]))\n",
        "model.add(BatchNormalization())\n",
        "model.add(ELU())\n",
        "\"\"\"\n",
        "add_conv_to_model(128)\n",
        "add_conv_to_model(128)\n",
        "add_conv_to_model(128)\n",
        "add_pool_to_model()\n",
        "add_conv_to_model(128)\n",
        "add_conv_to_model(128)\n",
        "add_conv_to_model(128)\n",
        "add_pool_to_model()\n",
        "add_conv_to_model(128)\n",
        "add_conv_to_model(128, kernel_size=[1,1])\n",
        "add_conv_to_model(128, kernel_size=[1,1])\n",
        "add_pool_to_model()\n",
        "add_conv_to_model(128)\n",
        "add_pool_to_model()\n",
        "\n",
        "\n",
        "# newest version, but pretty big\n",
        "\"\"\"\n",
        "add_conv_to_model(64)\n",
        "add_conv_to_model(128)\n",
        "add_conv_to_model(128)\n",
        "add_conv_to_model(128)\n",
        "add_pool_to_model()\n",
        "add_conv_to_model(128)\n",
        "add_conv_to_model(128)\n",
        "add_conv_to_model(256)\n",
        "add_pool_to_model()\n",
        "add_conv_to_model(256)\n",
        "add_conv_to_model(256)\n",
        "add_pool_to_model()\n",
        "add_conv_to_model(512)\n",
        "add_pool_to_model()\n",
        "add_conv_to_model(2048, kernel_size=[1, 1])\n",
        "add_conv_to_model(256, kernel_size=[1, 1])\n",
        "add_pool_to_model()\n",
        "add_conv_to_model(256)\n",
        "\"\"\"\n",
        "\n",
        "# TODO: in the original implementation, maxpool2d appears here\n",
        "model.add(Flatten())\n",
        "model.add(Dense(10, activation=tf.keras.activations.softmax))\n",
        "model.add(Dropout(0.1))\n",
        "\n",
        "#print(model.summary())"
      ],
      "execution_count": 35,
      "outputs": []
    },
    {
      "cell_type": "markdown",
      "metadata": {
        "id": "XNfHI-9Swfrk"
      },
      "source": [
        "## Load dataset"
      ]
    },
    {
      "cell_type": "code",
      "metadata": {
        "id": "cowuKHOqwfAg"
      },
      "source": [
        "# TODO: fix 80% back to 100%\n",
        "train_data, test_data = tfds.load(\n",
        "    'cifar10', split=['train', 'test'], as_supervised=True)"
      ],
      "execution_count": 43,
      "outputs": []
    },
    {
      "cell_type": "markdown",
      "metadata": {
        "id": "iKx2urxbwma1"
      },
      "source": [
        "## Inspect data set"
      ]
    },
    {
      "cell_type": "code",
      "metadata": {
        "colab": {
          "base_uri": "https://localhost:8080/",
          "height": 112
        },
        "id": "1vVMp_SLwopk",
        "outputId": "319efc72-d977-4020-bb74-475b02b1264f"
      },
      "source": [
        "fig, ax = plt.subplots(1,10)\n",
        "shapes = []\n",
        "\n",
        "num_to_name = [\"airplane\", \"automobile\", \"bird\", \"cat\", \"deer\", \"dog\", \"frog\", \"horse\",\n",
        "\"ship\", \"truck\"]\n",
        "\n",
        "# TODO: print names instead of numerical labels\n",
        "for i, (img, lbl) in enumerate(train_data):\n",
        "    if i == 10:\n",
        "        break\n",
        "    ax[i].imshow(img, cmap='gray')\n",
        "    ax[i].set_title(num_to_name[lbl.numpy()])\n",
        "    ax[i].axis(\"off\")\n",
        "    shapes.append(img.shape)\n",
        "\n",
        "print(shapes)    "
      ],
      "execution_count": 29,
      "outputs": [
        {
          "output_type": "stream",
          "text": [
            "[TensorShape([32, 32, 3]), TensorShape([32, 32, 3]), TensorShape([32, 32, 3]), TensorShape([32, 32, 3]), TensorShape([32, 32, 3]), TensorShape([32, 32, 3]), TensorShape([32, 32, 3]), TensorShape([32, 32, 3]), TensorShape([32, 32, 3]), TensorShape([32, 32, 3])]\n"
          ],
          "name": "stdout"
        },
        {
          "output_type": "display_data",
          "data": {
            "image/png": "[encoded data removed]",
            "text/plain": [
              "<Figure size 432x288 with 10 Axes>"
            ]
          },
          "metadata": {
            "tags": [],
            "needs_background": "light"
          }
        }
      ]
    },
    {
      "cell_type": "markdown",
      "metadata": {
        "id": "KMaxBk-2ws_6"
      },
      "source": [
        "## Define some constants"
      ]
    },
    {
      "cell_type": "code",
      "metadata": {
        "id": "5BeTRDjGwtpy"
      },
      "source": [
        "# arbitrarily set. Feel free to change these\n",
        "PREFETCH_SIZE = tf.data.experimental.AUTOTUNE\n",
        "BATCH_SIZE = 128"
      ],
      "execution_count": 30,
      "outputs": []
    },
    {
      "cell_type": "markdown",
      "metadata": {
        "id": "WhOipCR-wxPZ"
      },
      "source": [
        "## Prepare data"
      ]
    },
    {
      "cell_type": "code",
      "metadata": {
        "id": "dMWeKpJqwx_Q"
      },
      "source": [
        "def process_inp_and_label(input, label):\n",
        "    \"\"\" rescale inputs and onehotify labels \"\"\"\n",
        "    new_input = input / 255\n",
        "    return new_input, tf.one_hot(label, 10)\n",
        "\n",
        "def data_pipeline(data):\n",
        "    \"\"\" helper function for data pipeline - does all the things we need \"\"\"\n",
        "    data = data.map(process_inp_and_label)\n",
        "    # arbitrarily set buffer_size - feel free to use sth. else\n",
        "    data = data.shuffle(buffer_size=BATCH_SIZE)\n",
        "    data = data.batch(BATCH_SIZE)\n",
        "    data = data.prefetch(PREFETCH_SIZE)\n",
        "    return data\n",
        "\n",
        "train_data = data_pipeline(train_data)\n",
        "test_data = data_pipeline(test_data)"
      ],
      "execution_count": 44,
      "outputs": []
    },
    {
      "cell_type": "code",
      "metadata": {
        "colab": {
          "base_uri": "https://localhost:8080/"
        },
        "id": "newMtgb2vv2d",
        "outputId": "6e35de5a-ac9c-447e-9d8e-4524167d4f88"
      },
      "source": [
        "# compile and fit model\n",
        "model.compile(optimizer=\"Adam\", loss='categorical_crossentropy', metrics='accuracy')\n",
        "# validation_data=train_data makes sure that model tests on train_data after each epoch\n",
        "model.fit(x=train_data, epochs=10, validation_data=train_data)"
      ],
      "execution_count": 45,
      "outputs": [
        {
          "output_type": "stream",
          "text": [
            "Epoch 1/10\n",
            "  2/391 [..............................] - ETA: 37s - loss: 4.7300 - accuracy: 0.1367WARNING:tensorflow:Callbacks method `on_train_batch_end` is slow compared to the batch time (batch time: 0.0726s vs `on_train_batch_end` time: 0.1215s). Check your callbacks.\n"
          ],
          "name": "stdout"
        },
        {
          "output_type": "stream",
          "text": [
            "WARNING:tensorflow:Callbacks method `on_train_batch_end` is slow compared to the batch time (batch time: 0.0726s vs `on_train_batch_end` time: 0.1215s). Check your callbacks.\n"
          ],
          "name": "stderr"
        },
        {
          "output_type": "stream",
          "text": [
            "391/391 [==============================] - 100s 257ms/step - loss: 2.8115 - accuracy: 0.4729 - val_loss: 1.1337 - val_accuracy: 0.5970\n",
            "Epoch 2/10\n",
            "391/391 [==============================] - 99s 253ms/step - loss: 2.3475 - accuracy: 0.6307 - val_loss: 1.0062 - val_accuracy: 0.6743\n",
            "Epoch 3/10\n",
            "391/391 [==============================] - 99s 254ms/step - loss: 2.2417 - accuracy: 0.6790 - val_loss: 0.6692 - val_accuracy: 0.7670\n",
            "Epoch 4/10\n",
            "391/391 [==============================] - 99s 254ms/step - loss: 2.1497 - accuracy: 0.7107 - val_loss: 0.6761 - val_accuracy: 0.7688\n",
            "Epoch 5/10\n",
            "391/391 [==============================] - 99s 254ms/step - loss: 2.1072 - accuracy: 0.7293 - val_loss: 0.5273 - val_accuracy: 0.8165\n",
            "Epoch 6/10\n",
            "391/391 [==============================] - 99s 254ms/step - loss: 2.0417 - accuracy: 0.7490 - val_loss: 0.5656 - val_accuracy: 0.8073\n",
            "Epoch 7/10\n",
            "391/391 [==============================] - 99s 254ms/step - loss: 2.0219 - accuracy: 0.7615 - val_loss: 0.4200 - val_accuracy: 0.8536\n",
            "Epoch 8/10\n",
            "391/391 [==============================] - 99s 254ms/step - loss: 1.9747 - accuracy: 0.7773 - val_loss: 0.3711 - val_accuracy: 0.8714\n",
            "Epoch 9/10\n",
            "391/391 [==============================] - 99s 253ms/step - loss: 1.9572 - accuracy: 0.7849 - val_loss: 0.3299 - val_accuracy: 0.8852\n",
            "Epoch 10/10\n",
            "391/391 [==============================] - 99s 253ms/step - loss: 1.9497 - accuracy: 0.7932 - val_loss: 0.2956 - val_accuracy: 0.8959\n"
          ],
          "name": "stdout"
        },
        {
          "output_type": "execute_result",
          "data": {
            "text/plain": [
              "<tensorflow.python.keras.callbacks.History at 0x7f66cf87cac8>"
            ]
          },
          "metadata": {
            "tags": []
          },
          "execution_count": 45
        }
      ]
    },
    {
      "cell_type": "code",
      "metadata": {
        "colab": {
          "base_uri": "https://localhost:8080/"
        },
        "id": "eI6tgHK_8461",
        "outputId": "aa7b024f-da94-4028-c993-02872a8193be"
      },
      "source": [
        ""
      ],
      "execution_count": 48,
      "outputs": [
        {
          "output_type": "execute_result",
          "data": {
            "text/plain": [
              "{'accuracy': [0.47290000319480896,\n",
              "  0.6306999921798706,\n",
              "  0.6790400147438049,\n",
              "  0.7106800079345703,\n",
              "  0.7293000221252441,\n",
              "  0.7490400075912476,\n",
              "  0.7614799737930298,\n",
              "  0.7773200273513794,\n",
              "  0.7849199771881104,\n",
              "  0.7932400107383728],\n",
              " 'loss': [2.8115482330322266,\n",
              "  2.347477436065674,\n",
              "  2.241743803024292,\n",
              "  2.1497185230255127,\n",
              "  2.107231616973877,\n",
              "  2.041691541671753,\n",
              "  2.021946430206299,\n",
              "  1.974685788154602,\n",
              "  1.9572091102600098,\n",
              "  1.9496557712554932],\n",
              " 'val_accuracy': [0.5969799757003784,\n",
              "  0.6743000149726868,\n",
              "  0.7670199871063232,\n",
              "  0.7687600255012512,\n",
              "  0.8164600133895874,\n",
              "  0.8072999715805054,\n",
              "  0.8535799980163574,\n",
              "  0.871399998664856,\n",
              "  0.8851799964904785,\n",
              "  0.8959199786186218],\n",
              " 'val_loss': [1.1337335109710693,\n",
              "  1.0061895847320557,\n",
              "  0.6691825985908508,\n",
              "  0.6761350631713867,\n",
              "  0.5272673964500427,\n",
              "  0.5656467080116272,\n",
              "  0.4199853539466858,\n",
              "  0.37110456824302673,\n",
              "  0.32991984486579895,\n",
              "  0.2955602705478668]}"
            ]
          },
          "metadata": {
            "tags": []
          },
          "execution_count": 48
        }
      ]
    },
    {
      "cell_type": "markdown",
      "metadata": {
        "id": "8lq65UcYw07K"
      },
      "source": [
        "## Define helper functions"
      ]
    },
    {
      "cell_type": "code",
      "metadata": {
        "id": "epINO_Nvw1fC"
      },
      "source": [
        "# TODO: uncomment if I want to use again\n",
        "\"\"\"\n",
        "def train_step(model, input, target, loss_function, optimizer):\n",
        "    accuracy = None\n",
        "\n",
        "    # loss_object and optimizer_object are instances of respective tensorflow classes\n",
        "    with tf.GradientTape() as tape:\n",
        "        prediction = model(input)\n",
        "        accuracy = np.argmax(target, axis=1) == np.argmax(prediction, axis=1)\n",
        "        loss = loss_function(target, prediction)\n",
        "        gradients = tape.gradient(loss, model.trainable_variables)\n",
        "        optimizer.apply_gradients(zip(gradients, model.trainable_variables))\n",
        "\n",
        "    accuracy = np.mean(accuracy)\n",
        "\n",
        "    return loss, accuracy\n",
        "\n",
        "def test(model, test_data, loss_function):\n",
        "    # test over complete test data\n",
        "\n",
        "    test_accuracy_aggregator = []\n",
        "    test_loss_aggregator = []\n",
        "\n",
        "    for (input, target) in test_data:\n",
        "        prediction = model(input)\n",
        "        # TODO: remove\n",
        "        print(prediction)\n",
        "        sample_test_loss = loss_function(target, prediction)\n",
        "        sample_test_accuracy = np.argmax(target, axis=1) == np.argmax(prediction, axis=1)\n",
        "        sample_test_accuracy = np.mean(sample_test_accuracy)\n",
        "        test_loss_aggregator.append(sample_test_loss.numpy())\n",
        "        test_accuracy_aggregator.append(sample_test_accuracy)\n",
        "\n",
        "    test_loss = np.mean(test_loss_aggregator)\n",
        "    test_accuracy = np.mean(test_accuracy_aggregator)\n",
        "\n",
        "    return test_loss, test_accuracy\n",
        "\"\"\"\n",
        "\n",
        "def plot_stats(train_stat, test_stat, stat_name):\n",
        "    plt.figure()\n",
        "    line1, = plt.plot(train_stat)\n",
        "    line2, = plt.plot(test_stat)\n",
        "    plt.xlabel(\"Training steps\")\n",
        "    plt.ylabel(stat_name)\n",
        "    plt.legend((line1, line2), (\"training\", \"test\"))\n",
        "    plt.show()"
      ],
      "execution_count": 54,
      "outputs": []
    },
    {
      "cell_type": "code",
      "metadata": {
        "id": "UlnvIySIw5gn"
      },
      "source": [
        "tf.keras.backend.clear_session()"
      ],
      "execution_count": 12,
      "outputs": []
    },
    {
      "cell_type": "markdown",
      "metadata": {
        "id": "8y89-0UgxHZ1"
      },
      "source": [
        "## Prepare for training"
      ]
    },
    {
      "cell_type": "code",
      "metadata": {
        "id": "oLva1oEcxH6M"
      },
      "source": [
        "\"\"\"\n",
        "num_epochs = 10\n",
        "learning_rate = 0.001\n",
        "# set to 0 if you want to use mean instead of running average\n",
        "running_average_factor = 0\n",
        "loss = tf.keras.losses.CategoricalCrossentropy()\n",
        "optimizer = tf.keras.optimizers.Adam(learning_rate)\n",
        "\n",
        "# define calc_stat here to access running_average_factor\n",
        "def calc_stat(stat_so_far, new_stat, stat_num):\n",
        "    \"\"\"Calculates appropriate statistic\n",
        "\n",
        "    :param stat_so_far: the statistic that we have observed so far\n",
        "    :param new_stat: the newest observed statistic\n",
        "    :param stat_num: new_stat is the stat_num-th observed statistic\n",
        "    :return: if 0, return mean, else running average\n",
        "    \"\"\"\n",
        "\n",
        "    if running_average_factor:\n",
        "        return running_average_factor * stat_so_far + (1 - running_average_factor) * new_stat\n",
        "    # calculate mean of observed statistics so far\n",
        "    return ((stat_num - 1) * stat_so_far + new_stat) / stat_num\n",
        "\n",
        "# Initialize lists for later visualization.\n",
        "train_losses = []\n",
        "train_accuracies = []\n",
        "test_losses = []\n",
        "test_accuracies = []\n",
        "\"\"\""
      ],
      "execution_count": 13,
      "outputs": []
    },
    {
      "cell_type": "markdown",
      "metadata": {
        "id": "STc3UVtvxMkw",
        "pycharm": {
          "name": "#%% md\n"
        }
      },
      "source": [
        "##Train"
      ]
    },
    {
      "cell_type": "code",
      "metadata": {
        "pycharm": {
          "name": "#%%\n"
        },
        "colab": {
          "base_uri": "https://localhost:8080/"
        },
        "id": "KeELcVazqdsf",
        "outputId": "a6f255df-ee59-483f-b825-b09bc9fd40fa"
      },
      "source": [
        "\"\"\"\n",
        "for epoch in range(num_epochs):\n",
        "    print('Epoch: ' + str(epoch+1))\n",
        "\n",
        "    # shuffle train data. No need to shuffle test data\n",
        "    train_data = train_data.shuffle(buffer_size=BATCH_SIZE)\n",
        "\n",
        "    train_loss_stat = 0\n",
        "    train_accuracy_stat = 0\n",
        "    for i, (input, target) in enumerate(train_data):\n",
        "        train_loss, train_accuracy = train_step(model, input, target, loss, optimizer)\n",
        "        train_loss_stat = calc_stat(train_loss_stat, train_loss, i+1)\n",
        "        train_accuracy_stat = calc_stat(train_accuracy_stat, train_accuracy, i+1)\n",
        "    train_losses.append(train_loss_stat)\n",
        "    train_accuracies.append(train_accuracy_stat)\n",
        "\n",
        "    # testing\n",
        "    test_loss, test_accuracy = test(model, test_data, loss)\n",
        "    test_losses.append(test_loss)\n",
        "    test_accuracies.append(test_accuracy)\n",
        "    print(test_accuracy)\n",
        "    \"\"\""
      ],
      "execution_count": null,
      "outputs": [
        {
          "output_type": "stream",
          "text": [
            "Epoch: 1\n"
          ],
          "name": "stdout"
        }
      ]
    },
    {
      "cell_type": "markdown",
      "metadata": {
        "id": "CEiILEygvCIt"
      },
      "source": [
        "## Prepare stats for plotting"
      ]
    },
    {
      "cell_type": "code",
      "metadata": {
        "id": "xXPWvQ1cvBXy"
      },
      "source": [
        "# get model history collected during fitting\n",
        "stats = model.history.history\n",
        "\n",
        "train_losses = stats['loss']\n",
        "test_losses = stats['val_loss']\n",
        "train_accuracies = stats['accuracy']\n",
        "test_accuracies = stats['val_accuracy']"
      ],
      "execution_count": 52,
      "outputs": []
    },
    {
      "cell_type": "markdown",
      "metadata": {
        "id": "z4n2v1CLxOgJ"
      },
      "source": [
        "##Plot"
      ]
    },
    {
      "cell_type": "code",
      "metadata": {
        "id": "pLGR-RGRxP_0",
        "colab": {
          "base_uri": "https://localhost:8080/",
          "height": 541
        },
        "outputId": "9cb536c0-b1e5-4b40-97b2-79581000b94c"
      },
      "source": [
        "# model consistently performs better on test set than training set due to dropout\n",
        "plot_stats(train_losses, test_losses, \"Loss\")\n",
        "plot_stats(train_accuracies, test_accuracies, \"Accuracy\")"
      ],
      "execution_count": 55,
      "outputs": [
        {
          "output_type": "display_data",
          "data": {
            "image/png": "[encoded data removed]",
            "text/plain": [
              "<Figure size 432x288 with 1 Axes>"
            ]
          },
          "metadata": {
            "tags": [],
            "needs_background": "light"
          }
        },
        {
          "output_type": "display_data",
          "data": {
            "image/png": "[encoded data removed]",
            "text/plain": [
              "<Figure size 432x288 with 1 Axes>"
            ]
          },
          "metadata": {
            "tags": [],
            "needs_background": "light"
          }
        }
      ]
    },
    {
      "cell_type": "markdown",
      "metadata": {
        "id": "9cT8hmJVxS3h"
      },
      "source": [
        "## Assert test accuracy over 85%"
      ]
    },
    {
      "cell_type": "code",
      "metadata": {
        "id": "WkGtQExqxTXN",
        "colab": {
          "base_uri": "https://localhost:8080/"
        },
        "outputId": "6f147aeb-7705-4d63-9d6f-62ecc03d3a3d"
      },
      "source": [
        "assert test_accuracies[-1] >= 0.85\n",
        "print(test_accuracies)"
      ],
      "execution_count": 56,
      "outputs": [
        {
          "output_type": "stream",
          "text": [
            "[0.5969799757003784, 0.6743000149726868, 0.7670199871063232, 0.7687600255012512, 0.8164600133895874, 0.8072999715805054, 0.8535799980163574, 0.871399998664856, 0.8851799964904785, 0.8959199786186218]\n"
          ],
          "name": "stdout"
        }
      ]
    }
  ]
}