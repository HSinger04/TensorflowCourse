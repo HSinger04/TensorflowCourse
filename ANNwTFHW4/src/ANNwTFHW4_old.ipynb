{
 "nbformat": 4,
 "nbformat_minor": 0,
 "metadata": {
  "colab": {
   "name": "Copy of AutoPyTorch_AMIR19.ipynb",
   "provenance": [],
   "collapsed_sections": []
  },
  "kernelspec": {
   "name": "python3",
   "language": "python",
   "display_name": "Python 3"
  },
  "accelerator": "GPU"
 },
 "cells": [
  {
   "cell_type": "markdown",
   "source": [
    "## Imports"
   ],
   "metadata": {
    "collapsed": false
   }
  },
  {
   "cell_type": "code",
   "metadata": {
    "id": "UvrNZ1FnUeLs"
   },
   "source": [
    "import matplotlib.pyplot as plt\n",
    "import numpy as np\n",
    "# TODO: uncomment below for colab\n",
    "#%tensorflow_version 2.x\n",
    "import tensorflow as tf\n",
    "import tensorflow_datasets as tfds\n",
    "from tensorflow.keras.models import Sequential\n",
    "from tensorflow.keras.layers import Conv2D,MaxPooling2D,Dense,Flatten,Dropout"
   ],
   "execution_count": 14,
   "outputs": []
  },
  {
   "cell_type": "markdown",
   "source": [
    "## Load dataset"
   ],
   "metadata": {
    "collapsed": false,
    "pycharm": {
     "name": "#%% md\n"
    }
   }
  },
  {
   "cell_type": "code",
   "metadata": {
    "id": "RqpP4nlIUF0U"
   },
   "source": [
    "# take first 80% for train_data, last 20% for test_data\n",
    "train_data, test_data = tfds.load('malaria', split=['train[:80%]', 'train[-20%:]'], as_supervised=True)"
   ],
   "execution_count": 4,
   "outputs": []
  },
  {
   "cell_type": "markdown",
   "source": [
    "## Inspect data set"
   ],
   "metadata": {
    "collapsed": false,
    "pycharm": {
     "name": "#%% md\n"
    }
   }
  },
  {
   "cell_type": "code",
   "metadata": {
    "colab": {
     "base_uri": "https://localhost:8080/"
    },
    "id": "SpNQltILkBsM",
    "outputId": "ddc4ba45-0ca0-4440-dbcb-9dff9e9a3c95"
   },
   "source": [
    "# TODO: how to visualize both label and shape\n",
    "fig, ax = plt.subplots(1,10)\n",
    "for i, (img, lbl) in enumerate(train_data):\n",
    "    if i == 10:\n",
    "        break\n",
    "    ax[i].imshow(img, cmap='gray')\n",
    "    ax[i].set_title(lbl.numpy())\n",
    "    #ax[i].set_xlabel(img.shape[0])\n",
    "    #ax[i].set_ylabel(img.shape[1])\n",
    "    ax[i].axis(\"off\")"
   ],
   "execution_count": 13,
   "outputs": [
    {
     "data": {
      "text/plain": "<Figure size 432x288 with 10 Axes>",
      "image/png": "[encoded data removed]"
     },
     "metadata": {
      "needs_background": "light"
     },
     "output_type": "display_data"
    }
   ]
  },
  {
   "cell_type": "markdown",
   "source": [
    "## Define some constants"
   ],
   "metadata": {
    "collapsed": false,
    "pycharm": {
     "name": "#%% md\n"
    }
   }
  },
  {
   "cell_type": "code",
   "execution_count": 5,
   "outputs": [],
   "source": [
    "# arbitrarily set. Feel free to change these\n",
    "PREFETCH_SIZE = tf.data.experimental.AUTOTUNE\n",
    "BATCH_SIZE = 128"
   ],
   "metadata": {
    "collapsed": false,
    "pycharm": {
     "name": "#%%\n"
    }
   }
  },
  {
   "cell_type": "markdown",
   "source": [
    "## Prepare data"
   ],
   "metadata": {
    "collapsed": false,
    "pycharm": {
     "name": "#%% md\n"
    }
   }
  },
  {
   "cell_type": "code",
   "metadata": {
    "id": "N7fI-k5Mn9f0",
    "pycharm": {
     "name": "#%%\n"
    }
   },
   "source": [
    "def process_inp_and_label(input, label):\n",
    "    \"\"\" resize inputs and onehotify labels \"\"\"\n",
    "    new_input = input / 255\n",
    "    new_input = tf.image.resize(new_input, [50,50])\n",
    "    return new_input, tf.one_hot(label, 2)\n",
    "\n",
    "def data_pipeline(data):\n",
    "    \"\"\" helper function for data pipeline - does all the things we need \"\"\"\n",
    "    data = data.map(process_inp_and_label)\n",
    "    data = data.batch(BATCH_SIZE)\n",
    "    data = data.shuffle(buffer_size=BATCH_SIZE)\n",
    "    data = data.prefetch(PREFETCH_SIZE)\n",
    "    return data\n",
    "\n",
    "train_data = data_pipeline(train_data)\n",
    "test_data = data_pipeline(test_data)"
   ],
   "execution_count": 16,
   "outputs": []
  },
  {
   "cell_type": "markdown",
   "source": [
    "## Define helper functions"
   ],
   "metadata": {
    "collapsed": false,
    "pycharm": {
     "name": "#%% md\n"
    }
   }
  },
  {
   "cell_type": "code",
   "execution_count": 8,
   "outputs": [],
   "source": [
    "def train_step(model, input, target, loss_function, optimizer):\n",
    "    accuracy = None\n",
    "\n",
    "    # loss_object and optimizer_object are instances of respective tensorflow classes\n",
    "    with tf.GradientTape() as tape:\n",
    "        prediction = model(input)\n",
    "        accuracy = np.argmax(target, axis=1) == np.argmax(prediction, axis=1)\n",
    "        loss = loss_function(target, prediction)\n",
    "        gradients = tape.gradient(loss, model.trainable_variables)\n",
    "        optimizer.apply_gradients(zip(gradients, model.trainable_variables))\n",
    "\n",
    "    accuracy = np.mean(accuracy)\n",
    "\n",
    "    return loss, accuracy\n",
    "\n",
    "def test(model, test_data, loss_function):\n",
    "    # test over complete test data\n",
    "\n",
    "    test_accuracy_aggregator = []\n",
    "    test_loss_aggregator = []\n",
    "\n",
    "    for (input, target) in test_data:\n",
    "        prediction = model(input)\n",
    "        sample_test_loss = loss_function(target, prediction)\n",
    "        sample_test_accuracy = np.argmax(target, axis=1) == np.argmax(prediction, axis=1)\n",
    "        sample_test_accuracy = np.mean(sample_test_accuracy)\n",
    "        test_loss_aggregator.append(sample_test_loss.numpy())\n",
    "        test_accuracy_aggregator.append(sample_test_accuracy)\n",
    "\n",
    "    test_loss = np.mean(test_loss_aggregator)\n",
    "    test_accuracy = np.mean(test_accuracy_aggregator)\n",
    "\n",
    "    return test_loss, test_accuracy\n",
    "\n",
    "\n",
    "# define calc_stat here to access running_average_factor\n",
    "def calc_stat(stat_so_far, new_stat, stat_num):\n",
    "    \"\"\"Calculates appropriate statistic\n",
    "\n",
    "    :param stat_so_far: the statistic that we have observed so far\n",
    "    :param new_stat: the newest observed statistic\n",
    "    :param stat_num: new_stat is the stat_num-th observed statistic\n",
    "    :return: if 0, return mean, else running average\n",
    "    \"\"\"\n",
    "\n",
    "    if running_average_factor:\n",
    "        return running_average_factor * stat_so_far + (1 - running_average_factor) * new_stat\n",
    "    # calculate mean of observed statistics so far\n",
    "    return ((stat_num - 1) * stat_so_far + new_stat) / stat_num\n",
    "\n",
    "\n",
    "def plot_stats(train_stat, test_stat, stat_name):\n",
    "    plt.figure()\n",
    "    line1, = plt.plot(train_stat)\n",
    "    line2, = plt.plot(test_stat)\n",
    "    plt.xlabel(\"Training steps\")\n",
    "    plt.ylabel(stat_name)\n",
    "    plt.legend((line1, line2), (\"training\", \"test\"))\n",
    "    plt.show()"
   ],
   "metadata": {
    "collapsed": false,
    "pycharm": {
     "name": "#%%\n"
    }
   }
  },
  {
   "cell_type": "code",
   "execution_count": 9,
   "outputs": [],
   "source": [
    "tf.keras.backend.clear_session()"
   ],
   "metadata": {
    "collapsed": false,
    "pycharm": {
     "name": "#%%\n"
    }
   }
  },
  {
   "cell_type": "markdown",
   "source": [
    "##Define model"
   ],
   "metadata": {
    "collapsed": false,
    "pycharm": {
     "name": "#%% md\n"
    }
   }
  },
  {
   "cell_type": "code",
   "execution_count": 10,
   "outputs": [],
   "source": [
    "model=Sequential()\n",
    "model.add(Conv2D(filters=16,kernel_size=2,padding=\"same\",activation=\"relu\",input_shape=(50,50,3)))\n",
    "model.add(MaxPooling2D(pool_size=2))\n",
    "model.add(Conv2D(filters=32,kernel_size=2,padding=\"same\",activation=\"relu\"))\n",
    "model.add(MaxPooling2D(pool_size=2))\n",
    "model.add(Conv2D(filters=64,kernel_size=2,padding=\"same\",activation=\"relu\"))\n",
    "model.add(MaxPooling2D(pool_size=2))\n",
    "model.add(Dropout(0.2))\n",
    "model.add(Flatten())\n",
    "model.add(Dense(500,activation=\"relu\"))\n",
    "model.add(Dropout(0.2))\n",
    "model.add(Dense(2,activation=\"softmax\"))#2 represent output layer neurons"
   ],
   "metadata": {
    "collapsed": false,
    "pycharm": {
     "name": "#%%\n"
    }
   }
  },
  {
   "cell_type": "markdown",
   "source": [
    "## Prepare for training"
   ],
   "metadata": {
    "collapsed": false,
    "pycharm": {
     "name": "#%% md\n"
    }
   }
  },
  {
   "cell_type": "code",
   "execution_count": 11,
   "outputs": [],
   "source": [
    "num_epochs = 10\n",
    "learning_rate = 0.001\n",
    "# set to 0 if you want to use mean instead of running average\n",
    "running_average_factor = 0.95\n",
    "loss = tf.keras.losses.BinaryCrossentropy()\n",
    "optimizer = tf.keras.optimizers.Adam(learning_rate)\n",
    "\n",
    "# Initialize lists for later visualization.\n",
    "train_losses = []\n",
    "train_accuracies = []\n",
    "test_losses = []\n",
    "test_accuracies = []"
   ],
   "metadata": {
    "collapsed": false,
    "pycharm": {
     "name": "#%%\n"
    }
   }
  },
  {
   "cell_type": "markdown",
   "source": [
    "Train"
   ],
   "metadata": {
    "collapsed": false,
    "pycharm": {
     "name": "#%% md\n"
    }
   }
  },
  {
   "cell_type": "code",
   "execution_count": 17,
   "outputs": [
    {
     "name": "stdout",
     "output_type": "stream",
     "text": [
      "Epoch: 0\n",
      "Epoch: 1\n",
      "Epoch: 2\n",
      "Epoch: 3\n",
      "Epoch: 4\n",
      "Epoch: 5\n",
      "Epoch: 6\n",
      "Epoch: 7\n",
      "Epoch: 8\n",
      "Epoch: 9\n"
     ]
    }
   ],
   "source": [
    "for epoch in range(num_epochs):\n",
    "    print('Epoch: ' + str(epoch))\n",
    "\n",
    "    # shuffle train data. No need to shuffle test data\n",
    "    train_data = train_data.shuffle(buffer_size=BATCH_SIZE)\n",
    "\n",
    "    train_loss_stat = 0\n",
    "    train_accuracy_stat = 0\n",
    "    for i, (input, target) in enumerate(train_data):\n",
    "        train_loss, train_accuracy = train_step(model, input, target, loss, optimizer)\n",
    "        train_loss_stat = calc_stat(train_loss_stat, train_loss, i+1)\n",
    "        train_accuracy_stat = calc_stat(train_accuracy_stat, train_accuracy, i+1)\n",
    "    train_losses.append(train_loss_stat)\n",
    "    train_accuracies.append(train_accuracy_stat)\n",
    "\n",
    "    # testing\n",
    "    test_loss, test_accuracy = test(model, test_data, loss)\n",
    "    test_losses.append(test_loss)\n",
    "    test_accuracies.append(test_accuracy)\n",
    "\n",
    "%## md Plot\n",
    "\n",
    "%##\n",
    "\n",
    "plot_stats(train_losses, test_losses, \"Loss\")\n",
    "plot_stats(train_accuracies, test_accuracies, \"Accuracy\")"
   ],
   "metadata": {
    "collapsed": false,
    "pycharm": {
     "name": "#%%\n"
    }
   }
  }
 ]
}