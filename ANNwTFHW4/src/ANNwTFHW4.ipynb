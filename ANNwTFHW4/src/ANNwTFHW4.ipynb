{
  "nbformat": 4,
  "nbformat_minor": 0,
  "metadata": {
    "colab": {
      "name": "ANNwTFHW4.ipynb",
      "provenance": [],
      "collapsed_sections": []
    },
    "kernelspec": {
      "name": "python3",
      "display_name": "Python 3"
    },
    "accelerator": "GPU"
  },
  "cells": [
    {
      "cell_type": "markdown",
      "metadata": {
        "id": "If6lyQRtwScq"
      },
      "source": [
        "## Imports"
      ]
    },
    {
      "cell_type": "code",
      "metadata": {
        "id": "SS5Zdc67wVjk"
      },
      "source": [
        "import matplotlib.pyplot as plt\n",
        "import numpy as np\n",
        "#%tensorflow_version 2.x\n",
        "import tensorflow as tf\n",
        "import tensorflow_datasets as tfds\n",
        "from tensorflow.keras.models import Model\n",
        "from tensorflow.keras.layers import Conv2D,MaxPooling2D,Dense,Flatten,Dropout"
      ],
      "execution_count": null,
      "outputs": []
    },
    {
      "cell_type": "markdown",
      "metadata": {
        "id": "nLn90j58G2Qo"
      },
      "source": [
        "## Define Model"
      ]
    },
    {
      "cell_type": "code",
      "metadata": {
        "id": "mTiFmm9_G3Wn"
      },
      "source": [
        "class ConvNet(Model):\n",
        "\n",
        "    def __init__(self):\n",
        "        super(ConvNet, self).__init__()\n",
        "        self.conv1 = Conv2D(filters=16,kernel_size=2,padding=\"same\",activation=\"relu\",input_shape=(50,50,3))\n",
        "        self.max_pool1 = MaxPooling2D(pool_size=2)\n",
        "        self.conv2 = Conv2D(filters=32,kernel_size=2,padding=\"same\",activation=\"relu\")\n",
        "        self.max_pool2 = MaxPooling2D(pool_size=2)\n",
        "        self.conv3 = Conv2D(filters=64,kernel_size=2,padding=\"same\",activation=\"relu\")\n",
        "        self.max_pool3 = MaxPooling2D(pool_size=2)\n",
        "        self.drop1 = Dropout(0.2)\n",
        "        self.flatten = Flatten()\n",
        "        self.dense1 = Dense(500,activation=\"relu\")\n",
        "        self.drop2 = Dropout(0.2)\n",
        "        self.dense2 = Dense(2,activation=\"softmax\")\n",
        "\n",
        "    @tf.function\n",
        "    def call(self, x):\n",
        "        x = self.conv1(x)\n",
        "        x = self.max_pool1(x)\n",
        "        x = self.conv2(x)\n",
        "        x = self.max_pool2(x)\n",
        "        x = self.conv3(x)\n",
        "        x = self.max_pool3(x)\n",
        "        x = self.drop1(x)\n",
        "        x = self.flatten(x)\n",
        "        x = self.dense1(x)\n",
        "        x = self.drop2(x)\n",
        "        x = self.dense2(x)\n",
        "        return x"
      ],
      "execution_count": null,
      "outputs": []
    },
    {
      "cell_type": "markdown",
      "metadata": {
        "id": "XNfHI-9Swfrk"
      },
      "source": [
        "## Load dataset"
      ]
    },
    {
      "cell_type": "code",
      "metadata": {
        "id": "cowuKHOqwfAg"
      },
      "source": [
        "# take first train_perc% for train_data, last 100-train_perc% for test_data\n",
        "train_perc = 80\n",
        "\n",
        "train_data, test_data = tfds.load(\n",
        "    'malaria', split=['train[:{}%]'.format(train_perc), 'train[:{}%]'.format(100-train_perc)], \n",
        "    as_supervised=True)"
      ],
      "execution_count": null,
      "outputs": []
    },
    {
      "cell_type": "markdown",
      "metadata": {
        "id": "iKx2urxbwma1"
      },
      "source": [
        "## Inspect data set"
      ]
    },
    {
      "cell_type": "code",
      "metadata": {
        "colab": {
          "base_uri": "https://localhost:8080/",
          "height": 119
        },
        "id": "1vVMp_SLwopk",
        "outputId": "314bc20c-3b4f-4f45-adae-be45ce8a0a3c"
      },
      "source": [
        "fig, ax = plt.subplots(1,10)\n",
        "shapes = []\n",
        "\n",
        "for i, (img, lbl) in enumerate(train_data):\n",
        "    if i == 10:\n",
        "        break\n",
        "    ax[i].imshow(img, cmap='gray')\n",
        "    ax[i].set_title(lbl.numpy())\n",
        "    ax[i].axis(\"off\")\n",
        "    shapes.append(img.shape)\n",
        "\n",
        "print(shapes)    "
      ],
      "execution_count": null,
      "outputs": [
        {
          "output_type": "stream",
          "text": [
            "[TensorShape([103, 103, 3]), TensorShape([106, 121, 3]), TensorShape([139, 142, 3]), TensorShape([130, 118, 3]), TensorShape([121, 109, 3]), TensorShape([127, 121, 3]), TensorShape([166, 151, 3]), TensorShape([145, 139, 3]), TensorShape([139, 142, 3]), TensorShape([172, 145, 3])]\n"
          ],
          "name": "stdout"
        },
        {
          "output_type": "display_data",
          "data": {
            "image/png": "[encoded data removed]",
            "text/plain": [
              "<Figure size 432x288 with 10 Axes>"
            ]
          },
          "metadata": {
            "tags": [],
            "needs_background": "light"
          }
        }
      ]
    },
    {
      "cell_type": "markdown",
      "metadata": {
        "id": "KMaxBk-2ws_6"
      },
      "source": [
        "## Define some constants"
      ]
    },
    {
      "cell_type": "code",
      "metadata": {
        "id": "5BeTRDjGwtpy"
      },
      "source": [
        "# arbitrarily set. Feel free to change these\n",
        "PREFETCH_SIZE = tf.data.experimental.AUTOTUNE\n",
        "BATCH_SIZE = 128"
      ],
      "execution_count": null,
      "outputs": []
    },
    {
      "cell_type": "markdown",
      "metadata": {
        "id": "WhOipCR-wxPZ"
      },
      "source": [
        "## Prepare data"
      ]
    },
    {
      "cell_type": "code",
      "metadata": {
        "id": "dMWeKpJqwx_Q"
      },
      "source": [
        "def process_inp_and_label(input, label):\n",
        "    \"\"\" resize inputs and onehotify labels \"\"\"\n",
        "    new_input = input / 255\n",
        "    new_input = tf.image.resize(new_input, [50,50])\n",
        "    return new_input, tf.one_hot(label, 2)\n",
        "\n",
        "def data_pipeline(data):\n",
        "    \"\"\" helper function for data pipeline - does all the things we need \"\"\"\n",
        "    data = data.map(process_inp_and_label)\n",
        "    data = data.batch(BATCH_SIZE)\n",
        "    data = data.shuffle(buffer_size=BATCH_SIZE)\n",
        "    data = data.prefetch(PREFETCH_SIZE)\n",
        "    return data\n",
        "\n",
        "train_data = data_pipeline(train_data)\n",
        "test_data = data_pipeline(test_data)"
      ],
      "execution_count": null,
      "outputs": []
    },
    {
      "cell_type": "markdown",
      "metadata": {
        "id": "8lq65UcYw07K"
      },
      "source": [
        "## Define helper functions"
      ]
    },
    {
      "cell_type": "code",
      "metadata": {
        "id": "epINO_Nvw1fC"
      },
      "source": [
        "def train_step(model, input, target, loss_function, optimizer):\n",
        "    accuracy = None\n",
        "\n",
        "    # loss_object and optimizer_object are instances of respective tensorflow classes\n",
        "    with tf.GradientTape() as tape:\n",
        "        prediction = model(input)\n",
        "        accuracy = np.argmax(target, axis=1) == np.argmax(prediction, axis=1)\n",
        "        loss = loss_function(target, prediction)\n",
        "        gradients = tape.gradient(loss, model.trainable_variables)\n",
        "        optimizer.apply_gradients(zip(gradients, model.trainable_variables))\n",
        "\n",
        "    accuracy = np.mean(accuracy)\n",
        "\n",
        "    return loss, accuracy\n",
        "\n",
        "def test(model, test_data, loss_function):\n",
        "    # test over complete test data\n",
        "\n",
        "    test_accuracy_aggregator = []\n",
        "    test_loss_aggregator = []\n",
        "\n",
        "    for (input, target) in test_data:\n",
        "        prediction = model(input)\n",
        "        sample_test_loss = loss_function(target, prediction)\n",
        "        sample_test_accuracy = np.argmax(target, axis=1) == np.argmax(prediction, axis=1)\n",
        "        sample_test_accuracy = np.mean(sample_test_accuracy)\n",
        "        test_loss_aggregator.append(sample_test_loss.numpy())\n",
        "        test_accuracy_aggregator.append(sample_test_accuracy)\n",
        "\n",
        "    test_loss = np.mean(test_loss_aggregator)\n",
        "    test_accuracy = np.mean(test_accuracy_aggregator)\n",
        "\n",
        "    return test_loss, test_accuracy\n",
        "\n",
        "def plot_stats(train_stat, test_stat, stat_name):\n",
        "    plt.figure()\n",
        "    line1, = plt.plot(train_stat)\n",
        "    line2, = plt.plot(test_stat)\n",
        "    plt.xlabel(\"Training steps\")\n",
        "    plt.ylabel(stat_name)\n",
        "    plt.legend((line1, line2), (\"training\", \"test\"))\n",
        "    plt.show()"
      ],
      "execution_count": null,
      "outputs": []
    },
    {
      "cell_type": "code",
      "metadata": {
        "id": "UlnvIySIw5gn"
      },
      "source": [
        "tf.keras.backend.clear_session()"
      ],
      "execution_count": null,
      "outputs": []
    },
    {
      "cell_type": "markdown",
      "metadata": {
        "id": "8y89-0UgxHZ1"
      },
      "source": [
        "## Prepare for training"
      ]
    },
    {
      "cell_type": "code",
      "metadata": {
        "id": "oLva1oEcxH6M"
      },
      "source": [
        "num_epochs = 10\n",
        "learning_rate = 0.001\n",
        "# set to 0 if you want to use mean instead of running average\n",
        "running_average_factor = 0\n",
        "loss = tf.keras.losses.BinaryCrossentropy()\n",
        "optimizer = tf.keras.optimizers.Adam(learning_rate)\n",
        "model = ConvNet()\n",
        "\n",
        "# define calc_stat here to access running_average_factor\n",
        "def calc_stat(stat_so_far, new_stat, stat_num):\n",
        "    \"\"\"Calculates appropriate statistic\n",
        "\n",
        "    :param stat_so_far: the statistic that we have observed so far\n",
        "    :param new_stat: the newest observed statistic\n",
        "    :param stat_num: new_stat is the stat_num-th observed statistic\n",
        "    :return: if 0, return mean, else running average\n",
        "    \"\"\"\n",
        "\n",
        "    if running_average_factor:\n",
        "        return running_average_factor * stat_so_far + (1 - running_average_factor) * new_stat\n",
        "    # calculate mean of observed statistics so far\n",
        "    return ((stat_num - 1) * stat_so_far + new_stat) / stat_num\n",
        "\n",
        "# Initialize lists for later visualization.\n",
        "train_losses = []\n",
        "train_accuracies = []\n",
        "test_losses = []\n",
        "test_accuracies = []"
      ],
      "execution_count": null,
      "outputs": []
    },
    {
      "cell_type": "markdown",
      "metadata": {
        "id": "STc3UVtvxMkw"
      },
      "source": [
        "##Train"
      ]
    },
    {
      "cell_type": "code",
      "metadata": {
        "colab": {
          "base_uri": "https://localhost:8080/"
        },
        "id": "Lglt8alFxNCR",
        "outputId": "f5639679-0e22-4231-b6c2-5318e57e1a2f"
      },
      "source": [
        "for epoch in range(num_epochs):\n",
        "    print('Epoch: ' + str(epoch+1))\n",
        "\n",
        "    # shuffle train data. No need to shuffle test data\n",
        "    train_data = train_data.shuffle(buffer_size=BATCH_SIZE)\n",
        "\n",
        "    train_loss_stat = 0\n",
        "    train_accuracy_stat = 0\n",
        "    for i, (input, target) in enumerate(train_data):\n",
        "        train_loss, train_accuracy = train_step(model, input, target, loss, optimizer)\n",
        "        train_loss_stat = calc_stat(train_loss_stat, train_loss, i+1)\n",
        "        train_accuracy_stat = calc_stat(train_accuracy_stat, train_accuracy, i+1)\n",
        "    train_losses.append(train_loss_stat)\n",
        "    train_accuracies.append(train_accuracy_stat)\n",
        "\n",
        "    # testing\n",
        "    test_loss, test_accuracy = test(model, test_data, loss)\n",
        "    test_losses.append(test_loss)\n",
        "    test_accuracies.append(test_accuracy)"
      ],
      "execution_count": null,
      "outputs": [
        {
          "output_type": "stream",
          "text": [
            "Epoch: 1\n",
            "Epoch: 2\n",
            "Epoch: 3\n",
            "Epoch: 4\n",
            "Epoch: 5\n",
            "Epoch: 6\n",
            "Epoch: 7\n",
            "Epoch: 8\n",
            "Epoch: 9\n",
            "Epoch: 10\n"
          ],
          "name": "stdout"
        }
      ]
    },
    {
      "cell_type": "markdown",
      "metadata": {
        "id": "z4n2v1CLxOgJ"
      },
      "source": [
        "##Plot"
      ]
    },
    {
      "cell_type": "code",
      "metadata": {
        "colab": {
          "base_uri": "https://localhost:8080/",
          "height": 541
        },
        "id": "pLGR-RGRxP_0",
        "outputId": "d38763ac-d483-47b3-de07-de672252693d"
      },
      "source": [
        "plot_stats(train_losses, test_losses, \"Loss\")\n",
        "plot_stats(train_accuracies, test_accuracies, \"Accuracy\")"
      ],
      "execution_count": null,
      "outputs": [
        {
          "output_type": "display_data",
          "data": {
            "image/png": "[encoded data removed]",
            "text/plain": [
              "<Figure size 432x288 with 1 Axes>"
            ]
          },
          "metadata": {
            "tags": [],
            "needs_background": "light"
          }
        },
        {
          "output_type": "display_data",
          "data": {
            "image/png": "[encoded data removed]",
            "text/plain": [
              "<Figure size 432x288 with 1 Axes>"
            ]
          },
          "metadata": {
            "tags": [],
            "needs_background": "light"
          }
        }
      ]
    },
    {
      "cell_type": "markdown",
      "metadata": {
        "id": "9cT8hmJVxS3h"
      },
      "source": [
        "## Assert over 95%"
      ]
    },
    {
      "cell_type": "code",
      "metadata": {
        "colab": {
          "base_uri": "https://localhost:8080/"
        },
        "id": "WkGtQExqxTXN",
        "outputId": "4ce551d3-330c-4573-d5e0-235995c7f253"
      },
      "source": [
        "assert test_accuracies[-1] >= 0.95\n",
        "print(test_accuracies)"
      ],
      "execution_count": null,
      "outputs": [
        {
          "output_type": "stream",
          "text": [
            "[0.7846235795454546, 0.9456676136363636, 0.9552556818181818, 0.9584517045454546, 0.9623579545454546, 0.9662642045454546, 0.9666193181818182, 0.9662642045454546, 0.9698153409090909, 0.9733664772727273]\n"
          ],
          "name": "stdout"
        }
      ]
    }
  ]
}