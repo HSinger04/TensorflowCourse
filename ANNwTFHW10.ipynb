{
  "nbformat": 4,
  "nbformat_minor": 0,
  "metadata": {
    "colab": {
      "name": "ANNwTFHW9.ipynb",
      "provenance": []
    },
    "kernelspec": {
      "name": "python3",
      "display_name": "Python 3"
    },
    "accelerator": "GPU"
  },
  "cells": [
    {
      "cell_type": "markdown",
      "metadata": {
        "id": "gnUoo-NzYmr_"
      },
      "source": [
        "[![Open In Colab](https://colab.research.google.com/assets/colab-badge.svg)](https://colab.research.google.com/github/sascha-senko/TensorflowCourse/blob/main/ANNwTFHW10.ipynb)"
      ]
    },
    {
      "cell_type": "markdown",
      "metadata": {
        "id": "sf5-glbon-07"
      },
      "source": [
        "# General stuff"
      ]
    },
    {
      "cell_type": "code",
      "metadata": {
        "id": "oj9MbknNYnHD",
        "colab": {
          "base_uri": "https://localhost:8080/"
        },
        "outputId": "cfc6cfe6-c176-4e80-b59f-2fdfa8500755"
      },
      "source": [
        "import matplotlib.pyplot as plt\n",
        "import numpy as np\n",
        "import sys\n",
        "import random\n",
        "%load_ext tensorboard\n",
        "%tensorflow_version 2.x\n",
        "import tensorflow as tf\n",
        "import tensorflow_datasets as tfds\n",
        "from tensorflow.keras.models import Model\n",
        "from tensorflow.keras.layers import Conv2D, Flatten, Dense, Conv2DTranspose, \\\n",
        " Reshape, MaxPooling2D, Dropout, BatchNormalization, UpSampling2D, ReLU, \\\n",
        " ELU, Layer\n",
        "from tensorflow import debugging as debug\n",
        "import tensorflow_probability as tfp\n",
        "from functools import partial\n",
        "import nltk\n",
        "nltk.download(\"punkt\")\n",
        "import re\n",
        "from collections import Counter"
      ],
      "execution_count": null,
      "outputs": [
        {
          "output_type": "stream",
          "text": [
            "The tensorboard extension is already loaded. To reload it, use:\n",
            "  %reload_ext tensorboard\n",
            "[nltk_data] Downloading package punkt to /root/nltk_data...\n",
            "[nltk_data]   Package punkt is already up-to-date!\n"
          ],
          "name": "stdout"
        }
      ]
    },
    {
      "cell_type": "code",
      "metadata": {
        "id": "IpxDyHAlisNe"
      },
      "source": [
        "# Clear any logs from previous runs\n",
        "%rm -rf ./logs/"
      ],
      "execution_count": null,
      "outputs": []
    },
    {
      "cell_type": "markdown",
      "metadata": {
        "id": "cEw3CwLDTFqz"
      },
      "source": [
        "## Helper functions"
      ]
    },
    {
      "cell_type": "code",
      "metadata": {
        "id": "j84VSHVtTGiG"
      },
      "source": [
        "def data_pipeline(data):\n",
        "    \"\"\" helper function for data pipeline - does all the things we need \"\"\"\n",
        "\n",
        "    data = data.shuffle(buffer_size=SHUFFLE_SIZE)\n",
        "    data = data.batch(BATCH_SIZE)\n",
        "    data = data.prefetch(PREFETCH_SIZE)\n",
        "    return data\n",
        "\n",
        "@tf.function\n",
        "def train(model, optimizer, loss_tracker, accuracy_tracker, train_data, num_epoch):\n",
        "    for epoch in tf.range(num_epochs):\n",
        "        tf.print('Epoch: ' + str(epoch+1))\n",
        "        # reset statistics\n",
        "        loss_tracker.reset_states()\n",
        "        accuracy_tracker.reset_states()\n",
        "\n",
        "        for inputs, labels in train_data:\n",
        "            \n",
        "            loss, accuracy = skip_gram_train_step(model, inputs, labels, optimizer)\n",
        "\n",
        "            loss_tracker.update_state(loss)\n",
        "            accuracy_tracker.update_state(accuracy)\n",
        "\n",
        "        # Write statistics into summary\n",
        "        with train_writer.as_default():\n",
        "            tf.summary.scalar('loss', loss_tracker.result(), step=epoch)\n",
        "            tf.summary.scalar('accuracy', accuracy_tracker.result(), step=epoch)    "
      ],
      "execution_count": null,
      "outputs": []
    },
    {
      "cell_type": "markdown",
      "metadata": {
        "id": "q1Gb14QmAwAE"
      },
      "source": [
        "## Load dataset"
      ]
    },
    {
      "cell_type": "code",
      "metadata": {
        "id": "APmBa9L3AxF8"
      },
      "source": [
        "whole_text = tfds.load('tiny_shakespeare', split='train')\n",
        "for total_text in whole_text:\n",
        "    whole_text = str(total_text['text'].numpy())"
      ],
      "execution_count": null,
      "outputs": []
    },
    {
      "cell_type": "markdown",
      "metadata": {
        "id": "VqueCEKXAZ1A"
      },
      "source": [
        "# SkipGram"
      ]
    },
    {
      "cell_type": "markdown",
      "metadata": {
        "id": "WYyZYYahYDxy"
      },
      "source": [
        "## Some constants"
      ]
    },
    {
      "cell_type": "code",
      "metadata": {
        "id": "muI0biJfYDTz"
      },
      "source": [
        "CONTEXT_WINDOW_HALF = 2\n",
        "# we only allow CONTEXT_WINDOW to be an even number\n",
        "CONTEXT_WINDOW = 2 * CONTEXT_WINDOW_HALF\n",
        "SUB_SAMPLE = 0.001\n",
        "EMBED_SIZE = 64\n",
        "VOCAB_SIZE = 10000\n",
        "SHUFFLE_SIZE = VOCAB_SIZE\n",
        "PREFETCH_SIZE = tf.data.experimental.AUTOTUNE\n",
        "BATCH_SIZE = 20\n",
        "NO_SPECIAL = False\n",
        "UNKNOWN_WORD = \"UNKNOWN\""
      ],
      "execution_count": null,
      "outputs": []
    },
    {
      "cell_type": "markdown",
      "metadata": {
        "id": "NWciiniE3DYw"
      },
      "source": [
        "## Deal with words"
      ]
    },
    {
      "cell_type": "code",
      "metadata": {
        "id": "hy1V91473Evx"
      },
      "source": [
        "# lower case everything\n",
        "x_train = whole_text.lower()\n",
        "# Get rid of all new lines\n",
        "# TODO: make sure that this works correctly. Observed some pretty weird behavior\n",
        "x_train = x_train.split(r\"\\\\n\")\n",
        "words = []\n",
        "# tokenize\n",
        "for line in x_train:\n",
        "    temp = []\n",
        "    tokens = nltk.word_tokenize(line)\n",
        "    # if True, get rid of all special characters\n",
        "    if NO_SPECIAL:\n",
        "        for token in tokens:\n",
        "            if re.search('\\w+', token):\n",
        "                temp.append(token)\n",
        "    else:\n",
        "        temp = tokens            \n",
        "    words.extend(temp)\n",
        "\n",
        "x_train = words\n",
        "words = Counter(words).most_common(VOCAB_SIZE)\n",
        "id_to_word = [word for word, _ in words]\n",
        "# garbage collect this\n",
        "del words\n",
        "\n",
        "word_to_id = {}\n",
        "for id, word in enumerate(id_to_word):\n",
        "    word_to_id[word] = id\n",
        "\n",
        "# unknown words get id len(id_to_word)\n",
        "id_to_word.append(UNKNOWN_WORD)\n",
        "\n",
        "# apply word_to_id map on x_train\n",
        "x_train = [word_to_id.get(x, VOCAB_SIZE) for x in x_train]"
      ],
      "execution_count": null,
      "outputs": []
    },
    {
      "cell_type": "markdown",
      "metadata": {
        "id": "MXla4f5zYmxw"
      },
      "source": [
        "## Finish up dataset"
      ]
    },
    {
      "cell_type": "code",
      "metadata": {
        "id": "yATc1j_UYpXy"
      },
      "source": [
        "y_train = []\n",
        "# Get all targets\n",
        "for i, input in enumerate(x_train[CONTEXT_WINDOW_HALF:-CONTEXT_WINDOW_HALF]):\n",
        "    # we leave out the first and last CONTEXT_WINDOW_HALF words out\n",
        "    i = i + CONTEXT_WINDOW_HALF\n",
        "    # append context words as labels\n",
        "    for j in range(CONTEXT_WINDOW_HALF):\n",
        "        y_train.append(x_train[i-1-j])\n",
        "        y_train.append(x_train[i+1+j])\n",
        "\n",
        "assert len(y_train) == (len(x_train) - CONTEXT_WINDOW) * CONTEXT_WINDOW, \\\n",
        "\"is: \" + str(len(input_target_pairs)) + \" must: \" + str((len(x_train) - CONTEXT_WINDOW) * CONTEXT_WINDOW)\n",
        "\n",
        "train_data = tf.data.Dataset.from_tensor_slices((np.repeat(x_train[CONTEXT_WINDOW_HALF:-CONTEXT_WINDOW_HALF], CONTEXT_WINDOW), y_train))\n",
        "\n",
        "train_data = data_pipeline(train_data)"
      ],
      "execution_count": null,
      "outputs": []
    },
    {
      "cell_type": "code",
      "metadata": {
        "id": "XKXFMtUhf-2l"
      },
      "source": [
        "# # Check if correct - check only works if we leave out data_pipeline\n",
        "# for i, (input, target) in enumerate(train_data):\n",
        "#     print(input)\n",
        "#     print(target)\n",
        "#     if i == 3:\n",
        "#         break\n",
        "\n",
        "# print(x_train[:5])        "
      ],
      "execution_count": null,
      "outputs": []
    },
    {
      "cell_type": "markdown",
      "metadata": {
        "id": "b1iifUJxUJ0-"
      },
      "source": [
        "## Define SkipGram "
      ]
    },
    {
      "cell_type": "code",
      "metadata": {
        "id": "K7NNTNvvUKcc"
      },
      "source": [
        "class SkipGram(Layer):\n",
        "    # TODO: args need to be adjusted\n",
        "    def __init__(self, vocab_size, embed_size):\n",
        "        super(SkipGram, self).__init__()\n",
        "        # TODO:  In the init function, where you normally define the layers, \n",
        "        # you can initialize the vocabulary and embedding size \n",
        "        # and use these in the build function to create weight matrices of the correct shape.\n",
        "        \n",
        "    @tf.function\n",
        "    def call(self, context, x):\n",
        "        # TODO:\n",
        "        # get the embeddings using tf.nn.embedding lookup(). Instead of \n",
        "        # calculating the scores, we will directly calculate and \n",
        "        # return the loss using tf.nn.nce loss. Note that you do not need to \n",
        "        # compute the scores in the call function. The loss function \n",
        "        # does that with the weights and biases and returns the nce loss."
      ],
      "execution_count": null,
      "outputs": []
    },
    {
      "cell_type": "markdown",
      "metadata": {
        "id": "l6T40tU_Zhl9"
      },
      "source": [
        "## Define some constants"
      ]
    },
    {
      "cell_type": "code",
      "metadata": {
        "id": "YNO5r8R9ZjU9"
      },
      "source": [
        "NUM_EPOCHS = 10\n",
        "LEARNING_RATE = 10\n",
        "OPTIMIZER = tf.keras.optimizers.Adam(LEARNING_RATE)\n",
        "EMBED_TRACKER = tf.TensorArray(size=NUM_EPOCHS, dynamic_size=False)\n",
        "\n",
        "import datetime\n",
        "\n",
        "current_time = datetime.datetime.now().strftime(\"%Y%m%d-%H%M%S\")\n",
        "skip_gram_log_dir = 'logs/gradient_tape/' + current_time + '/skip_gram'\n",
        "train_writer = tf.summary.create_file_writer(skip_gram_log_dir)"
      ],
      "execution_count": null,
      "outputs": []
    },
    {
      "cell_type": "markdown",
      "metadata": {
        "id": "hXIkpJF-_iWS"
      },
      "source": [
        "## SkipGram train step"
      ]
    },
    {
      "cell_type": "code",
      "metadata": {
        "id": "hXrmafgv_kY6"
      },
      "source": [
        "@tf.function\n",
        "def skip_gram_train_step(model, inputs, labels, optimizer):\n",
        "    # loss_object and optimizer_object are instances of respective tensorflow classes\n",
        "    with tf.GradientTape() as tape:\n",
        "        # get one sample\n",
        "        label = tf.random.uniform(1, maxval=CONTEXT_WINDOW, dtype=tf.dtypes.int16)\n",
        "        loss = model(inputs, label)\n",
        "        # TODO:\n",
        "        # Using this loss function\n",
        "        # you need to average over the batch manually\n",
        "        debug.assert_shapes([(loss, ())])\n",
        "        gradients = tape.gradient(loss, model.trainable_variables)\n",
        "\n",
        "    # update weights  \n",
        "    optimizer.apply_gradients(zip(gradients, model.trainable_variables))\n",
        "\n",
        "    # record embedding\n",
        "    # TODO: use EMBED_TRACKER to track embedding matrix\n",
        "\n",
        "    # dummy value for accuracy\n",
        "    return loss, 0"
      ],
      "execution_count": null,
      "outputs": []
    },
    {
      "cell_type": "markdown",
      "metadata": {
        "id": "uESQeQfwtGVy"
      },
      "source": [
        "## Train SkipGram"
      ]
    },
    {
      "cell_type": "code",
      "metadata": {
        "id": "H9LywnzRZm-f"
      },
      "source": [
        "# remove all active models for memory purposes\n",
        "tf.keras.backend.clear_session()\n",
        "\n",
        "# TODO: initialize our model\n",
        "model = LSTM(HIDDEN_SIZE)\n",
        "\n",
        "loss_tracker = tf.keras.metrics.Mean()\n",
        "accuracy_tracker = tf.keras.metrics.Mean()\n",
        "\n",
        "train(model, optimizer, loss_tracker, accuracy_tracker, train_data, NUM_EPOCH):"
      ],
      "execution_count": null,
      "outputs": []
    },
    {
      "cell_type": "markdown",
      "metadata": {
        "id": "Q-4CHJEjBkYv"
      },
      "source": [
        "## Inspect embedding"
      ]
    },
    {
      "cell_type": "code",
      "metadata": {
        "id": "bD3rcH0VBtkf"
      },
      "source": [
        "# TODO: use EMBED_TRACKER to print out neighbors of interest words\n",
        "# TODO: release memory of our tensorarray"
      ],
      "execution_count": null,
      "outputs": []
    },
    {
      "cell_type": "markdown",
      "metadata": {
        "id": "PQOZfxf4Acqm"
      },
      "source": [
        "# Shakespeare"
      ]
    },
    {
      "cell_type": "markdown",
      "metadata": {
        "id": "gzu7y9DpVG04"
      },
      "source": [
        "## Some constants"
      ]
    },
    {
      "cell_type": "code",
      "metadata": {
        "id": "-TtayH0pVJZl"
      },
      "source": [
        "SEQ_LENGTH = 20\n",
        "SHUFFLE_SIZE = VOCAB_SIZE\n",
        "PREFETCH_SIZE = tf.data.experimental.AUTOTUNE\n",
        "BATCH_SIZE = 20"
      ],
      "execution_count": null,
      "outputs": []
    },
    {
      "cell_type": "markdown",
      "metadata": {
        "id": "WIOZHQhiAzjy"
      },
      "source": [
        "## Preprocess Dataset"
      ]
    },
    {
      "cell_type": "code",
      "metadata": {
        "id": "n53i9cb0A7Q5"
      },
      "source": [
        "# lower case everything\n",
        "x_train = whole_text.lower()\n",
        "x_train = x_train\n",
        "# Replace all new lines with white space\n",
        "x_train = re.sub(r\"\\\\n\", \" \", x_train) \n",
        "\n",
        "id_to_word = list(set(x_train))\n",
        "\n",
        "word_to_id = {}\n",
        "for i, word in enumerate(id_to_word):\n",
        "    word_to_id[word] = i\n",
        "\n",
        "# Map the characters to numbers\n",
        "x_train = [word_to_id[x] for x in x_train]\n",
        "\n",
        "# we will need this for target\n",
        "last_num = x_train[-1]\n",
        "\n",
        "# Create input subsequences\n",
        "x_train = [x_train[i:i+SEQ_LENGTH] for i in range(len(x_train)-SEQ_LENGTH-1)]\n",
        "\n",
        "# Generate labels\n",
        "y_train = [x_train[i][-1] for i in range(1, len(x_train))] \n",
        "\n",
        "# add label for last subsequence\n",
        "y_train.append(last_num)\n",
        "\n",
        "train_data = tf.data.Dataset.from_tensor_slices((x_train, y_train))\n",
        "\n",
        "train_data = data_pipeline(train_data)"
      ],
      "execution_count": null,
      "outputs": []
    },
    {
      "cell_type": "markdown",
      "metadata": {
        "id": "FgHWBDwROBDr"
      },
      "source": [
        "## Text Generation Model"
      ]
    },
    {
      "cell_type": "code",
      "metadata": {
        "id": "cYjq49z_OCaC",
        "outputId": "3853e2b3-f1e0-466b-8b36-37b68a8940bd",
        "colab": {
          "base_uri": "https://localhost:8080/",
          "height": 139
        }
      },
      "source": [
        "# TODO: @Sascha\n",
        "# TODO: Wahrscheinlich wirst du https://www.tensorflow.org/api_docs/python/tf/nn/embedding_lookup brauchen\n",
        "\n",
        "\n",
        "\n",
        "class Shakespeare_RNN(Model):\n",
        "  def __init__(self, num_cells = 4, hidden_size = 256, output_size = 128 , return_sequences=False):\n",
        "    super(Shakespeare_RNN, self).__init__()\n",
        "\n",
        "    self.rnn = tf.keras.layers.RNN([tf.keras.layers.SimpleRNNCell(hidden_size) for _ in range(num_cells)], return_sequences)\n",
        "    self.readout_layer = tf.keras.layers.Dense(units=output_size, activation='softmax')\n",
        "        \n",
        "    \n",
        "  def call(self, x):\n",
        "    x = self.rnn(x)\n",
        "    x = self.readout_layer(x)\n",
        "    return x"
      ],
      "execution_count": 1,
      "outputs": [
        {
          "output_type": "error",
          "ename": "SyntaxError",
          "evalue": "ignored",
          "traceback": [
            "\u001b[0;36m  File \u001b[0;32m\"<ipython-input-1-a52763c235a5>\"\u001b[0;36m, line \u001b[0;32m7\u001b[0m\n\u001b[0;31m    def __init__(self, num_cells = 4, hidden_size, output_size, return_sequences=False):\u001b[0m\n\u001b[0m                ^\u001b[0m\n\u001b[0;31mSyntaxError\u001b[0m\u001b[0;31m:\u001b[0m non-default argument follows default argument\n"
          ]
        }
      ]
    },
    {
      "cell_type": "markdown",
      "metadata": {
        "id": "5mTQJuSTA7vo"
      },
      "source": [
        "# Run TensorBoard"
      ]
    },
    {
      "cell_type": "code",
      "metadata": {
        "id": "X5X7Z1RnpH1G"
      },
      "source": [
        "# Open tensorboard\n",
        "%tensorboard --logdir logs/gradient_tape"
      ],
      "execution_count": null,
      "outputs": []
    }
  ]
}