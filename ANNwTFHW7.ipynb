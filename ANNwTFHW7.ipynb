{
  "nbformat": 4,
  "nbformat_minor": 0,
  "metadata": {
    "colab": {
      "name": "ANNwTFHW5.ipynb",
      "provenance": [],
      "collapsed_sections": []
    },
    "kernelspec": {
      "name": "python3",
      "language": "python",
      "display_name": "Python 3"
    },
    "accelerator": "GPU"
  },
  "cells": [
    {
      "cell_type": "markdown",
      "metadata": {
        "collapsed": false,
        "pycharm": {
          "name": "#%% md\n"
        },
        "id": "Tk3lP_umiEcA"
      },
      "source": [
        "[![Open In Colab](https://colab.research.google.com/assets/colab-badge.svg)](https://colab.research.google.com/github/sascha-senko/TensorflowCourse/blob/main/ANNwTFHW7.ipynb)"
      ]
    },
    {
      "cell_type": "markdown",
      "metadata": {
        "id": "If6lyQRtwScq"
      },
      "source": [
        "## Imports"
      ]
    },
    {
      "cell_type": "code",
      "metadata": {
        "id": "SS5Zdc67wVjk"
      },
      "source": [
        "# TODO: Clean up imports\n",
        "import matplotlib.pyplot as plt\n",
        "import numpy as np\n",
        "%tensorflow_version 2.x\n",
        "import tensorflow as tf\n",
        "import tensorflow_datasets as tfds\n",
        "from tensorflow.keras.models import Model\n",
        "from tensorflow.keras.layers import Conv2D, MaxPooling2D, Dropout, \\\n",
        "    BatchNormalization, ELU, Flatten, Dense, ZeroPadding2D, AveragePooling2D, \\\n",
        "    Layer, GlobalAveragePooling2D, concatenate\n",
        "from tensorflow.keras.regularizers import L2\n",
        "from functools import partial  \n",
        "from tensorflow import debugging as debug"
      ],
      "execution_count": null,
      "outputs": []
    },
    {
      "cell_type": "markdown",
      "metadata": {
        "id": "XNfHI-9Swfrk"
      },
      "source": [
        "## Load dataset"
      ]
    },
    {
      "cell_type": "code",
      "metadata": {
        "id": "cowuKHOqwfAg"
      },
      "source": [
        "# TODO: load appropriate dataset. See what needs to be loaded first, though\n",
        "# Test set is necessary - take 1000 examples. Also, labels of test set, but not of training set, are necessary\n",
        "(x_train, _), (x_test, y_test) = tf.keras.datasets.fashion_mnist.load_data()\n",
        "\n",
        "x_train = tf.data.Dataset.from_tensor_slices(x_train)\n",
        "x_test = tf.data.Dataset.from_tensor_slices(x_test)\n",
        "\n",
        "# Maps labels to object names\n",
        "num_to_name = [\"T-shirt/top\", \"Trouser\", \"Pullover\", \"Dress\", \"Coat\", \"Sandal\", \"Shirt\", \"Sneaker\", \"Bag\", \"Ankle boot\"]\n",
        "\n",
        "y_test = [num_to_name[y] for y in y_test]\n",
        "y_test = tf.data.Dataset.from_tensor_slices(y_test)"
      ],
      "execution_count": null,
      "outputs": []
    },
    {
      "cell_type": "markdown",
      "metadata": {
        "id": "iKx2urxbwma1"
      },
      "source": [
        "## Inspect data set"
      ]
    },
    {
      "cell_type": "code",
      "metadata": {
        "colab": {
          "base_uri": "https://localhost:8080/",
          "height": 59
        },
        "id": "1vVMp_SLwopk",
        "outputId": "9e970c31-4994-441f-ad9f-2f62970c7087"
      },
      "source": [
        "fig, ax = plt.subplots(1,10)\n",
        "shapes = []\n",
        "\n",
        "for i, img in enumerate(x_train):\n",
        "    if i == 10:\n",
        "        break\n",
        "    ax[i].imshow(img, cmap='gray')\n",
        "    ax[i].axis(\"off\")"
      ],
      "execution_count": null,
      "outputs": [
        {
          "output_type": "display_data",
          "data": {
            "image/png": "[encoded data removed]",
            "text/plain": [
              "<Figure size 432x288 with 10 Axes>"
            ]
          },
          "metadata": {
            "tags": [],
            "needs_background": "light"
          }
        }
      ]
    },
    {
      "cell_type": "markdown",
      "metadata": {
        "id": "KMaxBk-2ws_6"
      },
      "source": [
        "## Define some constants"
      ]
    },
    {
      "cell_type": "code",
      "metadata": {
        "id": "5BeTRDjGwtpy"
      },
      "source": [
        "# arbitrarily set. Feel free to change these\n",
        "SHUFFLE_SIZE = train_data.cardinality()\n",
        "PREFETCH_SIZE = tf.data.experimental.AUTOTUNE\n",
        "BATCH_SIZE = 64"
      ],
      "execution_count": null,
      "outputs": []
    },
    {
      "cell_type": "markdown",
      "metadata": {
        "id": "WhOipCR-wxPZ"
      },
      "source": [
        "## Prepare data"
      ]
    },
    {
      "cell_type": "code",
      "metadata": {
        "id": "dMWeKpJqwx_Q"
      },
      "source": [
        "def process_inp(input):\n",
        "    \"\"\" rescale and add channel dimension \"\"\"\n",
        "    # normalize between zero and one\n",
        "    input = input / 255\n",
        "    # add extra dimension for channel\n",
        "    input = tf.expand_dims(input, -1)\n",
        "    return input    \n",
        "\n",
        "# do process_inp on inputs\n",
        "x_train = x_train.map(process_inp)\n",
        "x_test = x_test.map(process_inp)\n",
        "\n",
        "# zip test input and label\n",
        "test_data = tf.data.Dataset.zip((x_test, y_test))\n",
        "# take only first 1000 examples\n",
        "test_data = test_data.take(1000)\n",
        "\n",
        "\n",
        "def data_pipeline(data, training):\n",
        "    \"\"\" helper function for data pipeline - does all the things we need \"\"\"\n",
        "\n",
        "    if training:\n",
        "        data = data.shuffle(buffer_size=SHUFFLE_SIZE)\n",
        "\n",
        "    data = data.batch(BATCH_SIZE)\n",
        "    data = data.prefetch(PREFETCH_SIZE)\n",
        "    return data\n",
        "\n",
        "x_train = data_pipeline(x_train, True)\n",
        "test_data = data_pipeline(test_data, False)"
      ],
      "execution_count": null,
      "outputs": []
    },
    {
      "cell_type": "markdown",
      "metadata": {
        "id": "2DLzOt6EFST5"
      },
      "source": [
        "## Define Model"
      ]
    },
    {
      "cell_type": "markdown",
      "metadata": {
        "id": "Hqzt1QbVFT8u"
      },
      "source": [
        "### Encoder"
      ]
    },
    {
      "cell_type": "code",
      "metadata": {
        "id": "wmAH3JmtFVUE"
      },
      "source": [
        "class Encoder(Model):\n",
        "    # TODO: Implement init. If necessary, add additional arguments to init. \n",
        "    # Please use an output dimension of 10 for the final dense layer.\n",
        "    def __init__():\n",
        "        super(Encoder, self).init()\n",
        "        raise NotImplementedError(\"TODO: Implement Encoder\")\n",
        "\n",
        "    # TODO: Implement call. If necessary, add additional arguments to call\n",
        "    def call(x):\n",
        "        raise NotImplementedError(\"TODO: Define call\")     "
      ],
      "execution_count": null,
      "outputs": []
    },
    {
      "cell_type": "markdown",
      "metadata": {
        "id": "9lIIYajNGWpp"
      },
      "source": [
        "#### Check Encoder"
      ]
    },
    {
      "cell_type": "code",
      "metadata": {
        "id": "ZWv2ZyYkGaR4"
      },
      "source": [
        "test_inp = next(iter(x_train))\n",
        "# TODO: @Sascha: Maybe you need to adjust the init arguments?\n",
        "encoder = Encoder()\n",
        "out = encoder(x)\n",
        "# Assert that shape of out is BATCH_SIZE, 10\n",
        "debug.assert_equal(out.shape, tf.zeros(BATCH_SIZE, 10).shape)"
      ],
      "execution_count": null,
      "outputs": []
    },
    {
      "cell_type": "markdown",
      "metadata": {
        "id": "SJHXYVylJXir"
      },
      "source": [
        "### Decoder"
      ]
    },
    {
      "cell_type": "code",
      "metadata": {
        "id": "mdOuIUpEJdhL"
      },
      "source": [
        "class Encoder(Model):\n",
        "    # TODO: Implement init. If necessary, add additional arguments to init. \n",
        "    def __init__():\n",
        "        super(Encoder, self).init()\n",
        "        raise NotImplementedError(\"TODO: Implement Encoder\")\n",
        "\n",
        "    # TODO: Implement call. If necessary, add additional arguments to call\n",
        "    def call(x):\n",
        "        raise NotImplementedError(\"TODO: Define call\")     "
      ],
      "execution_count": null,
      "outputs": []
    },
    {
      "cell_type": "markdown",
      "metadata": {
        "id": "pHgLrPmRJa2X"
      },
      "source": [
        "#### Check Decoder"
      ]
    },
    {
      "cell_type": "code",
      "metadata": {
        "id": "rRZd982JJlPK"
      },
      "source": [
        "test_inp = tf.random.uniform((BATCH_SIZE, 10))\n",
        "# TODO: @Sarah: Maybe you need to adjust the init arguments?\n",
        "decoder = Decoder()\n",
        "out = decoder(x)\n",
        "# Assert that shape of out is BATCH_SIZE, 28, 28, 1\n",
        "check_tensor = tf.zeros(BATCH_SIZE, 28, 28, 1)\n",
        "# Check shape\n",
        "debug.assert_equal(out.shape, check_tensor.shape)\n",
        "# Check values between 0 and 1\n",
        "debug.assert_greater_equal(out, check_tensor)\n",
        "debug.assert_less_equal(out, check_tensor + 1)"
      ],
      "execution_count": null,
      "outputs": []
    },
    {
      "cell_type": "markdown",
      "metadata": {
        "id": "EVW1PiNbZIEX"
      },
      "source": [
        "### Autoencoder"
      ]
    },
    {
      "cell_type": "code",
      "metadata": {
        "id": "AcoXQSjGZQ_n"
      },
      "source": [
        "class Autoencoder(Model):\n",
        "    # TODO: adjust init arguments\n",
        "    def __init__():\n",
        "        # TODO: adjust init arguments\n",
        "        self.encoder = Encoder()\n",
        "        self.decoder = Decoder()\n",
        "\n",
        "    # TODO: adjust call arguments\n",
        "    def call(x):    \n",
        "        x = self.encoder(x)\n",
        "        x = self.decoder(x)\n",
        "\n",
        "        return x"
      ],
      "execution_count": null,
      "outputs": []
    },
    {
      "cell_type": "code",
      "metadata": {
        "id": "8xtVpF1VMo1s"
      },
      "source": [
        "# Leave following things to Hermann: Training, plotting "
      ],
      "execution_count": null,
      "outputs": []
    }
  ]
}