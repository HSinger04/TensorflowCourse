{
  "nbformat": 4,
  "nbformat_minor": 0,
  "metadata": {
    "colab": {
      "name": "ANNwTFHW5.ipynb",
      "provenance": [],
      "collapsed_sections": []
    },
    "kernelspec": {
      "name": "python3",
      "language": "python",
      "display_name": "Python 3"
    },
    "accelerator": "GPU"
  },
  "cells": [
    {
      "cell_type": "markdown",
      "metadata": {
        "collapsed": false,
        "pycharm": {
          "name": "#%% md\n"
        },
        "id": "Tk3lP_umiEcA"
      },
      "source": [
        "[![Open In Colab](https://colab.research.google.com/assets/colab-badge.svg)](https://colab.research.google.com/github/sascha-senko/TensorflowCourse/blob/main/ANNwTFHW7.ipynb)"
      ]
    },
    {
      "cell_type": "markdown",
      "metadata": {
        "id": "QVUtFQ8JYGv_"
      },
      "source": [
        "## Global TODO\n",
        "\n",
        "* TODO: Set the settings right again\n",
        "* Make sure that L2 regularization loss is accounted for this time!\n",
        "* Look at notebook from flipped classroom\n",
        "* Define Resnet block\n",
        "* Maybe use the previous week's sample solution\n",
        "* General training pipeline"
      ]
    },
    {
      "cell_type": "markdown",
      "metadata": {
        "id": "If6lyQRtwScq"
      },
      "source": [
        "## Imports"
      ]
    },
    {
      "cell_type": "code",
      "metadata": {
        "id": "SS5Zdc67wVjk"
      },
      "source": [
        "import matplotlib.pyplot as plt\n",
        "import numpy as np\n",
        "# TODO: uncomment later\n",
        "#%tensorflow_version 2.x\n",
        "import tensorflow as tf\n",
        "import tensorflow_datasets as tfds\n",
        "from tensorflow.keras.models import Model\n",
        "from tensorflow.keras.layers import Conv2D, MaxPooling2D, Dropout, \\\n",
        "    BatchNormalization, ELU, Flatten, Dense, ZeroPadding2D, AveragePooling2D, \\\n",
        "    Layer, GlobalAveragePooling2D, concatenate\n",
        "from tensorflow.keras.regularizers import L2\n",
        "from functools import partial  "
      ],
      "execution_count": 305,
      "outputs": []
    },
    {
      "cell_type": "markdown",
      "metadata": {
        "id": "gVOWRDSCrOLV"
      },
      "source": [
        "## Define Bottleneck layer"
      ]
    },
    {
      "cell_type": "code",
      "metadata": {
        "id": "qcBg6wEMrQfr"
      },
      "source": [
        "def bottleneck(filter_dim):\n",
        "    return Conv2D(filter_dim, kernel_size=1)"
      ],
      "execution_count": 306,
      "outputs": []
    },
    {
      "cell_type": "markdown",
      "metadata": {
        "id": "6M-0CnlOgU71"
      },
      "source": [
        "## Define Resnet Block"
      ]
    },
    {
      "cell_type": "code",
      "metadata": {
        "id": "O5lkSRjdgUE_"
      },
      "source": [
        "class ResidualBlock(Layer):\n",
        "    # TODO: some documentation regarding initializer argument and stuff.\n",
        "    def __init__(self, input_dim, layer_list, custom_weight_init=None):\n",
        "        super(ResidualBlock, self).__init__()\n",
        "\n",
        "        # TODO\n",
        "        \"\"\"\n",
        "        output_dim = input_dim\n",
        "\n",
        "        for layer in layer_list:\n",
        "            # we tell each layer the input shape so that we can check\n",
        "            # if first input and final output dimension coincide.\n",
        "            # TODO: output_dim somehow is a whole tensor, not just shape\n",
        "            # TODO: remove\n",
        "            #print(output_dim)\n",
        "            print(\"hello!\")\n",
        "            output_dim = layer.compute_output_shape(output_dim)\n",
        "\n",
        "        # assert that first input and last output have same dimension\n",
        "        if not output_dim == input_dim:\n",
        "            raise ValueError(\"ResidualBlock: first and final dimension are different\")\n",
        "        \"\"\"\n",
        "\n",
        "        self.layer_list = layer_list\n",
        "        self.custom_weight_init = custom_weight_init\n",
        "\n",
        "        if custom_weight_init:\n",
        "            self.custom_weight = tf.Variable(custom_weight_init())        \n",
        "\n",
        "    # TODO: Is there any way to use @tf.function on call even when we have to differentiate between training and testing mode (e.g. for batch norm and dropout)? Since to my understanding, if we use call for training even once, it can't go back to testing mode anymore (since tf.function evaluates the python boolean only on the first call to my understanding). I tried using tf.constant(True) instead, but it seemed to yield the same problem in my case (if my memory serves me right - that was last week)\n",
        "    # TODO: try with tf.constant(True, shape=(1)) once.\n",
        "    def call(self, x, training):\n",
        "        y = x\n",
        "        \n",
        "        for layer in self.layer_list:\n",
        "            if isinstance(layer, Dropout) or isinstance(layer, BatchNormalization):\n",
        "                y = layer(y, training=training)\n",
        "            else:\n",
        "                y = layer(y)                       \n",
        "        \n",
        "        # add initial input\n",
        "        if self.custom_weight_init:\n",
        "            y = y + self.custom_weight * x\n",
        "        else:\n",
        "            y = y + x\n",
        "\n",
        "        return y\n",
        "\n",
        "# TODO: add a tf.ones(input_dim) weight to multiple with x. I could also do the same with DenseNet\n",
        "# TODO: Optionally, create more specific Resnet block that repeats certain structure\n",
        "#ResidualBlock((4, 28, 28, 3), [Conv2D(10, 1), Conv2D(3, 1)])\n",
        "\n",
        "class SpecificResBlock(ResidualBlock):\n",
        "    def __init__(self, input_dim, custom_weight_init=None):\n",
        "        layer_list = [\n",
        "            BatchNormalization(), ELU(), Conv2D(64, 1),\n",
        "            # use Zero Padding to get same dimension as at start\n",
        "            BatchNormalization(), ELU(), Conv2D(128, 3), ZeroPadding2D(),\n",
        "            BatchNormalization(), ELU(), Conv2D(3, 3), ZeroPadding2D()\n",
        "        ]\n",
        "\n",
        "        super(SpecificResBlock, self).__init__(input_dim, layer_list, custom_weight_init=None)"
      ],
      "execution_count": 307,
      "outputs": []
    },
    {
      "cell_type": "markdown",
      "metadata": {
        "id": "-pYIYltEOXV0"
      },
      "source": [
        "## Define ResNet Model"
      ]
    },
    {
      "cell_type": "code",
      "metadata": {
        "id": "-dDGI3-kOecO"
      },
      "source": [
        "class ResNet(Model):\n",
        "    def __init__(self, num_blocks, input_dim):\n",
        "        super(ResNet, self).__init__()\n",
        "        # start with conv net, as recommended by homework\n",
        "        layer_list = []\n",
        "        # TODO: proper weights again\n",
        "        layer_list.extend([Conv2D(64, kernel_size=3), ZeroPadding2D()])\n",
        "\n",
        "        # TODO\n",
        "        for layer in layer_list:\n",
        "            input_dum = layer.compute_output_shape(input_dim)\n",
        "\n",
        "        for i in range(num_blocks):\n",
        "            res_block = SpecificResBlock(input_dim)\n",
        "            layer_list.append(SpecificResBlock)\n",
        "\n",
        "        layer_list.extend([GlobalAveragePooling2D(), Dense(10, activation=tf.keras.activations.softmax)])\n",
        "\n",
        "        # TODO: Somehow, around here, the class information gets lost\n",
        "        for layer in layer_list:\n",
        "            print(layer.__class__)\n",
        "\n",
        "        self.layer_list = layer_list\n",
        "\n",
        "    def call(self, x, training):\n",
        "        for layer in self.layer_list:\n",
        "            # TODO: remove\n",
        "            print(layer.__class__)\n",
        "            print(isinstance(layer, (Dropout, BatchNormalization, ResidualBlock, SpecificResBlock)))\n",
        "            if isinstance(layer, (Dropout, BatchNormalization, ResidualBlock)):\n",
        "                x = layer(x, training=training)\n",
        "            else:\n",
        "                x = layer(x)              \n",
        "        return x    "
      ],
      "execution_count": 308,
      "outputs": []
    },
    {
      "cell_type": "markdown",
      "metadata": {
        "id": "MfkX4e66nSXg"
      },
      "source": [
        "## Define Densenet Block\n"
      ]
    },
    {
      "cell_type": "code",
      "metadata": {
        "id": "htqP3wm6nT_z"
      },
      "source": [
        "class DenseBlock(Layer):\n",
        "# TODO: Seeing Table 2 in https://arxiv.org/pdf/1608.06993.pdf, I recommend k = 12\n",
        "# TODO: correct __init__ arguments\n",
        "# TODO: think if I really want to use the custom_weight_init or not\n",
        "    def __init__(self, num_layers, growth_fac):\n",
        "        super(DenseBlock, self).__init__()\n",
        "\n",
        "        layer_list = []\n",
        "\n",
        "        for i in range(num_layers):\n",
        "            layer_list.extend(\n",
        "                [BatchNormalization(),\n",
        "                 ELU(), Conv2D(growth_fac, 3, padding='same')]\n",
        "            )\n",
        "\n",
        "        self.layer_list = layer_list\n",
        "\n",
        "    def call(self, x, training):\n",
        "        for layer in self.layer_list:\n",
        "            if isinstance(layer, (BatchNormalization, Dropout)):\n",
        "                x = concatenate([layer(x, training=training), x])\n",
        "            else:\n",
        "                x = concatenate([layer(x), x])\n",
        "\n",
        "        return x"
      ],
      "execution_count": 309,
      "outputs": []
    },
    {
      "cell_type": "markdown",
      "metadata": {
        "collapsed": false,
        "id": "wQPCZchnt0_4"
      },
      "source": [
        "## Define Transition layer"
      ]
    },
    {
      "cell_type": "code",
      "metadata": {
        "pycharm": {
          "name": "#%%\n"
        },
        "id": "6Z3YzeKyt0_4"
      },
      "source": [
        "class TransitionLayer(Layer):\n",
        "    def __init__(self, num_filters):\n",
        "        super(TransitionLayer, self).__init__()\n",
        "        self.layer_list = [\n",
        "            BatchNormalization(),\n",
        "            bottleneck(num_filters),\n",
        "            AveragePooling2D()\n",
        "        ]\n",
        "\n",
        "    def call(self, x):\n",
        "\n",
        "        for layer in self.layer_list:\n",
        "            x = layer(x)\n",
        "\n",
        "        return x"
      ],
      "execution_count": 310,
      "outputs": []
    },
    {
      "cell_type": "markdown",
      "metadata": {
        "collapsed": false,
        "id": "Dt4lel7xt0_4"
      },
      "source": [
        "## Define DenseNet model"
      ]
    },
    {
      "cell_type": "code",
      "metadata": {
        "pycharm": {
          "name": "#%%\n"
        },
        "id": "A3mtQJK8t0_4"
      },
      "source": [
        "class DenseNet(Layer):\n",
        "    def __init__(self, input_dim, num_dense_blocks, num_layers, growth_fac):\n",
        "        super(DenseNet, self).__init__()\n",
        "        # TODO: make bigger again\n",
        "        self.layer_list = [\n",
        "            ZeroPadding2D(), Conv2D(64, kernel_size=3)\n",
        "        ]\n",
        "\n",
        "        for layer in self.layer_list:\n",
        "            input_dim = layer.compute_output_shape(input_dim)\n",
        "\n",
        "        for i in range(num_dense_blocks-1):\n",
        "            dense = DenseBlock(num_layers, growth_fac)\n",
        "            self.layer_list.append(dense)\n",
        "            # TODO: I can still play around with that\n",
        "            bottleneck_dim = dense.compute_output_shape(input_dim)[0] // num_layers\n",
        "            transit = TransitionLayer(bottleneck_dim)\n",
        "            self.layer_list.append(transit)\n",
        "            input_dim = transit.compute_output_shape(input_dim)\n",
        "\n",
        "        self.layer_list.append(DenseBlock(num_layers, growth_fac))\n",
        "\n",
        "        self.layer_list.extend([GlobalAveragePooling2D(), Dense(10, activation=tf.keras.activations.softmax)])\n",
        "# on as the number of channels parameters to your Transition Layer\n",
        "\n",
        "        # TODO: call\n",
        "    def call(self, x, training):\n",
        "        for layer in self.layer_list:\n",
        "            if isinstance(layer, (BatchNormalization, Dropout, DenseBlock)):\n",
        "                x = layer(x, training)\n",
        "            else:\n",
        "                x = layer(x)\n",
        "\n",
        "        return x\n",
        "# Original paper used L = 40 (also summe num_layers = 40"
      ],
      "execution_count": 311,
      "outputs": []
    },
    {
      "cell_type": "markdown",
      "metadata": {
        "id": "nLn90j58G2Qo"
      },
      "source": [
        "## Model from previous week"
      ]
    },
    {
      "cell_type": "code",
      "metadata": {
        "id": "mTiFmm9_G3Wn"
      },
      "source": [
        "# TODO: rename architecture to layer_list\n",
        "class ConvNet(Model):\n",
        "\n",
        "    def __init__(self):\n",
        "        super(ConvNet, self).__init__()\n",
        "        # store architecture as a list to avoid naming individual layers\n",
        "        architecture = []\n",
        "\n",
        "        def conv_sub_arch(filters, kernel_size=[3,3]):\n",
        "            \"\"\" Convenience function for returning getting used sub architectures \"\"\"\n",
        "            architecture.extend([ZeroPadding2D(), \\\n",
        "                                 Conv2D(filters=filters, kernel_size=kernel_size, kernel_regularizer=L2()), \\\n",
        "                                 BatchNormalization(), ELU()])\n",
        "\n",
        "        def pool_sub_arch():\n",
        "            \"\"\" Another convenience function for getting often used sub architectures \"\"\"\n",
        "            architecture.extend([MaxPooling2D(), Dropout(0.1)])\n",
        "        \n",
        "        conv_sub_arch(64)\n",
        "        # TODO: uncomment later on\n",
        "        \"\"\"\n",
        "        for i in range(3):\n",
        "            conv_sub_arch(128)\n",
        "        pool_sub_arch()   \n",
        "        for i in range(3):\n",
        "            conv_sub_arch(128)\n",
        "        pool_sub_arch()   \n",
        "        conv_sub_arch(256)\n",
        "        conv_sub_arch(256)\n",
        "        pool_sub_arch()\n",
        "        conv_sub_arch(512)\n",
        "        conv_sub_arch(1024)\n",
        "        pool_sub_arch()\n",
        "        conv_sub_arch(128)\n",
        "        conv_sub_arch(128, kernel_size=[1,1])\n",
        "        conv_sub_arch(128, kernel_size=[1,1])\n",
        "        pool_sub_arch()\n",
        "        conv_sub_arch(128)\n",
        "        pool_sub_arch()\n",
        "        \"\"\"\n",
        "        architecture.append(Flatten())\n",
        "        architecture.append(Dense(10, activation=tf.keras.activations.softmax))\n",
        "\n",
        "        self.architecture = architecture\n",
        "\n",
        "     \n",
        "    # no tf.function as that prevents us from switching between training\n",
        "    # and evaluation mode in call method\n",
        "    def call(self, x, training):\n",
        "        for layer in self.architecture:\n",
        "            if isinstance(layer, Dropout) or isinstance(layer, BatchNormalization):\n",
        "                x = layer(x, training=training)\n",
        "            else:\n",
        "                x = layer(x)                   \n",
        "        return x        "
      ],
      "execution_count": 312,
      "outputs": []
    },
    {
      "cell_type": "markdown",
      "metadata": {
        "id": "XNfHI-9Swfrk"
      },
      "source": [
        "## Load dataset"
      ]
    },
    {
      "cell_type": "code",
      "metadata": {
        "id": "cowuKHOqwfAg"
      },
      "source": [
        "# TODO: remove percent\n",
        "train_data, test_data = tfds.load(\n",
        "    'cifar10', split=['train[:1%]', 'test[:1%]'], as_supervised=True)"
      ],
      "execution_count": 313,
      "outputs": []
    },
    {
      "cell_type": "markdown",
      "metadata": {
        "id": "iKx2urxbwma1"
      },
      "source": [
        "## Inspect data set"
      ]
    },
    {
      "cell_type": "code",
      "metadata": {
        "colab": {
          "base_uri": "https://localhost:8080/",
          "height": 75
        },
        "id": "1vVMp_SLwopk",
        "outputId": "b677b56a-f2b8-4fe6-fe74-41ed75627206"
      },
      "source": [
        "fig, ax = plt.subplots(1,10)\n",
        "shapes = []\n",
        "\n",
        "num_to_name = [\"airplane\", \"automobile\", \"bird\", \"cat\", \"deer\", \"dog\", \"frog\", \"horse\",\n",
        "\"ship\", \"truck\"]\n",
        "\n",
        "for i, (img, lbl) in enumerate(train_data):\n",
        "    if i == 10:\n",
        "        break\n",
        "    ax[i].imshow(img, cmap='gray')\n",
        "    ax[i].set_title(num_to_name[lbl.numpy()])\n",
        "    ax[i].axis(\"off\")\n",
        "    shapes.append(img.shape)"
      ],
      "execution_count": 314,
      "outputs": [
        {
          "output_type": "display_data",
          "data": {
            "image/png": "[encoded data removed]",
            "text/plain": [
              "<Figure size 432x288 with 10 Axes>"
            ]
          },
          "metadata": {
            "tags": [],
            "needs_background": "light"
          }
        }
      ]
    },
    {
      "cell_type": "markdown",
      "metadata": {
        "id": "KMaxBk-2ws_6"
      },
      "source": [
        "## Define some constants"
      ]
    },
    {
      "cell_type": "code",
      "metadata": {
        "id": "5BeTRDjGwtpy"
      },
      "source": [
        "# arbitrarily set. Feel free to change these\n",
        "SHUFFLE_SIZE = int(train_data.cardinality())\n",
        "PREFETCH_SIZE = tf.data.experimental.AUTOTUNE\n",
        "BATCH_SIZE = 128"
      ],
      "execution_count": 315,
      "outputs": []
    },
    {
      "cell_type": "markdown",
      "metadata": {
        "id": "WhOipCR-wxPZ"
      },
      "source": [
        "## Prepare data"
      ]
    },
    {
      "cell_type": "code",
      "metadata": {
        "id": "dMWeKpJqwx_Q"
      },
      "source": [
        "def process_inp_and_label(input, label, training):\n",
        "    \"\"\" rescale inputs and onehotify labels \"\"\"\n",
        "    new_input = input / 255\n",
        "    return new_input, tf.one_hot(label, 10)\n",
        "\n",
        "def data_pipeline(data, training):\n",
        "    \"\"\" helper function for data pipeline - does all the things we need \"\"\"\n",
        "    map_func = partial(process_inp_and_label, training=training)\n",
        "    data = data.map(map_func)\n",
        "    # arbitrarily set buffer_size - feel free to use sth. else\n",
        "    data = data.shuffle(buffer_size=SHUFFLE_SIZE)\n",
        "    data = data.batch(BATCH_SIZE)\n",
        "    data = data.prefetch(PREFETCH_SIZE)\n",
        "    return data\n",
        "\n",
        "train_data = data_pipeline(train_data, True)\n",
        "test_data = data_pipeline(test_data, False)"
      ],
      "execution_count": 316,
      "outputs": []
    },
    {
      "cell_type": "markdown",
      "metadata": {
        "id": "8lq65UcYw07K"
      },
      "source": [
        "## Define helper functions"
      ]
    },
    {
      "cell_type": "code",
      "metadata": {
        "id": "epINO_Nvw1fC"
      },
      "source": [
        "def train_step(model, input, target, loss_function, optimizer):\n",
        "    accuracy = None\n",
        "\n",
        "    # loss_object and optimizer_object are instances of respective tensorflow classes\n",
        "    with tf.GradientTape() as tape:\n",
        "        # boolean argument for training mode\n",
        "        prediction = model(input, True)\n",
        "        accuracy = np.argmax(target, axis=1) == np.argmax(prediction, axis=1)\n",
        "        loss = loss_function(target, prediction)\n",
        "        gradients = tape.gradient(loss, model.trainable_variables)\n",
        "        optimizer.apply_gradients(zip(gradients, model.trainable_variables))\n",
        "\n",
        "    accuracy = np.mean(accuracy)\n",
        "\n",
        "    return loss, accuracy\n",
        "\n",
        "def test(model, test_data, loss_function):\n",
        "    # test over complete test data\n",
        "\n",
        "    test_accuracy_aggregator = []\n",
        "    test_loss_aggregator = []\n",
        "\n",
        "    for (input, target) in test_data:\n",
        "        # boolean argument for evaluation mode\n",
        "        prediction = model(input, False)\n",
        "        sample_test_loss = loss_function(target, prediction)\n",
        "        sample_test_accuracy = np.argmax(target, axis=1) == np.argmax(prediction, axis=1)\n",
        "        test_loss_aggregator.append(sample_test_loss.numpy())\n",
        "        test_accuracy_aggregator.extend(sample_test_accuracy)\n",
        "\n",
        "    test_loss = np.mean(test_loss_aggregator)\n",
        "    test_accuracy = np.mean(test_accuracy_aggregator)\n",
        "\n",
        "    return test_loss, test_accuracy\n",
        "\n",
        "def plot_stats(train_stat, test_stat, stat_name):\n",
        "    plt.figure()\n",
        "    line1, = plt.plot(train_stat)\n",
        "    line2, = plt.plot(test_stat)\n",
        "    plt.xlabel(\"Training steps\")\n",
        "    plt.ylabel(stat_name)\n",
        "    plt.legend((line1, line2), (\"training\", \"test\"))\n",
        "    plt.show()"
      ],
      "execution_count": 317,
      "outputs": []
    },
    {
      "cell_type": "markdown",
      "metadata": {
        "id": "8y89-0UgxHZ1"
      },
      "source": [
        "## Prepare for training"
      ]
    },
    {
      "cell_type": "code",
      "metadata": {
        "id": "oLva1oEcxH6M"
      },
      "source": [
        "num_epochs = 2\n",
        "learning_rate = 0.001\n",
        "loss = tf.keras.losses.CategoricalCrossentropy()\n",
        "optimizer = tf.keras.optimizers.Adam(learning_rate)\n",
        "\n",
        "# TODO: check that indeed, when I enter for loop,\n",
        "#  we loop through the whole thing.\n",
        "#  Use cardinality and epoch counter to check\n",
        "INPUT_DIM = next(iter(train_data))[0].shape\n",
        "# TODO: weight shit\n",
        "NUM_RES_BLOCKS = 2\n",
        "\n",
        "NUM_DENSE_BLOCKS = 2\n",
        "NUM_LAYERS = 3\n",
        "GROWTH_FAC = 1\n",
        "\n",
        "models = ['ConvNet()',\n",
        "          'ResNet({}, {})'.format(NUM_RES_BLOCKS, INPUT_DIM),\n",
        "          'DenseNet({}, {}, {}, {})'.format(\n",
        "              INPUT_DIM, NUM_DENSE_BLOCKS, NUM_LAYERS, GROWTH_FAC\n",
        "          )]"
      ],
      "execution_count": 318,
      "outputs": []
    },
    {
      "cell_type": "markdown",
      "metadata": {
        "id": "STc3UVtvxMkw",
        "pycharm": {
          "name": "#%% md\n"
        }
      },
      "source": [
        "## Train"
      ]
    },
    {
      "cell_type": "code",
      "metadata": {
        "pycharm": {
          "name": "#%%\n",
          "is_executing": true
        },
        "colab": {
          "base_uri": "https://localhost:8080/",
          "height": 730
        },
        "id": "KeELcVazqdsf",
        "outputId": "dbecaaab-72d2-4aea-9142-6da195834055"
      },
      "source": [
        "for model_str in models:\n",
        "\n",
        "    # remove all active models for memory purposes\n",
        "    tf.keras.backend.clear_session()\n",
        "    model = eval(model_str)\n",
        "\n",
        "\n",
        "    # Initialize lists for later visualization.\n",
        "    train_losses = []\n",
        "    train_accuracies = []\n",
        "    test_losses = []\n",
        "    test_accuracies = []\n",
        "\n",
        "    # TODO: check if this is truly correct or not\n",
        "    TRAIN_STAT_DIM = (int(train_data.cardinality()))\n",
        "\n",
        "    for epoch in range(num_epochs):\n",
        "        print('Epoch: ' + str(epoch+1))\n",
        "\n",
        "        # shuffle train data. No need to shuffle test data\n",
        "        train_data = train_data.shuffle(buffer_size=BATCH_SIZE)\n",
        "\n",
        "        train_loss_stat = np.empty(TRAIN_STAT_DIM)\n",
        "        train_accuracy_stat = np.empty(TRAIN_STAT_DIM)\n",
        "        for i, (input, target) in enumerate(train_data):\n",
        "            train_loss, train_accuracy = train_step(model, input, target, loss, optimizer)\n",
        "            train_loss_stat[i] = train_loss\n",
        "            train_accuracy_stat[i] = train_accuracy\n",
        "        train_losses.append(np.mean(train_loss_stat))\n",
        "        train_accuracies.append(np.mean(train_accuracy_stat))\n",
        "\n",
        "        # testing\n",
        "        test_loss, test_accuracy = test(model, test_data, loss)\n",
        "        test_losses.append(test_loss)\n",
        "        test_accuracies.append(test_accuracy)\n",
        "\n",
        "        # TODO: save"
      ],
      "execution_count": 319,
      "outputs": [
        {
          "output_type": "stream",
          "text": [
            "Epoch: 1\n",
            "Epoch: 2\n",
            "<class 'tensorflow.python.keras.layers.convolutional.Conv2D'>\n",
            "<class 'tensorflow.python.keras.layers.convolutional.ZeroPadding2D'>\n",
            "<class 'type'>\n",
            "<class 'type'>\n",
            "<class 'tensorflow.python.keras.layers.pooling.GlobalAveragePooling2D'>\n",
            "<class 'tensorflow.python.keras.layers.core.Dense'>\n",
            "Epoch: 1\n",
            "<class 'tensorflow.python.keras.layers.convolutional.Conv2D'>\n",
            "False\n",
            "<class 'tensorflow.python.keras.layers.convolutional.ZeroPadding2D'>\n",
            "False\n",
            "<class 'type'>\n",
            "False\n",
            "<class 'type'>\n",
            "False\n",
            "<class 'tensorflow.python.keras.layers.pooling.GlobalAveragePooling2D'>\n",
            "False\n"
          ],
          "name": "stdout"
        },
        {
          "output_type": "error",
          "ename": "AttributeError",
          "evalue": "ignored",
          "traceback": [
            "\u001b[0;31m---------------------------------------------------------------------------\u001b[0m",
            "\u001b[0;31mAttributeError\u001b[0m                            Traceback (most recent call last)",
            "\u001b[0;32m<ipython-input-319-663f23a27ff4>\u001b[0m in \u001b[0;36m<module>\u001b[0;34m()\u001b[0m\n\u001b[1;32m     24\u001b[0m         \u001b[0mtrain_accuracy_stat\u001b[0m \u001b[0;34m=\u001b[0m \u001b[0mnp\u001b[0m\u001b[0;34m.\u001b[0m\u001b[0mempty\u001b[0m\u001b[0;34m(\u001b[0m\u001b[0mTRAIN_STAT_DIM\u001b[0m\u001b[0;34m)\u001b[0m\u001b[0;34m\u001b[0m\u001b[0;34m\u001b[0m\u001b[0m\n\u001b[1;32m     25\u001b[0m         \u001b[0;32mfor\u001b[0m \u001b[0mi\u001b[0m\u001b[0;34m,\u001b[0m \u001b[0;34m(\u001b[0m\u001b[0minput\u001b[0m\u001b[0;34m,\u001b[0m \u001b[0mtarget\u001b[0m\u001b[0;34m)\u001b[0m \u001b[0;32min\u001b[0m \u001b[0menumerate\u001b[0m\u001b[0;34m(\u001b[0m\u001b[0mtrain_data\u001b[0m\u001b[0;34m)\u001b[0m\u001b[0;34m:\u001b[0m\u001b[0;34m\u001b[0m\u001b[0;34m\u001b[0m\u001b[0m\n\u001b[0;32m---> 26\u001b[0;31m             \u001b[0mtrain_loss\u001b[0m\u001b[0;34m,\u001b[0m \u001b[0mtrain_accuracy\u001b[0m \u001b[0;34m=\u001b[0m \u001b[0mtrain_step\u001b[0m\u001b[0;34m(\u001b[0m\u001b[0mmodel\u001b[0m\u001b[0;34m,\u001b[0m \u001b[0minput\u001b[0m\u001b[0;34m,\u001b[0m \u001b[0mtarget\u001b[0m\u001b[0;34m,\u001b[0m \u001b[0mloss\u001b[0m\u001b[0;34m,\u001b[0m \u001b[0moptimizer\u001b[0m\u001b[0;34m)\u001b[0m\u001b[0;34m\u001b[0m\u001b[0;34m\u001b[0m\u001b[0m\n\u001b[0m\u001b[1;32m     27\u001b[0m             \u001b[0mtrain_loss_stat\u001b[0m\u001b[0;34m[\u001b[0m\u001b[0mi\u001b[0m\u001b[0;34m]\u001b[0m \u001b[0;34m=\u001b[0m \u001b[0mtrain_loss\u001b[0m\u001b[0;34m\u001b[0m\u001b[0;34m\u001b[0m\u001b[0m\n\u001b[1;32m     28\u001b[0m             \u001b[0mtrain_accuracy_stat\u001b[0m\u001b[0;34m[\u001b[0m\u001b[0mi\u001b[0m\u001b[0;34m]\u001b[0m \u001b[0;34m=\u001b[0m \u001b[0mtrain_accuracy\u001b[0m\u001b[0;34m\u001b[0m\u001b[0;34m\u001b[0m\u001b[0m\n",
            "\u001b[0;32m<ipython-input-317-ed0a9b7c0906>\u001b[0m in \u001b[0;36mtrain_step\u001b[0;34m(model, input, target, loss_function, optimizer)\u001b[0m\n\u001b[1;32m      5\u001b[0m     \u001b[0;32mwith\u001b[0m \u001b[0mtf\u001b[0m\u001b[0;34m.\u001b[0m\u001b[0mGradientTape\u001b[0m\u001b[0;34m(\u001b[0m\u001b[0;34m)\u001b[0m \u001b[0;32mas\u001b[0m \u001b[0mtape\u001b[0m\u001b[0;34m:\u001b[0m\u001b[0;34m\u001b[0m\u001b[0;34m\u001b[0m\u001b[0m\n\u001b[1;32m      6\u001b[0m         \u001b[0;31m# boolean argument for training mode\u001b[0m\u001b[0;34m\u001b[0m\u001b[0;34m\u001b[0m\u001b[0;34m\u001b[0m\u001b[0m\n\u001b[0;32m----> 7\u001b[0;31m         \u001b[0mprediction\u001b[0m \u001b[0;34m=\u001b[0m \u001b[0mmodel\u001b[0m\u001b[0;34m(\u001b[0m\u001b[0minput\u001b[0m\u001b[0;34m,\u001b[0m \u001b[0;32mTrue\u001b[0m\u001b[0;34m)\u001b[0m\u001b[0;34m\u001b[0m\u001b[0;34m\u001b[0m\u001b[0m\n\u001b[0m\u001b[1;32m      8\u001b[0m         \u001b[0maccuracy\u001b[0m \u001b[0;34m=\u001b[0m \u001b[0mnp\u001b[0m\u001b[0;34m.\u001b[0m\u001b[0margmax\u001b[0m\u001b[0;34m(\u001b[0m\u001b[0mtarget\u001b[0m\u001b[0;34m,\u001b[0m \u001b[0maxis\u001b[0m\u001b[0;34m=\u001b[0m\u001b[0;36m1\u001b[0m\u001b[0;34m)\u001b[0m \u001b[0;34m==\u001b[0m \u001b[0mnp\u001b[0m\u001b[0;34m.\u001b[0m\u001b[0margmax\u001b[0m\u001b[0;34m(\u001b[0m\u001b[0mprediction\u001b[0m\u001b[0;34m,\u001b[0m \u001b[0maxis\u001b[0m\u001b[0;34m=\u001b[0m\u001b[0;36m1\u001b[0m\u001b[0;34m)\u001b[0m\u001b[0;34m\u001b[0m\u001b[0;34m\u001b[0m\u001b[0m\n\u001b[1;32m      9\u001b[0m         \u001b[0mloss\u001b[0m \u001b[0;34m=\u001b[0m \u001b[0mloss_function\u001b[0m\u001b[0;34m(\u001b[0m\u001b[0mtarget\u001b[0m\u001b[0;34m,\u001b[0m \u001b[0mprediction\u001b[0m\u001b[0;34m)\u001b[0m\u001b[0;34m\u001b[0m\u001b[0;34m\u001b[0m\u001b[0m\n",
            "\u001b[0;32m/usr/local/lib/python3.6/dist-packages/tensorflow/python/keras/engine/base_layer.py\u001b[0m in \u001b[0;36m__call__\u001b[0;34m(self, *args, **kwargs)\u001b[0m\n\u001b[1;32m    983\u001b[0m \u001b[0;34m\u001b[0m\u001b[0m\n\u001b[1;32m    984\u001b[0m         \u001b[0;32mwith\u001b[0m \u001b[0mops\u001b[0m\u001b[0;34m.\u001b[0m\u001b[0menable_auto_cast_variables\u001b[0m\u001b[0;34m(\u001b[0m\u001b[0mself\u001b[0m\u001b[0;34m.\u001b[0m\u001b[0m_compute_dtype_object\u001b[0m\u001b[0;34m)\u001b[0m\u001b[0;34m:\u001b[0m\u001b[0;34m\u001b[0m\u001b[0;34m\u001b[0m\u001b[0m\n\u001b[0;32m--> 985\u001b[0;31m           \u001b[0moutputs\u001b[0m \u001b[0;34m=\u001b[0m \u001b[0mcall_fn\u001b[0m\u001b[0;34m(\u001b[0m\u001b[0minputs\u001b[0m\u001b[0;34m,\u001b[0m \u001b[0;34m*\u001b[0m\u001b[0margs\u001b[0m\u001b[0;34m,\u001b[0m \u001b[0;34m**\u001b[0m\u001b[0mkwargs\u001b[0m\u001b[0;34m)\u001b[0m\u001b[0;34m\u001b[0m\u001b[0;34m\u001b[0m\u001b[0m\n\u001b[0m\u001b[1;32m    986\u001b[0m \u001b[0;34m\u001b[0m\u001b[0m\n\u001b[1;32m    987\u001b[0m         \u001b[0;32mif\u001b[0m \u001b[0mself\u001b[0m\u001b[0;34m.\u001b[0m\u001b[0m_activity_regularizer\u001b[0m\u001b[0;34m:\u001b[0m\u001b[0;34m\u001b[0m\u001b[0;34m\u001b[0m\u001b[0m\n",
            "\u001b[0;32m<ipython-input-308-f6373946c1ac>\u001b[0m in \u001b[0;36mcall\u001b[0;34m(self, x, training)\u001b[0m\n\u001b[1;32m     31\u001b[0m                 \u001b[0mx\u001b[0m \u001b[0;34m=\u001b[0m \u001b[0mlayer\u001b[0m\u001b[0;34m(\u001b[0m\u001b[0mx\u001b[0m\u001b[0;34m,\u001b[0m \u001b[0mtraining\u001b[0m\u001b[0;34m=\u001b[0m\u001b[0mtraining\u001b[0m\u001b[0;34m)\u001b[0m\u001b[0;34m\u001b[0m\u001b[0;34m\u001b[0m\u001b[0m\n\u001b[1;32m     32\u001b[0m             \u001b[0;32melse\u001b[0m\u001b[0;34m:\u001b[0m\u001b[0;34m\u001b[0m\u001b[0;34m\u001b[0m\u001b[0m\n\u001b[0;32m---> 33\u001b[0;31m                 \u001b[0mx\u001b[0m \u001b[0;34m=\u001b[0m \u001b[0mlayer\u001b[0m\u001b[0;34m(\u001b[0m\u001b[0mx\u001b[0m\u001b[0;34m)\u001b[0m\u001b[0;34m\u001b[0m\u001b[0;34m\u001b[0m\u001b[0m\n\u001b[0m\u001b[1;32m     34\u001b[0m         \u001b[0;32mreturn\u001b[0m \u001b[0mx\u001b[0m\u001b[0;34m\u001b[0m\u001b[0;34m\u001b[0m\u001b[0m\n",
            "\u001b[0;32m/usr/local/lib/python3.6/dist-packages/tensorflow/python/keras/engine/base_layer.py\u001b[0m in \u001b[0;36m__call__\u001b[0;34m(self, *args, **kwargs)\u001b[0m\n\u001b[1;32m    980\u001b[0m       \u001b[0;32mwith\u001b[0m \u001b[0mops\u001b[0m\u001b[0;34m.\u001b[0m\u001b[0mname_scope_v2\u001b[0m\u001b[0;34m(\u001b[0m\u001b[0mname_scope\u001b[0m\u001b[0;34m)\u001b[0m\u001b[0;34m:\u001b[0m\u001b[0;34m\u001b[0m\u001b[0;34m\u001b[0m\u001b[0m\n\u001b[1;32m    981\u001b[0m         \u001b[0;32mif\u001b[0m \u001b[0;32mnot\u001b[0m \u001b[0mself\u001b[0m\u001b[0;34m.\u001b[0m\u001b[0mbuilt\u001b[0m\u001b[0;34m:\u001b[0m\u001b[0;34m\u001b[0m\u001b[0;34m\u001b[0m\u001b[0m\n\u001b[0;32m--> 982\u001b[0;31m           \u001b[0mself\u001b[0m\u001b[0;34m.\u001b[0m\u001b[0m_maybe_build\u001b[0m\u001b[0;34m(\u001b[0m\u001b[0minputs\u001b[0m\u001b[0;34m)\u001b[0m\u001b[0;34m\u001b[0m\u001b[0;34m\u001b[0m\u001b[0m\n\u001b[0m\u001b[1;32m    983\u001b[0m \u001b[0;34m\u001b[0m\u001b[0m\n\u001b[1;32m    984\u001b[0m         \u001b[0;32mwith\u001b[0m \u001b[0mops\u001b[0m\u001b[0;34m.\u001b[0m\u001b[0menable_auto_cast_variables\u001b[0m\u001b[0;34m(\u001b[0m\u001b[0mself\u001b[0m\u001b[0;34m.\u001b[0m\u001b[0m_compute_dtype_object\u001b[0m\u001b[0;34m)\u001b[0m\u001b[0;34m:\u001b[0m\u001b[0;34m\u001b[0m\u001b[0;34m\u001b[0m\u001b[0m\n",
            "\u001b[0;32m/usr/local/lib/python3.6/dist-packages/tensorflow/python/keras/engine/base_layer.py\u001b[0m in \u001b[0;36m_maybe_build\u001b[0;34m(self, inputs)\u001b[0m\n\u001b[1;32m   2616\u001b[0m     \u001b[0;32mif\u001b[0m \u001b[0;32mnot\u001b[0m \u001b[0mself\u001b[0m\u001b[0;34m.\u001b[0m\u001b[0mbuilt\u001b[0m\u001b[0;34m:\u001b[0m\u001b[0;34m\u001b[0m\u001b[0;34m\u001b[0m\u001b[0m\n\u001b[1;32m   2617\u001b[0m       input_spec.assert_input_compatibility(\n\u001b[0;32m-> 2618\u001b[0;31m           self.input_spec, inputs, self.name)\n\u001b[0m\u001b[1;32m   2619\u001b[0m       \u001b[0minput_list\u001b[0m \u001b[0;34m=\u001b[0m \u001b[0mnest\u001b[0m\u001b[0;34m.\u001b[0m\u001b[0mflatten\u001b[0m\u001b[0;34m(\u001b[0m\u001b[0minputs\u001b[0m\u001b[0;34m)\u001b[0m\u001b[0;34m\u001b[0m\u001b[0;34m\u001b[0m\u001b[0m\n\u001b[1;32m   2620\u001b[0m       \u001b[0;32mif\u001b[0m \u001b[0minput_list\u001b[0m \u001b[0;32mand\u001b[0m \u001b[0mself\u001b[0m\u001b[0;34m.\u001b[0m\u001b[0m_dtype_policy\u001b[0m\u001b[0;34m.\u001b[0m\u001b[0mcompute_dtype\u001b[0m \u001b[0;32mis\u001b[0m \u001b[0;32mNone\u001b[0m\u001b[0;34m:\u001b[0m\u001b[0;34m\u001b[0m\u001b[0;34m\u001b[0m\u001b[0m\n",
            "\u001b[0;32m/usr/local/lib/python3.6/dist-packages/tensorflow/python/keras/engine/input_spec.py\u001b[0m in \u001b[0;36massert_input_compatibility\u001b[0;34m(input_spec, inputs, layer_name)\u001b[0m\n\u001b[1;32m    164\u001b[0m         \u001b[0mspec\u001b[0m\u001b[0;34m.\u001b[0m\u001b[0mmin_ndim\u001b[0m \u001b[0;32mis\u001b[0m \u001b[0;32mnot\u001b[0m \u001b[0;32mNone\u001b[0m \u001b[0;32mor\u001b[0m\u001b[0;34m\u001b[0m\u001b[0;34m\u001b[0m\u001b[0m\n\u001b[1;32m    165\u001b[0m         spec.max_ndim is not None):\n\u001b[0;32m--> 166\u001b[0;31m       \u001b[0;32mif\u001b[0m \u001b[0mx\u001b[0m\u001b[0;34m.\u001b[0m\u001b[0mshape\u001b[0m\u001b[0;34m.\u001b[0m\u001b[0mndims\u001b[0m \u001b[0;32mis\u001b[0m \u001b[0;32mNone\u001b[0m\u001b[0;34m:\u001b[0m\u001b[0;34m\u001b[0m\u001b[0;34m\u001b[0m\u001b[0m\n\u001b[0m\u001b[1;32m    167\u001b[0m         raise ValueError('Input ' + str(input_index) + ' of layer ' +\n\u001b[1;32m    168\u001b[0m                          \u001b[0mlayer_name\u001b[0m \u001b[0;34m+\u001b[0m \u001b[0;34m' is incompatible with the layer: '\u001b[0m\u001b[0;34m\u001b[0m\u001b[0;34m\u001b[0m\u001b[0m\n",
            "\u001b[0;31mAttributeError\u001b[0m: 'SpecificResBlock' object has no attribute 'shape'"
          ]
        }
      ]
    },
    {
      "cell_type": "markdown",
      "metadata": {
        "id": "z4n2v1CLxOgJ"
      },
      "source": [
        "## Plot"
      ]
    },
    {
      "cell_type": "code",
      "metadata": {
        "id": "pLGR-RGRxP_0",
        "pycharm": {
          "is_executing": true
        }
      },
      "source": [
        "plot_stats(train_losses, test_losses, \"Loss\")\n",
        "plot_stats(train_accuracies, test_accuracies, \"Accuracy\")"
      ],
      "execution_count": null,
      "outputs": []
    },
    {
      "cell_type": "markdown",
      "metadata": {
        "id": "9cT8hmJVxS3h"
      },
      "source": [
        "## Assert test accuracy over 85%"
      ]
    },
    {
      "cell_type": "code",
      "metadata": {
        "id": "WkGtQExqxTXN",
        "pycharm": {
          "is_executing": true
        }
      },
      "source": [
        "assert test_accuracies[-1] >= 0.85\n",
        "print(test_accuracies)"
      ],
      "execution_count": null,
      "outputs": []
    },
    {
      "cell_type": "markdown",
      "metadata": {
        "id": "wb0PfXi9GP7H"
      },
      "source": [
        "## Debug"
      ]
    },
    {
      "cell_type": "code",
      "metadata": {
        "id": "CPuYaXhjGQ0n"
      },
      "source": [
        "res = SpecificResBlock((128, 32, 32, 3))\n",
        "print(res.__class__)\n",
        "res(next(iter(train_data))[0]).__class__"
      ],
      "execution_count": null,
      "outputs": []
    },
    {
      "cell_type": "code",
      "metadata": {
        "id": "f5dAtQchGndR"
      },
      "source": [
        ""
      ],
      "execution_count": null,
      "outputs": []
    }
  ]
}
