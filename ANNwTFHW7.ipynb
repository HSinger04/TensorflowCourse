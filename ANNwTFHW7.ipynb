{
  "nbformat": 4,
  "nbformat_minor": 0,
  "metadata": {
    "colab": {
      "name": "ANNwTFHW7.ipynb",
      "provenance": [],
      "authorship_tag": "ABX9TyMggyjZNoWDfFqajrNZRuYV"
    },
    "kernelspec": {
      "name": "python3",
      "display_name": "Python 3"
    }
  },
  "cells": [
    {
      "cell_type": "markdown",
      "metadata": {
        "id": "gnUoo-NzYmr_"
      },
      "source": [
        "[![Open In Colab](https://colab.research.google.com/assets/colab-badge.svg)](https://colab.research.google.com/github/sascha-senko/TensorflowCourse/blob/HSinger04/ANNwTFHW7.ipynb)"
      ]
    },
    {
      "cell_type": "markdown",
      "metadata": {
        "id": "Y2z2TYLVYoNs"
      },
      "source": [
        "## Imports"
      ]
    },
    {
      "cell_type": "code",
      "metadata": {
        "id": "oj9MbknNYnHD"
      },
      "source": [
        "# TODO: Clean up imports\n",
        "import matplotlib.pyplot as plt\n",
        "import numpy as np\n",
        "%tensorflow_version 2.x\n",
        "import tensorflow as tf\n",
        "import tensorflow_datasets as tfds\n",
        "from tensorflow.keras.models import Model\n",
        "from tensorflow.keras.layers import Conv2D, MaxPooling2D, Dropout, \\\n",
        "    BatchNormalization, ELU, Flatten, Dense, ZeroPadding2D, AveragePooling2D, \\\n",
        "    Layer, GlobalAveragePooling2D, concatenate\n",
        "from tensorflow.keras.regularizers import L2\n",
        "from functools import partial  \n",
        "from tensorflow import debugging as debug"
      ],
      "execution_count": 1,
      "outputs": []
    },
    {
      "cell_type": "markdown",
      "metadata": {
        "id": "vr_NH9xSYrYp"
      },
      "source": [
        "## Load dataset"
      ]
    },
    {
      "cell_type": "code",
      "metadata": {
        "colab": {
          "base_uri": "https://localhost:8080/"
        },
        "id": "BIXpWjYkYr0l",
        "outputId": "f63cf58b-811e-42ee-c002-106be6a7f5ff"
      },
      "source": [
        "(x_train, _), (x_test, y_test) = tf.keras.datasets.fashion_mnist.load_data()\n",
        "\n",
        "x_train = tf.data.Dataset.from_tensor_slices(x_train)\n",
        "# take only first 1000 examples\n",
        "x_test = tf.data.Dataset.from_tensor_slices(x_test).take(1000)\n",
        "\n",
        "# Maps labels to object names\n",
        "num_to_name = [\"T-shirt/top\", \"Trouser\", \"Pullover\", \"Dress\", \"Coat\", \"Sandal\", \"Shirt\", \"Sneaker\", \"Bag\", \"Ankle boot\"]\n",
        "\n",
        "y_test = [num_to_name[y] for y in y_test]\n",
        "# take only first 1000 examples\n",
        "y_test = tf.data.Dataset.from_tensor_slices(y_test).take(1000)"
      ],
      "execution_count": 2,
      "outputs": [
        {
          "output_type": "stream",
          "text": [
            "Downloading data from https://storage.googleapis.com/tensorflow/tf-keras-datasets/train-labels-idx1-ubyte.gz\n",
            "32768/29515 [=================================] - 0s 0us/step\n",
            "Downloading data from https://storage.googleapis.com/tensorflow/tf-keras-datasets/train-images-idx3-ubyte.gz\n",
            "26427392/26421880 [==============================] - 1s 0us/step\n",
            "Downloading data from https://storage.googleapis.com/tensorflow/tf-keras-datasets/t10k-labels-idx1-ubyte.gz\n",
            "8192/5148 [===============================================] - 0s 0us/step\n",
            "Downloading data from https://storage.googleapis.com/tensorflow/tf-keras-datasets/t10k-images-idx3-ubyte.gz\n",
            "4423680/4422102 [==============================] - 0s 0us/step\n"
          ],
          "name": "stdout"
        }
      ]
    },
    {
      "cell_type": "markdown",
      "metadata": {
        "id": "ZYiTijljY3dB"
      },
      "source": [
        "## Inspect data set"
      ]
    },
    {
      "cell_type": "code",
      "metadata": {
        "colab": {
          "base_uri": "https://localhost:8080/",
          "height": 59
        },
        "id": "pIB_-ZmfZGrc",
        "outputId": "20942d3d-8031-4b1f-f6ec-9a545f2ad36c"
      },
      "source": [
        "fig, ax = plt.subplots(1,10)\n",
        "shapes = []\n",
        "\n",
        "for i, img in enumerate(x_train):\n",
        "    if i == 10:\n",
        "        break\n",
        "    ax[i].imshow(img, cmap='gray')\n",
        "    ax[i].axis(\"off\")"
      ],
      "execution_count": 3,
      "outputs": [
        {
          "output_type": "display_data",
          "data": {
            "image/png": "[encoded data removed]",
            "text/plain": [
              "<Figure size 432x288 with 10 Axes>"
            ]
          },
          "metadata": {
            "tags": [],
            "needs_background": "light"
          }
        }
      ]
    },
    {
      "cell_type": "markdown",
      "metadata": {
        "id": "A0pzSvc1ZJc-"
      },
      "source": [
        "## Define some constants"
      ]
    },
    {
      "cell_type": "code",
      "metadata": {
        "id": "s4GdooJDZKg7"
      },
      "source": [
        "# arbitrarily set. Feel free to change these\n",
        "SHUFFLE_SIZE = x_test.cardinality()\n",
        "PREFETCH_SIZE = tf.data.experimental.AUTOTUNE\n",
        "BATCH_SIZE = 64"
      ],
      "execution_count": 4,
      "outputs": []
    },
    {
      "cell_type": "markdown",
      "metadata": {
        "id": "ZXVn794wZNhO"
      },
      "source": [
        "## Prepare data"
      ]
    },
    {
      "cell_type": "code",
      "metadata": {
        "id": "2btt3pbHZPG_"
      },
      "source": [
        "def process_inp(input):\n",
        "    \"\"\" rescale and add channel dimension \"\"\"\n",
        "    # normalize between zero and one\n",
        "    input = input / 255\n",
        "    # add extra dimension for channel\n",
        "    input = tf.expand_dims(input, -1)\n",
        "    return input    \n",
        "\n",
        "\n",
        "\n",
        "def data_pipeline(data, training):\n",
        "    \"\"\" helper function for data pipeline - does all the things we need \"\"\"\n",
        "    \n",
        "    data = data.map(process_inp)\n",
        "\n",
        "    if training:\n",
        "        data = data.shuffle(buffer_size=SHUFFLE_SIZE)\n",
        "\n",
        "    data = data.batch(BATCH_SIZE)\n",
        "    data = data.prefetch(PREFETCH_SIZE)\n",
        "    return data\n",
        "\n",
        "x_train = data_pipeline(x_train, True)\n",
        "x_test = data_pipeline(x_test, False)"
      ],
      "execution_count": 5,
      "outputs": []
    },
    {
      "cell_type": "markdown",
      "metadata": {
        "id": "TbJF5wJnadUn"
      },
      "source": [
        "## Encoder"
      ]
    },
    {
      "cell_type": "code",
      "metadata": {
        "id": "DUOYMyr8Z2TH"
      },
      "source": [
        "class Encoder(Model):\n",
        "    # TODO: Implement init. If necessary, add additional arguments to init. \n",
        "    # Please use an output dimension of 10 for the final dense layer.\n",
        "    def __init__():\n",
        "        super(Encoder, self).init()\n",
        "        raise NotImplementedError(\"TODO: Implement Encoder\")\n",
        "\n",
        "    # TODO: Implement call. If necessary, add additional arguments to call\n",
        "    def call(x):\n",
        "        raise NotImplementedError(\"TODO: Define call\")"
      ],
      "execution_count": 8,
      "outputs": []
    },
    {
      "cell_type": "markdown",
      "metadata": {
        "id": "sDvtHc90Z39Q"
      },
      "source": [
        "### Check Encoder"
      ]
    },
    {
      "cell_type": "code",
      "metadata": {
        "colab": {
          "base_uri": "https://localhost:8080/",
          "height": 237
        },
        "id": "TSuv2PKJZ7oE",
        "outputId": "1fff3cf8-0c98-4596-c6f0-1ba327affadc"
      },
      "source": [
        "test_inp = next(iter(x_train))\n",
        "# TODO: @Sascha: Maybe you need to adjust the init arguments?\n",
        "encoder = Encoder()\n",
        "out = encoder(x)\n",
        "# Assert that shape of out is BATCH_SIZE, 10\n",
        "debug.assert_equal(out.shape, tf.zeros(BATCH_SIZE, 10).shape)"
      ],
      "execution_count": 9,
      "outputs": [
        {
          "output_type": "error",
          "ename": "TypeError",
          "evalue": "ignored",
          "traceback": [
            "\u001b[0;31m---------------------------------------------------------------------------\u001b[0m",
            "\u001b[0;31mTypeError\u001b[0m                                 Traceback (most recent call last)",
            "\u001b[0;32m<ipython-input-9-b0bed050d043>\u001b[0m in \u001b[0;36m<module>\u001b[0;34m()\u001b[0m\n\u001b[1;32m      1\u001b[0m \u001b[0mtest_inp\u001b[0m \u001b[0;34m=\u001b[0m \u001b[0mnext\u001b[0m\u001b[0;34m(\u001b[0m\u001b[0miter\u001b[0m\u001b[0;34m(\u001b[0m\u001b[0mx_train\u001b[0m\u001b[0;34m)\u001b[0m\u001b[0;34m)\u001b[0m\u001b[0;34m\u001b[0m\u001b[0;34m\u001b[0m\u001b[0m\n\u001b[1;32m      2\u001b[0m \u001b[0;31m# TODO: @Sascha: Maybe you need to adjust the init arguments?\u001b[0m\u001b[0;34m\u001b[0m\u001b[0;34m\u001b[0m\u001b[0;34m\u001b[0m\u001b[0m\n\u001b[0;32m----> 3\u001b[0;31m \u001b[0mencoder\u001b[0m \u001b[0;34m=\u001b[0m \u001b[0mEncoder\u001b[0m\u001b[0;34m(\u001b[0m\u001b[0;34m)\u001b[0m\u001b[0;34m\u001b[0m\u001b[0;34m\u001b[0m\u001b[0m\n\u001b[0m\u001b[1;32m      4\u001b[0m \u001b[0mout\u001b[0m \u001b[0;34m=\u001b[0m \u001b[0mencoder\u001b[0m\u001b[0;34m(\u001b[0m\u001b[0mx\u001b[0m\u001b[0;34m)\u001b[0m\u001b[0;34m\u001b[0m\u001b[0;34m\u001b[0m\u001b[0m\n\u001b[1;32m      5\u001b[0m \u001b[0;31m# Assert that shape of out is BATCH_SIZE, 10\u001b[0m\u001b[0;34m\u001b[0m\u001b[0;34m\u001b[0m\u001b[0;34m\u001b[0m\u001b[0m\n",
            "\u001b[0;31mTypeError\u001b[0m: __init__() takes 0 positional arguments but 1 was given"
          ]
        }
      ]
    },
    {
      "cell_type": "code",
      "metadata": {
        "id": "D_5g1x25Z9WM"
      },
      "source": [
        "## Decoder"
      ],
      "execution_count": 10,
      "outputs": []
    },
    {
      "cell_type": "code",
      "metadata": {
        "id": "4HIsp-cRZ-Sw"
      },
      "source": [
        "class Decoder(Model):\n",
        "    # TODO: Implement init. If necessary, add additional arguments to init. \n",
        "    def __init__():\n",
        "        super(Decoder, self).init()\n",
        "        raise NotImplementedError(\"TODO: Implement Encoder\")\n",
        "\n",
        "    # TODO: Implement call. If necessary, add additional arguments to call\n",
        "    def call(x):\n",
        "        raise NotImplementedError(\"TODO: Define call\")"
      ],
      "execution_count": 11,
      "outputs": []
    },
    {
      "cell_type": "markdown",
      "metadata": {
        "id": "S2sqRgjvaEHD"
      },
      "source": [
        "### Check Decoder"
      ]
    },
    {
      "cell_type": "code",
      "metadata": {
        "colab": {
          "base_uri": "https://localhost:8080/",
          "height": 237
        },
        "id": "GzJkrN-baFkx",
        "outputId": "61a50eb0-2094-4740-b020-a76bad14d197"
      },
      "source": [
        "test_inp = tf.random.uniform((BATCH_SIZE, 10))\n",
        "# TODO: @Sarah: Maybe you need to adjust the init arguments?\n",
        "decoder = Decoder()\n",
        "out = decoder(x)\n",
        "# Assert that shape of out is BATCH_SIZE, 28, 28, 1\n",
        "check_tensor = tf.zeros(BATCH_SIZE, 28, 28, 1)\n",
        "# Check shape\n",
        "debug.assert_equal(out.shape, check_tensor.shape)\n",
        "# Check values between 0 and 1\n",
        "debug.assert_greater_equal(out, check_tensor)\n",
        "debug.assert_less_equal(out, check_tensor + 1)"
      ],
      "execution_count": 12,
      "outputs": [
        {
          "output_type": "error",
          "ename": "TypeError",
          "evalue": "ignored",
          "traceback": [
            "\u001b[0;31m---------------------------------------------------------------------------\u001b[0m",
            "\u001b[0;31mTypeError\u001b[0m                                 Traceback (most recent call last)",
            "\u001b[0;32m<ipython-input-12-93d0e559ffc0>\u001b[0m in \u001b[0;36m<module>\u001b[0;34m()\u001b[0m\n\u001b[1;32m      1\u001b[0m \u001b[0mtest_inp\u001b[0m \u001b[0;34m=\u001b[0m \u001b[0mtf\u001b[0m\u001b[0;34m.\u001b[0m\u001b[0mrandom\u001b[0m\u001b[0;34m.\u001b[0m\u001b[0muniform\u001b[0m\u001b[0;34m(\u001b[0m\u001b[0;34m(\u001b[0m\u001b[0mBATCH_SIZE\u001b[0m\u001b[0;34m,\u001b[0m \u001b[0;36m10\u001b[0m\u001b[0;34m)\u001b[0m\u001b[0;34m)\u001b[0m\u001b[0;34m\u001b[0m\u001b[0;34m\u001b[0m\u001b[0m\n\u001b[1;32m      2\u001b[0m \u001b[0;31m# TODO: @Sarah: Maybe you need to adjust the init arguments?\u001b[0m\u001b[0;34m\u001b[0m\u001b[0;34m\u001b[0m\u001b[0;34m\u001b[0m\u001b[0m\n\u001b[0;32m----> 3\u001b[0;31m \u001b[0mdecoder\u001b[0m \u001b[0;34m=\u001b[0m \u001b[0mDecoder\u001b[0m\u001b[0;34m(\u001b[0m\u001b[0;34m)\u001b[0m\u001b[0;34m\u001b[0m\u001b[0;34m\u001b[0m\u001b[0m\n\u001b[0m\u001b[1;32m      4\u001b[0m \u001b[0mout\u001b[0m \u001b[0;34m=\u001b[0m \u001b[0mdecoder\u001b[0m\u001b[0;34m(\u001b[0m\u001b[0mx\u001b[0m\u001b[0;34m)\u001b[0m\u001b[0;34m\u001b[0m\u001b[0;34m\u001b[0m\u001b[0m\n\u001b[1;32m      5\u001b[0m \u001b[0;31m# Assert that shape of out is BATCH_SIZE, 28, 28, 1\u001b[0m\u001b[0;34m\u001b[0m\u001b[0;34m\u001b[0m\u001b[0;34m\u001b[0m\u001b[0m\n",
            "\u001b[0;31mTypeError\u001b[0m: __init__() takes 0 positional arguments but 1 was given"
          ]
        }
      ]
    },
    {
      "cell_type": "markdown",
      "metadata": {
        "id": "CqNFUgeRZZlP"
      },
      "source": [
        "## Autoencoder"
      ]
    },
    {
      "cell_type": "code",
      "metadata": {
        "id": "p2UzZy4sZa4p"
      },
      "source": [
        "class Autoencoder(Model):\n",
        "    def __init__():\n",
        "        super(Autoencoder, self).__init__()\n",
        "        self.encoder = Encoder()\n",
        "        self.decoder = Decoder()\n",
        "\n",
        "    def call(self, x):    \n",
        "        x = self.encoder(x)\n",
        "        x = self.decoder(x)\n",
        "\n",
        "        return x\n",
        "\n",
        "    def embed(self, x):\n",
        "        return self.encoder(x)"
      ],
      "execution_count": 13,
      "outputs": []
    },
    {
      "cell_type": "markdown",
      "metadata": {
        "id": "JMlbWuaqZc1E"
      },
      "source": [
        "## Helper functions"
      ]
    },
    {
      "cell_type": "code",
      "metadata": {
        "id": "a73_zXI8ZdyZ"
      },
      "source": [
        "def train_step(model, input, target, loss_function, optimizer):\n",
        "  # loss_object and optimizer_object are instances of respective tensorflow classes\n",
        "  with tf.GradientTape() as tape:\n",
        "    prediction = model(input, training=True)\n",
        "    loss = loss_function(target, prediction)\n",
        "    gradients = tape.gradient(loss, model.trainable_variables)\n",
        "  optimizer.apply_gradients(zip(gradients, model.trainable_variables))\n",
        "  return loss \n",
        "\n",
        "def test(model, test_data, loss_function):\n",
        "  # test over complete test data\n",
        "\n",
        "  test_accuracy_aggregator = []\n",
        "  test_loss_aggregator = []\n",
        "\n",
        "  for (input, target) in test_data:\n",
        "    prediction = model(input)\n",
        "    sample_test_loss = loss_function(target, prediction)\n",
        "    sample_test_accuracy =  np.argmax(target, axis=1) == np.argmax(prediction, axis=1)\n",
        "    sample_test_accuracy = np.mean(sample_test_accuracy)\n",
        "    test_loss_aggregator.append(sample_test_loss.numpy())\n",
        "    test_accuracy_aggregator.append(np.mean(sample_test_accuracy))\n",
        "\n",
        "  test_loss = np.mean(test_loss_aggregator)\n",
        "  test_accuracy = np.mean(test_accuracy_aggregator)\n",
        "\n",
        "  return test_loss, test_accuracy\n",
        "\n",
        "  def plot_stats(train_stat, test_stat, stat_name):\n",
        "    plt.figure()\n",
        "    line1, = plt.plot(train_stat)\n",
        "    line2, = plt.plot(test_stat)\n",
        "    plt.xlabel(\"Training steps\")\n",
        "    plt.ylabel(stat_name)\n",
        "    plt.legend((line1, line2), (\"training\", \"test\"))\n",
        "    plt.show()"
      ],
      "execution_count": 14,
      "outputs": []
    },
    {
      "cell_type": "markdown",
      "metadata": {
        "id": "l6T40tU_Zhl9"
      },
      "source": [
        "## Prepare for training"
      ]
    },
    {
      "cell_type": "code",
      "metadata": {
        "colab": {
          "base_uri": "https://localhost:8080/",
          "height": 202
        },
        "id": "YNO5r8R9ZjU9",
        "outputId": "9634d972-0fdb-433a-eb39-40715d88f29b"
      },
      "source": [
        "NUM_EPOCHS = 10\n",
        "LEARNING_RATE = 0.001   \n",
        "loss = tf.keras.losses.MeanSquaredError()\n",
        "OPTIMIZER = tf.keras.optimizers.Adam(LEARNING_RATE)\n",
        "TRAIN_STAT_DIM = (int(x_train.cardinality()))\n",
        "\n",
        "# Collects embeddings of test set. \n",
        "# First dimension: Autoencoder vs VAE\n",
        "# Second dimension: Embedding\n",
        "EMBEDDINGS = [[], []]\n",
        "\n",
        "# TODO: Define models\n",
        "models = None\n",
        "raise NotImplementedError(\"Define models\")"
      ],
      "execution_count": 15,
      "outputs": [
        {
          "output_type": "error",
          "ename": "NotImplementedError",
          "evalue": "ignored",
          "traceback": [
            "\u001b[0;31m---------------------------------------------------------------------------\u001b[0m",
            "\u001b[0;31mNotImplementedError\u001b[0m                       Traceback (most recent call last)",
            "\u001b[0;32m<ipython-input-15-5db78f0e005a>\u001b[0m in \u001b[0;36m<module>\u001b[0;34m()\u001b[0m\n\u001b[1;32m     12\u001b[0m \u001b[0;31m# TODO: Define models\u001b[0m\u001b[0;34m\u001b[0m\u001b[0;34m\u001b[0m\u001b[0;34m\u001b[0m\u001b[0m\n\u001b[1;32m     13\u001b[0m \u001b[0mmodels\u001b[0m \u001b[0;34m=\u001b[0m \u001b[0;32mNone\u001b[0m\u001b[0;34m\u001b[0m\u001b[0;34m\u001b[0m\u001b[0m\n\u001b[0;32m---> 14\u001b[0;31m \u001b[0;32mraise\u001b[0m \u001b[0mNotImplementedError\u001b[0m\u001b[0;34m(\u001b[0m\u001b[0;34m\"Define models\"\u001b[0m\u001b[0;34m)\u001b[0m\u001b[0;34m\u001b[0m\u001b[0;34m\u001b[0m\u001b[0m\n\u001b[0m",
            "\u001b[0;31mNotImplementedError\u001b[0m: Define models"
          ]
        }
      ]
    },
    {
      "cell_type": "code",
      "metadata": {
        "colab": {
          "base_uri": "https://localhost:8080/",
          "height": 237
        },
        "id": "H9LywnzRZm-f",
        "outputId": "cc4fc7b9-76e4-4d92-f7b7-acb2fbadb69d"
      },
      "source": [
        "model_id = 0\n",
        "\n",
        "for model in models:\n",
        "\n",
        "    # TODO: maybe change loss for different models\n",
        "    # remove all active models for memory purposes\n",
        "    tf.keras.backend.clear_session()\n",
        "    model = eval(model_str)\n",
        "\n",
        "\n",
        "    # Initialize lists for later visualization.\n",
        "    train_losses = []\n",
        "    train_accuracies = []\n",
        "    test_losses = []\n",
        "    test_accuracies = []\n",
        "\n",
        "    for epoch in range(NUM_EPOCHS):\n",
        "        print('Epoch: ' + str(epoch+1))\n",
        "\n",
        "        # shuffle train data. No need to shuffle test data\n",
        "        train_data = train_data.shuffle(buffer_size=BATCH_SIZE)\n",
        "\n",
        "        train_loss_stat = np.empty(TRAIN_STAT_DIM)\n",
        "        train_accuracy_stat = np.empty(TRAIN_STAT_DIM)\n",
        "        for i, (input, target) in enumerate(train_data):\n",
        "            train_loss, train_accuracy = train_step(model, input, target, loss, optimizer)\n",
        "            train_loss_stat[i] = train_loss\n",
        "            train_accuracy_stat[i] = train_accuracy\n",
        "        train_losses.append(np.mean(train_loss_stat))\n",
        "        train_accuracies.append(np.mean(train_accuracy_stat))\n",
        "\n",
        "        # testing\n",
        "        test_loss, test_accuracy = test(model, x_test, loss)\n",
        "        test_losses.append(test_loss)\n",
        "        test_accuracies.append(test_accuracy)\n",
        "\n",
        "        # TODO: save\n",
        "\n",
        "    # Get the embedding of the first 1000 images after training\n",
        "    for test_batch in x_test:\n",
        "\n",
        "        EMBEDDINGS[model_id].append(model.embed(test_batch))      \n",
        "\n",
        "    model_id = model_id + 1"
      ],
      "execution_count": 16,
      "outputs": [
        {
          "output_type": "error",
          "ename": "TypeError",
          "evalue": "ignored",
          "traceback": [
            "\u001b[0;31m---------------------------------------------------------------------------\u001b[0m",
            "\u001b[0;31mTypeError\u001b[0m                                 Traceback (most recent call last)",
            "\u001b[0;32m<ipython-input-16-bea0507780c4>\u001b[0m in \u001b[0;36m<module>\u001b[0;34m()\u001b[0m\n\u001b[1;32m      1\u001b[0m \u001b[0mmodel_id\u001b[0m \u001b[0;34m=\u001b[0m \u001b[0;36m0\u001b[0m\u001b[0;34m\u001b[0m\u001b[0;34m\u001b[0m\u001b[0m\n\u001b[1;32m      2\u001b[0m \u001b[0;34m\u001b[0m\u001b[0m\n\u001b[0;32m----> 3\u001b[0;31m \u001b[0;32mfor\u001b[0m \u001b[0mmodel\u001b[0m \u001b[0;32min\u001b[0m \u001b[0mmodels\u001b[0m\u001b[0;34m:\u001b[0m\u001b[0;34m\u001b[0m\u001b[0;34m\u001b[0m\u001b[0m\n\u001b[0m\u001b[1;32m      4\u001b[0m \u001b[0;34m\u001b[0m\u001b[0m\n\u001b[1;32m      5\u001b[0m     \u001b[0;31m# TODO: maybe change loss for different models\u001b[0m\u001b[0;34m\u001b[0m\u001b[0;34m\u001b[0m\u001b[0;34m\u001b[0m\u001b[0m\n",
            "\u001b[0;31mTypeError\u001b[0m: 'NoneType' object is not iterable"
          ]
        }
      ]
    },
    {
      "cell_type": "markdown",
      "metadata": {
        "id": "-VT4jnt2ZpVV"
      },
      "source": [
        "## Plotting"
      ]
    },
    {
      "cell_type": "code",
      "metadata": {
        "id": "w2XcrjzhZqQk"
      },
      "source": [
        "from sklearn.manifold import TSNE\n",
        "\n",
        "# Flatten the embedding list\n",
        "np.array()"
      ],
      "execution_count": null,
      "outputs": []
    }
  ]
}
