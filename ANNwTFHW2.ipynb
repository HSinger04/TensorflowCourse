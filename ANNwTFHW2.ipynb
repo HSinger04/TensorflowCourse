{
  "nbformat": 4,
  "nbformat_minor": 0,
  "metadata": {
    "colab": {
      "name": "Flipped_classroom02.ipynb",
      "provenance": [],
      "collapsed_sections": []
    },
    "kernelspec": {
      "display_name": "Python 3",
      "language": "python",
      "name": "python3"
    },
    "language_info": {
      "codemirror_mode": {
        "name": "ipython",
        "version": 3
      },
      "file_extension": ".py",
      "mimetype": "text/x-python",
      "name": "python",
      "nbconvert_exporter": "python",
      "pygments_lexer": "ipython3",
      "version": "3.6.9"
    }
  },
  "cells": [
    {
      "cell_type": "markdown",
      "metadata": {
        "id": "TYBg5y-omqSi"
      },
      "source": [
        "[![Open In Colab](https://colab.research.google.com/assets/colab-badge.svg)](https://colab.research.google.com/github/sascha-senko/TensorflowCourse/blob/main/ANNwTFHW2.ipynb)"
      ]
    },
    {
      "cell_type": "markdown",
      "metadata": {
        "id": "8D0HUwWAEKeM"
      },
      "source": [
        "# IANNwTF Homework 2 Submission\n",
        "\n",
        "## Defining the model."
      ]
    },
    {
      "cell_type": "code",
      "metadata": {
        "id": "7euT0HdQEKeR"
      },
      "source": [
        "# Do import\n",
        "import numpy as np\n",
        "from matplotlib import pyplot as plt"
      ],
      "execution_count": null,
      "outputs": []
    },
    {
      "cell_type": "markdown",
      "metadata": {
        "id": "gvmpS7pRmoZv"
      },
      "source": [
        "#### Define Sigmoid and Sigmoid's first derivative."
      ]
    },
    {
      "cell_type": "code",
      "metadata": {
        "pycharm": {
          "name": "#%%\n"
        },
        "id": "UwFnCtdymoZy"
      },
      "source": [
        "def sigmoid(x):\n",
        "    return 1 / (1 + np.exp(-x))\n",
        "\n",
        "\n",
        "def sigmoid_prime(x):\n",
        "    \"\"\"Return first derivative of sigmoid.\"\"\"\n",
        "    return sigmoid(x) * (1 - sigmoid(x))\n",
        "\n",
        "\n",
        "# In case we want to use a different activation function.\n",
        "# Store for each function the 0th and 1st derivative as list\n",
        "FUNCS = {\"sigmoid\": [sigmoid, sigmoid_prime]}"
      ],
      "execution_count": null,
      "outputs": []
    },
    {
      "cell_type": "markdown",
      "metadata": {
        "id": "0_PT3Q_gEKer"
      },
      "source": [
        "#### Implement Perceptron."
      ]
    },
    {
      "cell_type": "code",
      "metadata": {
        "id": "pDWFmomzEKet"
      },
      "source": [
        "class Perceptron:\n",
        "\n",
        "    def __init__(self, input_units, func_name):\n",
        "        \"\"\"\n",
        "\n",
        "        :param input_units: input dimension\n",
        "        :param func_name: the activation function\n",
        "        \"\"\"\n",
        "        self.act_func = FUNCS[func_name][0]\n",
        "        self.act_func_prime = FUNCS[func_name][1]\n",
        "        self.input_units = input_units\n",
        "        # 1. Initialize random weights and a random bias term. Check 'np.random.randn()'.\n",
        "        self.weights = np.random.randn(input_units)\n",
        "        self.bias = np.random.randn()\n",
        "        # 2. Define the learning rate as 1.\n",
        "        self.alpha = 1\n",
        "        # Field that stores last received input and drive in member function forward_step. Used for backpropagation\n",
        "        self.input = None\n",
        "        self.drive = None\n",
        "\n",
        "    def forward_step(self, input):\n",
        "        # Perform a perceptron forward step.\n",
        "        # 1. Calculate the drive. You can use @ as a matrix multiplication command.\n",
        "        # Store input and drive for later usage for backprop\n",
        "        self.input = input\n",
        "        self.drive = self.weights @ input + self.bias\n",
        "        # An alternative would be:\n",
        "        # weighted_sum =  np.dot(drive, self.weights) + self.bias\n",
        "\n",
        "        # 2. Return activation function's output\n",
        "        return self.act_func(self.drive)\n",
        "\n",
        "    def update(self, delta_i):\n",
        "        \"\"\"\n",
        "        update weights of Perceptron\n",
        "\n",
        "        :param delta_i: the i-th entry of error signal. Is a scalar\n",
        "        \"\"\"\n",
        "        self.weights -= self.alpha * delta_i * np.array(self.input)\n",
        "        self.bias -= self.alpha * delta_i\n",
        "\n",
        "    # member function from the Perceptron class from the\n",
        "    # Flipped classroom that we don't need anymore\n",
        "    \"\"\"\n",
        "    def training_step(self, input, label):\n",
        "        # Perform a whole training step (including the forward step).\n",
        "        # 1. Forward step.\n",
        "        prediction = self.forward_step(input)\n",
        "        # 2. Calculate the weight updates.\n",
        "        delta_weights = self.alpha * (label - prediction) * input\n",
        "        # 3. Calculate the bias update. We consider 1 as the \"drive\" to the bias,\n",
        "        # so that we can treat it just like t\n",
        "        # he other weights.\n",
        "        delta_bias = self.alpha * (label - prediction) * 1\n",
        "        # 4. Update weights and bias.\n",
        "        self.weights += delta_weights\n",
        "        self.bias += delta_bias\n",
        "    \"\"\""
      ],
      "execution_count": null,
      "outputs": []
    },
    {
      "cell_type": "markdown",
      "metadata": {
        "id": "DrnCRFB0EKe1"
      },
      "source": [
        "#### Implement Multi-layer Perceptron."
      ]
    },
    {
      "cell_type": "code",
      "metadata": {
        "id": "rZ0Bll4-EKe2"
      },
      "source": [
        "class MLP:\n",
        "\n",
        "    def __init__(self, input_units, hidden_structure, func_name):\n",
        "        \"\"\"\n",
        "\n",
        "        :param input_units: input data dimension\n",
        "        :param hidden_structure: specifies the architecture of the MLP\n",
        "        :param func_name: activation function of hidden layers' perceptrons\n",
        "        \"\"\"\n",
        "        # stores Perceptrons of hidden layers\n",
        "        self.layers = []\n",
        "        prev_output_units = input_units\n",
        "        # iterate through layers\n",
        "        for i, layer_dim in enumerate(hidden_structure):\n",
        "            hidden_layer = []\n",
        "\n",
        "            # initialize and store Perceptrons of layer i\n",
        "            for j in range(layer_dim):\n",
        "                hidden_layer.append(Perceptron(prev_output_units, func_name))\n",
        "\n",
        "            # this layer's output dim is next layer's input dim\n",
        "            prev_output_units = layer_dim\n",
        "            # add layer to hidden_layers\n",
        "            self.layers.append(hidden_layer)\n",
        "\n",
        "        self.output = Perceptron(prev_output_units, func_name)\n",
        "\n",
        "    def forward_step(self, input):\n",
        "        inp = input\n",
        "\n",
        "        for layer in self.layers:\n",
        "            out = []\n",
        "            # compute output of current layer and store as next_inp for next layer\n",
        "            for perc in layer:\n",
        "                # collect each perceptron's output as vector\n",
        "                out.append(perc.forward_step(inp))\n",
        "            # this output is input for next layer\n",
        "            inp = out\n",
        "\n",
        "        # don't forget the output neuron\n",
        "        return self.output.forward_step(inp)\n",
        "\n",
        "    def backprop_step(self, out_delta):\n",
        "        \"\"\"\n",
        "        Backpropagate loss and update weights\n",
        "\n",
        "        :param out_delta: delta_i for output neuron\n",
        "        \"\"\"\n",
        "\n",
        "        # compute part of delta for last hidden layer before weights get updated with last.update.\n",
        "        current_delta = self.output.weights * out_delta\n",
        "        self.output.update(out_delta)\n",
        "\n",
        "        # Compute backprop for hidden layer neurons\n",
        "        for layer in reversed(self.layers):\n",
        "            # saves delta for next layer\n",
        "            next_delta = np.zeros(layer[0].weights.shape)\n",
        "            # for the i-th perceptron in current layer, do:\n",
        "            for i, perc in enumerate(layer):\n",
        "                # complete i-th entry of current_delta. This is a scalar only multiplication\n",
        "                current_delta[i] = current_delta[i] * np.array(perc.act_func_prime(perc.drive))\n",
        "                # compute part of new_delta\n",
        "                next_delta += current_delta[i] * perc.weights\n",
        "                # feed in i-th entry of old_delta to i-th perceptron\n",
        "                perc.update(current_delta[i])\n",
        "            #  next_delta becomes current_delta for next layer\n",
        "            current_delta = next_delta\n",
        "\n",
        "    def training_step(self, input, label):\n",
        "        \"\"\"\n",
        "        Train network for one step\n",
        "\n",
        "        :param input: training datum\n",
        "        :param label: true output of input\n",
        "        \"\"\"\n",
        "        # Do forward_step and compute loss\n",
        "        out = self.forward_step(input)\n",
        "        last = self.output\n",
        "        # computation for out_delta\n",
        "        last_delta = -(label - out) * last.act_func_prime(last.drive)\n",
        "        self.backprop_step(last_delta)"
      ],
      "execution_count": null,
      "outputs": []
    },
    {
      "cell_type": "markdown",
      "metadata": {
        "id": "88m7nylyqaly"
      },
      "source": [
        "## Training the model.\n",
        "\n",
        "#### Data prepration."
      ]
    },
    {
      "cell_type": "code",
      "metadata": {
        "id": "q4bZnF_tchiQ"
      },
      "source": [
        "# These are the four possible input pairs of (x1,x2).\n",
        "x = np.array([[0, 0], [0, 1], [1, 0], [1, 1]])\n",
        "\n",
        "# These are possible labels form some logical gates.\n",
        "labels = {\"AND\": np.array([0, 0, 0, 1]),\n",
        "          \"OR\": np.array([0, 1, 1, 1]),\n",
        "          \"NAND\": np.array([1, 1, 1, 0]),\n",
        "          \"NOR\": np.array([1, 0, 0, 0]),\n",
        "          \"XOR\": np.array([0, 1, 1, 0])}\n"
      ],
      "execution_count": null,
      "outputs": []
    },
    {
      "cell_type": "markdown",
      "metadata": {
        "id": "O8vk4Qe2EKe9"
      },
      "source": [
        "#### Actual training."
      ]
    },
    {
      "cell_type": "code",
      "metadata": {
        "id": "QmodvcrUEKfA"
      },
      "source": [
        "# records statistics of all datasets\n",
        "all_steps = {}\n",
        "all_losses = {}\n",
        "all_accuracies = {}\n",
        "\n",
        "# for each data set\n",
        "for key in labels:\n",
        "\n",
        "    # instantiate MLP model\n",
        "    mlp = MLP(2, [4], \"sigmoid\")\n",
        "\n",
        "    # track statistics for current dataset\n",
        "    accuracies = []\n",
        "    losses = []\n",
        "    steps = []\n",
        "\n",
        "    for epoch in range(1000):\n",
        "        steps.append(epoch)\n",
        "\n",
        "        # track statistics for this epoch\n",
        "        accuracy_sum = 0\n",
        "        loss_sum = 0\n",
        "\n",
        "        # iterate over all data points\n",
        "        for inp, t in zip(x, labels[key]):\n",
        "            # update weights\n",
        "            mlp.training_step(inp, t)\n",
        "            # get predictions...\n",
        "            # probabilistic prediction\n",
        "            prob_pred = mlp.forward_step(inp)\n",
        "            # deterministic prediction\n",
        "            discrete_pred = int(prob_pred >= 0.5)\n",
        "            # record accuracy\n",
        "            accuracy_sum += discrete_pred == t\n",
        "            # record loss\n",
        "            loss_sum += (prob_pred - t) ** 2\n",
        "\n",
        "        # record average values\n",
        "        accuracies.append(accuracy_sum / 4)\n",
        "        losses.append(loss_sum / 4)\n",
        "\n",
        "    # record statistics for later use in plotting\n",
        "    all_steps[key] = steps\n",
        "    all_losses[key] = losses\n",
        "    all_accuracies[key] = accuracies"
      ],
      "execution_count": null,
      "outputs": []
    },
    {
      "cell_type": "markdown",
      "metadata": {
        "id": "oU3aBtCpEKfF"
      },
      "source": [
        "#### Plot the statistics for all the data sets."
      ]
    },
    {
      "cell_type": "code",
      "metadata": {
        "id": "FPgctnhDEKfH",
        "pycharm": {
          "name": "#%%\n"
        },
        "outputId": "c55bb995-9ad0-4b36-c99b-2693728941e2"
      },
      "source": [
        "for key in all_steps:\n",
        "\n",
        "    steps = all_steps[key]\n",
        "    losses = all_losses[key]\n",
        "    accuracies = all_accuracies[key]\n",
        "\n",
        "    ylabel_part = key + \" \"\n",
        "\n",
        "    # plot accuracy\n",
        "    plt.figure()\n",
        "    plt.plot(steps, accuracies)\n",
        "    plt.xlabel(\"Epochs\")\n",
        "    plt.ylabel(ylabel_part + \"Accuracy\")\n",
        "    # accuracy is between 0 and 1\n",
        "    plt.ylim([-0.1, 1.2])\n",
        "    plt.show()\n",
        "\n",
        "    # plot loss\n",
        "    plt.figure()\n",
        "    plt.plot(steps, losses)\n",
        "    plt.xlabel(\"Epochs\")\n",
        "    plt.ylabel(ylabel_part + \"Loss\")\n",
        "    # loss is between 0 and 1\n",
        "    plt.ylim([-0.1, 1.1])\n",
        "    plt.show()\n",
        "\n",
        "\n"
      ],
      "execution_count": null,
      "outputs": [
        {
          "output_type": "display_data",
          "data": {
            "image/png": "[encoded data removed]",
            "text/plain": [
              "<Figure size 432x288 with 1 Axes>"
            ]
          },
          "metadata": {
            "tags": [],
            "needs_background": "light"
          }
        },
        {
          "output_type": "display_data",
          "data": {
            "image/png": "[encoded data removed]",
            "text/plain": [
              "<Figure size 432x288 with 1 Axes>"
            ]
          },
          "metadata": {
            "tags": [],
            "needs_background": "light"
          }
        },
        {
          "output_type": "display_data",
          "data": {
            "image/png": "[encoded data removed]",
            "text/plain": [
              "<Figure size 432x288 with 1 Axes>"
            ]
          },
          "metadata": {
            "tags": [],
            "needs_background": "light"
          }
        },
        {
          "output_type": "display_data",
          "data": {
            "image/png": "[encoded data removed]",
            "text/plain": [
              "<Figure size 432x288 with 1 Axes>"
            ]
          },
          "metadata": {
            "tags": [],
            "needs_background": "light"
          }
        },
        {
          "output_type": "display_data",
          "data": {
            "image/png": "[encoded data removed]",
            "text/plain": [
              "<Figure size 432x288 with 1 Axes>"
            ]
          },
          "metadata": {
            "tags": [],
            "needs_background": "light"
          }
        },
        {
          "output_type": "display_data",
          "data": {
            "image/png": "[encoded data removed]",
            "text/plain": [
              "<Figure size 432x288 with 1 Axes>"
            ]
          },
          "metadata": {
            "tags": [],
            "needs_background": "light"
          }
        },
        {
          "output_type": "display_data",
          "data": {
            "image/png": "[encoded data removed]",
            "text/plain": [
              "<Figure size 432x288 with 1 Axes>"
            ]
          },
          "metadata": {
            "tags": [],
            "needs_background": "light"
          }
        },
        {
          "output_type": "display_data",
          "data": {
            "image/png": "[encoded data removed]",
            "text/plain": [
              "<Figure size 432x288 with 1 Axes>"
            ]
          },
          "metadata": {
            "tags": [],
            "needs_background": "light"
          }
        },
        {
          "output_type": "display_data",
          "data": {
            "image/png": "[encoded data removed]",
            "text/plain": [
              "<Figure size 432x288 with 1 Axes>"
            ]
          },
          "metadata": {
            "tags": [],
            "needs_background": "light"
          }
        },
        {
          "output_type": "display_data",
          "data": {
            "image/png": "[encoded data removed]",
            "text/plain": [
              "<Figure size 432x288 with 1 Axes>"
            ]
          },
          "metadata": {
            "tags": [],
            "needs_background": "light"
          }
        }
      ]
    },
    {
      "cell_type": "code",
      "metadata": {
        "pycharm": {
          "name": "#%%\n"
        },
        "id": "lEniYEBzmoaH"
      },
      "source": [
        ""
      ],
      "execution_count": null,
      "outputs": []
    },
    {
      "cell_type": "code",
      "metadata": {
        "id": "cJYJSfqYmoaI"
      },
      "source": [
        ""
      ],
      "execution_count": null,
      "outputs": []
    }
  ]
}